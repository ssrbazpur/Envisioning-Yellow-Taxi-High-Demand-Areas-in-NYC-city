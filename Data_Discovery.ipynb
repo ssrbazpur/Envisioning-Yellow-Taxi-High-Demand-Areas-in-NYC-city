{
  "nbformat": 4,
  "nbformat_minor": 0,
  "metadata": {
    "colab": {
      "name": "Data Discovery.ipynb",
      "provenance": [],
      "collapsed_sections": [],
      "machine_shape": "hm",
      "mount_file_id": "1bC78kx2SrWmK02tkiMeVWc06DphBmK6_",
      "authorship_tag": "ABX9TyP1HH4PYpz9/DWcTfbC+3ih",
      "include_colab_link": true
    },
    "kernelspec": {
      "name": "python3",
      "display_name": "Python 3"
    }
  },
  "cells": [
    {
      "cell_type": "markdown",
      "metadata": {
        "id": "view-in-github",
        "colab_type": "text"
      },
      "source": [
        "<a href=\"https://colab.research.google.com/github/ssrbazpur/Envisioning-Yellow-Taxi-High-Demand-Areas-in-NYC-city/blob/master/Data_Discovery.ipynb\" target=\"_parent\"><img src=\"https://colab.research.google.com/assets/colab-badge.svg\" alt=\"Open In Colab\"/></a>"
      ]
    },
    {
      "cell_type": "markdown",
      "metadata": {
        "id": "BoAq9MXRLm3p",
        "colab_type": "text"
      },
      "source": [
        "<h3><center><b><u>Data Disovery Phase</u></b></center> </h3>\n",
        "<h4><center><b>Prepared By: Simranjeet Randhawa</b></center> </h4>\n",
        "<h4><center><b>Student ID: 200412297</b></center> </h4>\n",
        "\n",
        "\n"
      ]
    },
    {
      "cell_type": "markdown",
      "metadata": {
        "id": "7DylVrojTe9r",
        "colab_type": "text"
      },
      "source": [
        "<h3><b> Data Discovery Phase </b></h3>"
      ]
    },
    {
      "cell_type": "markdown",
      "metadata": {
        "id": "zBcALDSoC9fa",
        "colab_type": "text"
      },
      "source": [
        "<h4><b>1. Data Gathering</b></h4>\n",
        "<p align=\"justify\">Data Gathering is the first step of the machine learning life cycle. The goal of this step is to identify and obtain all data-related problems.\n",
        "In this step, we need to identify the different data sources, as data can be collected from various sources such as files, database, internet, or mobile devices. It is one of the most important steps of the life cycle. The quantity and quality of the collected data will determine the efficiency of the output. The more will be the data, the more accurate will be the prediction.\n",
        "This step includes the below tasks:\n",
        "<ul>\n",
        "<li>Identify various data sources</li>\n",
        "<li>Collect data</li>\n",
        "<li>Integrate the data obtained from different sources</li>\n",
        "</ul> By performing the above task, we get a coherent set of data, also called as a dataset. It will be used in further steps.</p>"
      ]
    },
    {
      "cell_type": "markdown",
      "metadata": {
        "id": "TcXEeKOPkEjI",
        "colab_type": "text"
      },
      "source": [
        "<h4><b>2. Identifying Data Sources</b></h4>\n",
        "<p align=\"justify\">\n",
        "<ul>\n",
        "\n",
        "<li><b>Weather Data:</b><p align=\"justify\"> This public dataset was created by the National Oceanic and Atmospheric Administration (NOAA) and includes global data obtained from the USAF Climatology Center. This dataset covers GSOD data between 1929 and present (updated daily), collected from over 9000 stations.\n",
        "</p>\n",
        "</li>\n",
        "\n",
        "<li><b>Zone Data:</b> <p align=\"justify\">It consists of an Shape file that is converted into a CSV file using an online converter and then processed using pandas. It consist of 263 zones in NYC city where the yellow taxi operates.</p></li>\n",
        "</p>\n",
        "<li><b>Yellow Taxi Trip Data:</b><p align=\"justify\"> The NYC yellow taxi data set is avaiable openly on NYC government site.The data used in the attached datasets were collected and provided to the NYC Taxi and Limousine Commission (TLC) by technology providers authorized under the Taxicab & Livery Passenger Enhancement Programs.</p></li>\n",
        "</ul>\n",
        "\n",
        "    "
      ]
    },
    {
      "cell_type": "markdown",
      "metadata": {
        "id": "nL5qHDv9l_28",
        "colab_type": "text"
      },
      "source": [
        "<h4><b>3. Data Collection</b></h4>\n",
        "<p align=\"justify\">\n",
        "The yellow taxi trip records include fields capturing pick-up and drop-off dates/times, pick-up and drop-off locations, trip distances, itemized fares, rate types, payment types, and driver-reported passenger counts. It is avaiable as s3 amazon data bucket which was initially difficult to read using a pandas dataframe. Hence the requirement of Pyspark was felt that eased the task of collecting the data from s3 bucket and use the concept of RDD to help process large set of data.\n",
        "</p>\n",
        "    "
      ]
    },
    {
      "cell_type": "markdown",
      "metadata": {
        "id": "7o4RWin1CdHG",
        "colab_type": "text"
      },
      "source": [
        "<h4><b>3.1 Data Collection using Pandas</b></h4>"
      ]
    },
    {
      "cell_type": "code",
      "metadata": {
        "id": "wHZ7oWK4CcIs",
        "colab_type": "code",
        "colab": {}
      },
      "source": [
        "import pandas as pd\n",
        "df1=pd.read_csv(\"https://s3.amazonaws.com/nyc-tlc/trip+data/yellow_tripdata_2019-01.csv\")\n",
        "df2=pd.read_csv(\"https://s3.amazonaws.com/nyc-tlc/trip+data/yellow_tripdata_2019-02.csv\")\n",
        "df3=pd.read_csv(\"https://s3.amazonaws.com/nyc-tlc/trip+data/yellow_tripdata_2019-03.csv\")\n",
        "df4=pd.read_csv(\"https://s3.amazonaws.com/nyc-tlc/trip+data/yellow_tripdata_2019-04.csv\")\n",
        "df5=pd.read_csv(\"https://s3.amazonaws.com/nyc-tlc/trip+data/yellow_tripdata_2019-05.csv\")\n",
        "df6=pd.read_csv(\"https://s3.amazonaws.com/nyc-tlc/trip+data/yellow_tripdata_2019-06.csv\")\n",
        "df7=pd.read_csv(\"https://s3.amazonaws.com/nyc-tlc/trip+data/yellow_tripdata_2019-07.csv\")\n",
        "df8=pd.read_csv(\"https://s3.amazonaws.com/nyc-tlc/trip+data/yellow_tripdata_2019-08.csv\")\n",
        "df9=pd.read_csv(\"https://s3.amazonaws.com/nyc-tlc/trip+data/yellow_tripdata_2019-09.csv\")\n",
        "df10=pd.read_csv(\"https://s3.amazonaws.com/nyc-tlc/trip+data/yellow_tripdata_2019-10.csv\")\n",
        "df11=pd.read_csv(\"https://s3.amazonaws.com/nyc-tlc/trip+data/yellow_tripdata_2019-11.csv\")\n",
        "df12=pd.read_csv(\"https://s3.amazonaws.com/nyc-tlc/trip+data/yellow_tripdata_2019-12.csv\")"
      ],
      "execution_count": 0,
      "outputs": []
    },
    {
      "cell_type": "code",
      "metadata": {
        "id": "sNnIZs4tC-j4",
        "colab_type": "code",
        "colab": {}
      },
      "source": [
        "frames=[df1,df2,df3,df4,df5,df6,df7,df8,df9,df10,df11,df12]\n",
        "result = pd.concat(frames)"
      ],
      "execution_count": 0,
      "outputs": []
    },
    {
      "cell_type": "markdown",
      "metadata": {
        "id": "vxkceapLDb0S",
        "colab_type": "text"
      },
      "source": [
        "<p align=\"justify\">\n",
        "It was giving Not enough memory error. I decided to go with Pyspark which uses the RDD architecture which consumes less RAM. Also I setup the environment for RDD and also upgraded my RAM TO 25 GB with a standalone cluster on Google Colab.\n",
        "</p>"
      ]
    },
    {
      "cell_type": "markdown",
      "metadata": {
        "id": "nc0fiIpuCW23",
        "colab_type": "text"
      },
      "source": [
        "<h4><b>3.2 Data Collection using Pyspark</b></h4>"
      ]
    },
    {
      "cell_type": "markdown",
      "metadata": {
        "id": "HM-lGruzgKr0",
        "colab_type": "text"
      },
      "source": [
        "<p> <b> <u> 2018 Taxi Data Collection </u></b> </p>"
      ]
    },
    {
      "cell_type": "code",
      "metadata": {
        "id": "OBUvOAp0qb2K",
        "colab_type": "code",
        "colab": {}
      },
      "source": [
        "!apt-get install openjdk-8-jdk-headless -qq > /dev/null\n",
        "!wget -q http://apache.osuosl.org/spark/spark-2.4.5/spark-2.4.5-bin-hadoop2.7.tgz\n",
        "!tar xf spark-2.4.5-bin-hadoop2.7.tgz\n",
        "!pip install -q findspark"
      ],
      "execution_count": 0,
      "outputs": []
    },
    {
      "cell_type": "code",
      "metadata": {
        "id": "ccwEi-2usXk5",
        "colab_type": "code",
        "colab": {}
      },
      "source": [
        "# 2. Setup Environment Variables\n",
        "import os\n",
        "os.environ[\"JAVA_HOME\"] = \"/usr/lib/jvm/java-8-openjdk-amd64\"\n",
        "os.environ[\"SPARK_HOME\"] = \"/content/spark-2.4.5-bin-hadoop2.7\""
      ],
      "execution_count": 0,
      "outputs": []
    },
    {
      "cell_type": "code",
      "metadata": {
        "id": "_87nK6X4czVz",
        "colab_type": "code",
        "colab": {}
      },
      "source": [
        "import findspark\n",
        "findspark.init()"
      ],
      "execution_count": 0,
      "outputs": []
    },
    {
      "cell_type": "code",
      "metadata": {
        "id": "_E-NWT58yBsU",
        "colab_type": "code",
        "colab": {}
      },
      "source": [
        "from pyspark import SparkContext\n",
        "from pyspark.sql import HiveContext, SQLContext, Row\n",
        "from pyspark.sql.types import *\n",
        "from datetime import datetime\n",
        "from pyspark.sql.functions import col, date_sub, log, mean, to_date, udf, unix_timestamp\n",
        "from pyspark.sql.window import Window\n",
        "from pyspark.sql import DataFrame"
      ],
      "execution_count": 0,
      "outputs": []
    },
    {
      "cell_type": "code",
      "metadata": {
        "id": "FUtW_9K3yERq",
        "colab_type": "code",
        "colab": {}
      },
      "source": [
        "sc =SparkContext()\n",
        "sc.setLogLevel(\"DEBUG\")\n",
        "sqlContext = SQLContext(sc)"
      ],
      "execution_count": 0,
      "outputs": []
    },
    {
      "cell_type": "code",
      "metadata": {
        "id": "TgyrdCYsycjG",
        "colab_type": "code",
        "colab": {}
      },
      "source": [
        "from pyspark.sql import SparkSession\n",
        "spark = SparkSession.builder.master(\"local[*]\").getOrCreate()"
      ],
      "execution_count": 0,
      "outputs": []
    },
    {
      "cell_type": "code",
      "metadata": {
        "id": "veck6ah_eV8V",
        "colab_type": "code",
        "colab": {}
      },
      "source": [
        "from pyspark import SparkFiles\n",
        "url1 = \"https://s3.amazonaws.com/nyc-tlc/trip+data/yellow_tripdata_2018-01.csv\"\n",
        "url2 = \"https://s3.amazonaws.com/nyc-tlc/trip+data/yellow_tripdata_2018-02.csv\"\n",
        "url3 = \"https://s3.amazonaws.com/nyc-tlc/trip+data/yellow_tripdata_2018-03.csv\"\n",
        "url4 = \"https://s3.amazonaws.com/nyc-tlc/trip+data/yellow_tripdata_2018-04.csv\"\n",
        "url5 = \"https://s3.amazonaws.com/nyc-tlc/trip+data/yellow_tripdata_2018-05.csv\"\n",
        "url6 = \"https://s3.amazonaws.com/nyc-tlc/trip+data/yellow_tripdata_2018-06.csv\"\n",
        "url7 = \"https://s3.amazonaws.com/nyc-tlc/trip+data/yellow_tripdata_2018-07.csv\"\n",
        "url8 = \"https://s3.amazonaws.com/nyc-tlc/trip+data/yellow_tripdata_2018-08.csv\"\n",
        "url9 = \"https://s3.amazonaws.com/nyc-tlc/trip+data/yellow_tripdata_2018-09.csv\"\n",
        "url10 = \"https://s3.amazonaws.com/nyc-tlc/trip+data/yellow_tripdata_2018-10.csv\"\n",
        "url11 = \"https://s3.amazonaws.com/nyc-tlc/trip+data/yellow_tripdata_2018-11.csv\"\n",
        "url12 = \"https://s3.amazonaws.com/nyc-tlc/trip+data/yellow_tripdata_2018-12.csv\"\n",
        "spark.sparkContext.addFile(url1)\n",
        "spark.sparkContext.addFile(url2)\n",
        "spark.sparkContext.addFile(url3)\n",
        "spark.sparkContext.addFile(url4)\n",
        "spark.sparkContext.addFile(url5)\n",
        "spark.sparkContext.addFile(url6)\n",
        "spark.sparkContext.addFile(url7)\n",
        "spark.sparkContext.addFile(url8)\n",
        "spark.sparkContext.addFile(url9)\n",
        "spark.sparkContext.addFile(url10)\n",
        "spark.sparkContext.addFile(url11)\n",
        "spark.sparkContext.addFile(url12)"
      ],
      "execution_count": 0,
      "outputs": []
    },
    {
      "cell_type": "code",
      "metadata": {
        "id": "rAweC84wefC8",
        "colab_type": "code",
        "colab": {}
      },
      "source": [
        "df1 = spark.read.csv(\"file://\"+SparkFiles.get(\"yellow_tripdata_2018-01.csv\"), header=True, inferSchema= True)\n",
        "df2 = spark.read.csv(\"file://\"+SparkFiles.get(\"yellow_tripdata_2018-02.csv\"), header=True, inferSchema= True)\n",
        "df3 = spark.read.csv(\"file://\"+SparkFiles.get(\"yellow_tripdata_2018-03.csv\"), header=True, inferSchema= True)\n",
        "df4 = spark.read.csv(\"file://\"+SparkFiles.get(\"yellow_tripdata_2018-04.csv\"), header=True, inferSchema= True)\n",
        "df5 = spark.read.csv(\"file://\"+SparkFiles.get(\"yellow_tripdata_2018-05.csv\"), header=True, inferSchema= True)\n",
        "df6 = spark.read.csv(\"file://\"+SparkFiles.get(\"yellow_tripdata_2018-06.csv\"), header=True, inferSchema= True)\n",
        "df7 = spark.read.csv(\"file://\"+SparkFiles.get(\"yellow_tripdata_2018-07.csv\"), header=True, inferSchema= True)\n",
        "df8 = spark.read.csv(\"file://\"+SparkFiles.get(\"yellow_tripdata_2018-08.csv\"), header=True, inferSchema= True)\n",
        "df9 = spark.read.csv(\"file://\"+SparkFiles.get(\"yellow_tripdata_2018-09.csv\"), header=True, inferSchema= True)\n",
        "df10 = spark.read.csv(\"file://\"+SparkFiles.get(\"yellow_tripdata_2018-10.csv\"), header=True, inferSchema= True)\n",
        "df11 = spark.read.csv(\"file://\"+SparkFiles.get(\"yellow_tripdata_2018-11.csv\"), header=True, inferSchema= True)\n",
        "df12 = spark.read.csv(\"file://\"+SparkFiles.get(\"yellow_tripdata_2018-12.csv\"), header=True, inferSchema= True)"
      ],
      "execution_count": 0,
      "outputs": []
    },
    {
      "cell_type": "code",
      "metadata": {
        "id": "h4gU7D9uN-xL",
        "colab_type": "code",
        "colab": {}
      },
      "source": [
        "df_lowerhalf = df1.union(df2)\n",
        "df_lowerhalf = df_lowerhalf.union(df3)\n",
        "df_lowerhalf = df_lowerhalf.union(df4)\n",
        "df_lowerhalf = df_lowerhalf.union(df5)\n",
        "df_lowerhalf = df_lowerhalf.union(df6)"
      ],
      "execution_count": 0,
      "outputs": []
    },
    {
      "cell_type": "code",
      "metadata": {
        "id": "dO2AXQAl6c4g",
        "colab_type": "code",
        "colab": {}
      },
      "source": [
        "df_upperhalf = d7.union(df8)\n",
        "df_upperhalf = df_upperhalf.union(df9)\n",
        "df_upperhalf = df_upperhalf.union(df10)\n",
        "df_upperhalf = df_upperhalf.union(df11)\n",
        "df_upperhalf = df_upperhalf.union(df12)"
      ],
      "execution_count": 0,
      "outputs": []
    },
    {
      "cell_type": "markdown",
      "metadata": {
        "id": "bfwvkdRsFH_l",
        "colab_type": "text"
      },
      "source": [
        "<p align=\"justify\"> Copressing and storing in Parquet form to enable faster processing </p>"
      ]
    },
    {
      "cell_type": "code",
      "metadata": {
        "id": "KuuZMpFbqFvX",
        "colab_type": "code",
        "outputId": "920c8334-ab62-4fc9-ddcc-2017de345c98",
        "colab": {
          "base_uri": "https://localhost:8080/",
          "height": 34
        }
      },
      "source": [
        "from google.colab import drive\n",
        "drive.mount('/content/drive')"
      ],
      "execution_count": 0,
      "outputs": [
        {
          "output_type": "stream",
          "text": [
            "Drive already mounted at /content/drive; to attempt to forcibly remount, call drive.mount(\"/content/drive\", force_remount=True).\n"
          ],
          "name": "stdout"
        }
      ]
    },
    {
      "cell_type": "code",
      "metadata": {
        "id": "x4SNgMd1O2GS",
        "colab_type": "code",
        "outputId": "bb4b9374-0588-4a47-d09e-b701c6f9e7db",
        "colab": {
          "base_uri": "https://localhost:8080/",
          "height": 50
        }
      },
      "source": [
        "print(\"Shape of 2018 First Half\")\n",
        "print((df_lowerhalf.count(), len(df_lowerhalf.columns)))\n",
        "row2018_1=df_lowerhalf.count()\n",
        "col2018_1=df_lowerhalf.columns"
      ],
      "execution_count": 0,
      "outputs": [
        {
          "output_type": "stream",
          "text": [
            "Shape of 2018 First Half\n",
            "(53925735, 17)\n"
          ],
          "name": "stdout"
        }
      ]
    },
    {
      "cell_type": "code",
      "metadata": {
        "id": "c2cT-4VLJVGu",
        "colab_type": "code",
        "outputId": "79e7dd3f-bdd3-4493-e689-fa20ecf97202",
        "colab": {
          "base_uri": "https://localhost:8080/",
          "height": 50
        }
      },
      "source": [
        "print(\"Shape of 2018 Second Half\")\n",
        "print((df_upperhalf.count(), len(df_upperhalf.columns)))\n",
        "row2018_2=df_upperhalf.count()\n",
        "col2018_2=df_upperhalf.columns"
      ],
      "execution_count": 0,
      "outputs": [
        {
          "output_type": "stream",
          "text": [
            "Shape of 2018 Second Half\n",
            "(48878515, 17)\n"
          ],
          "name": "stdout"
        }
      ]
    },
    {
      "cell_type": "code",
      "metadata": {
        "id": "TzaKgmzj3gvJ",
        "colab_type": "code",
        "colab": {}
      },
      "source": [
        "#Creating Parquet files\n",
        "df_upperhalf.write.parquet(\"/content/drive/My Drive/Data Science/2018secondhalf.parquet\")\n",
        "df_lowerhalf.write.parquet(\"/content/drive/My Drive/Data Science/2018firsthalf.parquet\")"
      ],
      "execution_count": 0,
      "outputs": []
    },
    {
      "cell_type": "markdown",
      "metadata": {
        "id": "qbBKw8WtFlPa",
        "colab_type": "text"
      },
      "source": [
        "Now Parquet files can be read into Pandas Dataframe."
      ]
    },
    {
      "cell_type": "code",
      "metadata": {
        "id": "YJQqBJZyjggm",
        "colab_type": "code",
        "colab": {}
      },
      "source": [
        "import pandas as pd\n",
        "y2018_part1=pd.read_parquet('/content/drive/My Drive/Data Science/2018firsthalf.parquet')\n",
        "y2018_part2=pd.read_parquet('/content/drive/My Drive/Data Science/2018secondhalf.parquet')"
      ],
      "execution_count": 0,
      "outputs": []
    },
    {
      "cell_type": "code",
      "metadata": {
        "id": "4JpB23tVqifD",
        "colab_type": "code",
        "colab": {}
      },
      "source": [
        "!pip install datalab"
      ],
      "execution_count": 0,
      "outputs": []
    },
    {
      "cell_type": "code",
      "metadata": {
        "id": "ehg5acm6qZlc",
        "colab_type": "code",
        "colab": {}
      },
      "source": [
        "from datalab.context import Context"
      ],
      "execution_count": 0,
      "outputs": []
    },
    {
      "cell_type": "code",
      "metadata": {
        "id": "fLHZ6uf5qGg3",
        "colab_type": "code",
        "colab": {}
      },
      "source": [
        "import os\n",
        "os.environ[\"GOOGLE_APPLICATION_CREDENTIALS\"]=\"/content/drive/My Drive/Data Science/nyc-taxi-265120-baf9a3e4cf9b.json\"\n",
        "%reload_ext google.cloud.bigquery"
      ],
      "execution_count": 0,
      "outputs": []
    },
    {
      "cell_type": "code",
      "metadata": {
        "id": "CKKA3sY-UoeS",
        "colab_type": "code",
        "colab": {}
      },
      "source": [
        "#Storing to Google Cloud Platform\n",
        "project_id = 'nyc-taxi-265120' #@param{type:\"string\"}\n",
        "y2018_part1.to_gbq('NYC.2018firsthalf', \n",
        "                 Context.default().project_id,\n",
        "                 chunksize=500000, \n",
        "                 if_exists='append',\n",
        "                 verbose=False\n",
        "                 )"
      ],
      "execution_count": 0,
      "outputs": []
    },
    {
      "cell_type": "code",
      "metadata": {
        "id": "ZiBeJe1u8i9c",
        "colab_type": "code",
        "colab": {}
      },
      "source": [
        "#Storing to Google Cloud Platform\n",
        "project_id = 'nyc-taxi-265120' #@param{type:\"string\"}\n",
        "y2018_part2.to_gbq('NYC.2018SecondHalf', \n",
        "                 Context.default().project_id,\n",
        "                 chunksize=500000, \n",
        "                 if_exists='append',\n",
        "                 verbose=False\n",
        "                 )"
      ],
      "execution_count": 0,
      "outputs": []
    },
    {
      "cell_type": "markdown",
      "metadata": {
        "id": "13DIgmFRgXU2",
        "colab_type": "text"
      },
      "source": [
        "<b><u> 2019 Taxi Data Collection </u></b>"
      ]
    },
    {
      "cell_type": "code",
      "metadata": {
        "id": "IcNBwpB7w0MJ",
        "colab_type": "code",
        "colab": {}
      },
      "source": [
        "url1 = \"https://s3.amazonaws.com/nyc-tlc/trip+data/yellow_tripdata_2019-01.csv\"\n",
        "url2 = \"https://s3.amazonaws.com/nyc-tlc/trip+data/yellow_tripdata_2019-02.csv\"\n",
        "url3 = \"https://s3.amazonaws.com/nyc-tlc/trip+data/yellow_tripdata_2019-03.csv\"\n",
        "url4 = \"https://s3.amazonaws.com/nyc-tlc/trip+data/yellow_tripdata_2019-04.csv\"\n",
        "url5 = \"https://s3.amazonaws.com/nyc-tlc/trip+data/yellow_tripdata_2019-05.csv\"\n",
        "url6 = \"https://s3.amazonaws.com/nyc-tlc/trip+data/yellow_tripdata_2019-06.csv\"\n",
        "\n",
        "url7 = \"https://s3.amazonaws.com/nyc-tlc/trip+data/yellow_tripdata_2019-07.csv\"\n",
        "url8 = \"https://s3.amazonaws.com/nyc-tlc/trip+data/yellow_tripdata_2019-08.csv\"\n",
        "url9 = \"https://s3.amazonaws.com/nyc-tlc/trip+data/yellow_tripdata_2019-09.csv\"\n",
        "url10 = \"https://s3.amazonaws.com/nyc-tlc/trip+data/yellow_tripdata_2019-10.csv\"\n",
        "url11 = \"https://s3.amazonaws.com/nyc-tlc/trip+data/yellow_tripdata_2019-11.csv\"\n",
        "url12 = \"https://s3.amazonaws.com/nyc-tlc/trip+data/yellow_tripdata_2019-12.csv\"\n",
        "\n",
        "spark.sparkContext.addFile(url1)\n",
        "spark.sparkContext.addFile(url2)\n",
        "spark.sparkContext.addFile(url3)\n",
        "spark.sparkContext.addFile(url4)\n",
        "spark.sparkContext.addFile(url5)\n",
        "spark.sparkContext.addFile(url6)\n",
        "spark.sparkContext.addFile(url7)\n",
        "spark.sparkContext.addFile(url8)\n",
        "spark.sparkContext.addFile(url9)\n",
        "spark.sparkContext.addFile(url10)\n",
        "spark.sparkContext.addFile(url11)\n",
        "spark.sparkContext.addFile(url12)\n"
      ],
      "execution_count": 0,
      "outputs": []
    },
    {
      "cell_type": "code",
      "metadata": {
        "id": "AH1tdvnZhJ9J",
        "colab_type": "code",
        "colab": {}
      },
      "source": [
        "df21 = spark.read.csv(\"file://\"+SparkFiles.get(\"yellow_tripdata_2019-01.csv\"), header=True, inferSchema= True)\n",
        "df22 = spark.read.csv(\"file://\"+SparkFiles.get(\"yellow_tripdata_2019-02.csv\"), header=True, inferSchema= True)\n",
        "df23 = spark.read.csv(\"file://\"+SparkFiles.get(\"yellow_tripdata_2019-03.csv\"), header=True, inferSchema= True)\n",
        "df24 = spark.read.csv(\"file://\"+SparkFiles.get(\"yellow_tripdata_2019-04.csv\"), header=True, inferSchema= True)\n",
        "df25 = spark.read.csv(\"file://\"+SparkFiles.get(\"yellow_tripdata_2019-05.csv\"), header=True, inferSchema= True)\n",
        "df26 = spark.read.csv(\"file://\"+SparkFiles.get(\"yellow_tripdata_2019-06.csv\"), header=True, inferSchema= True)\n",
        "\n",
        "df27 = spark.read.csv(\"file://\"+SparkFiles.get(\"yellow_tripdata_2019-07.csv\"), header=True, inferSchema= True)\n",
        "df28 = spark.read.csv(\"file://\"+SparkFiles.get(\"yellow_tripdata_2019-08.csv\"), header=True, inferSchema= True)\n",
        "df29 = spark.read.csv(\"file://\"+SparkFiles.get(\"yellow_tripdata_2019-09.csv\"), header=True, inferSchema= True)\n",
        "df210 = spark.read.csv(\"file://\"+SparkFiles.get(\"yellow_tripdata_2019-10.csv\"), header=True, inferSchema= True)\n",
        "df211 = spark.read.csv(\"file://\"+SparkFiles.get(\"yellow_tripdata_2019-11.csv\"), header=True, inferSchema= True)\n",
        "df212 = spark.read.csv(\"file://\"+SparkFiles.get(\"yellow_tripdata_2019-12.csv\"), header=True, inferSchema= True)"
      ],
      "execution_count": 0,
      "outputs": []
    },
    {
      "cell_type": "code",
      "metadata": {
        "id": "H5RSft1nhlSq",
        "colab_type": "code",
        "colab": {}
      },
      "source": [
        "df_lowerhalf_2019 = df21.union(df22)\n",
        "df_lowerhalf_2019 = df_lowerhalf_2020.union(df23)\n",
        "df_lowerhalf_2019 = df_lowerhalf_2020.union(df24)\n",
        "df_lowerhalf_2019 = df_lowerhalf_2020.union(df25)\n",
        "df_lowerhalf_2019 = df_lowerhalf_2020.union(df26)"
      ],
      "execution_count": 0,
      "outputs": []
    },
    {
      "cell_type": "code",
      "metadata": {
        "id": "xYYC792L9tau",
        "colab_type": "code",
        "colab": {}
      },
      "source": [
        "df_upperhalf_2019 = df27.union(df28)\n",
        "df_upperhalf_2019 = df_upperhalf_2020.union(df29)\n",
        "df_upperhalf_2019 = df_upperhalf_2020.union(df210)\n",
        "df_upperhalf_2019 = df_upperhalf_2020.union(df211)\n",
        "df_upperhalf_2019 = df_upperhalf_2020.union(df212)"
      ],
      "execution_count": 0,
      "outputs": []
    },
    {
      "cell_type": "code",
      "metadata": {
        "id": "e_ixtMbjJxwd",
        "colab_type": "code",
        "outputId": "f67a70cb-e29e-4b59-eefc-55300e7cf4d7",
        "colab": {
          "base_uri": "https://localhost:8080/",
          "height": 50
        }
      },
      "source": [
        "print(\"Shape of 2019 First Half\")\n",
        "print((df_lowerhalf_2019.count(), len(df_lowerhalf_2019.columns)))\n",
        "row2019_1=df_lowerhalf_2019.count()\n",
        "col2019_1=df_lowerhalf_2019.columns"
      ],
      "execution_count": 0,
      "outputs": [
        {
          "output_type": "stream",
          "text": [
            "Shape of 2019 First Half\n",
            "(44459136, 17)\n"
          ],
          "name": "stdout"
        }
      ]
    },
    {
      "cell_type": "code",
      "metadata": {
        "id": "gMcMgwuDJyWI",
        "colab_type": "code",
        "outputId": "71d4d8be-1118-44c4-f340-e9d6b30a9961",
        "colab": {
          "base_uri": "https://localhost:8080/",
          "height": 50
        }
      },
      "source": [
        "print(\"Shape of 2019 Second Half\")\n",
        "print((df_lowerhalf.count(), len(df_lowerhalf.columns)))\n",
        "row2019_2=df_upperhalf_2019.count()\n",
        "col2019_2=df_upperhalf_2019.columns"
      ],
      "execution_count": 0,
      "outputs": [
        {
          "output_type": "stream",
          "text": [
            "Shape of 2019 Second Half\n",
            "(39939883, 17)\n"
          ],
          "name": "stdout"
        }
      ]
    },
    {
      "cell_type": "code",
      "metadata": {
        "id": "aj4FuyqOht2y",
        "colab_type": "code",
        "colab": {}
      },
      "source": [
        "df_upperhalf_2020.write.parquet(\"/content/drive/My Drive/Data Science/2019upper.parquet\")\n",
        "df_lowerhalf_2020.write.parquet(\"/content/drive/My Drive/Data Science/2019lower.parquet\")"
      ],
      "execution_count": 0,
      "outputs": []
    },
    {
      "cell_type": "code",
      "metadata": {
        "id": "YFMeiN-Ch0b4",
        "colab_type": "code",
        "colab": {}
      },
      "source": [
        "import pandas as pd\n",
        "y2019upper=pd.read_parquet('/content/drive/My Drive/Data Science/2019upper.parquet')\n",
        "y2019lower=pd.read_parquet('/content/drive/My Drive/Data Science/2019lower.parquet')"
      ],
      "execution_count": 0,
      "outputs": []
    },
    {
      "cell_type": "code",
      "metadata": {
        "id": "jFz5Gvp_h59B",
        "colab_type": "code",
        "colab": {}
      },
      "source": [
        "#Storing to Google Cloud Platform\n",
        "project_id = 'nyc-taxi-265120' #@param{type:\"string\"}\n",
        "y2019lower.to_gbq('NYC.2019firsthalf', \n",
        "                 Context.default().project_id,\n",
        "                 chunksize=500000, \n",
        "                 if_exists='append',\n",
        "                 verbose=False\n",
        "                 )"
      ],
      "execution_count": 0,
      "outputs": []
    },
    {
      "cell_type": "code",
      "metadata": {
        "id": "ciy7rlGc_C2X",
        "colab_type": "code",
        "colab": {}
      },
      "source": [
        "#Storing to Google Cloud Platform\n",
        "project_id = 'nyc-taxi-265120' #@param{type:\"string\"}\n",
        "y2019upper.to_gbq('NYC.2019secondhalf', \n",
        "                 Context.default().project_id,\n",
        "                 chunksize=500000, \n",
        "                 if_exists='append',\n",
        "                 verbose=False\n",
        "                 )"
      ],
      "execution_count": 0,
      "outputs": []
    },
    {
      "cell_type": "markdown",
      "metadata": {
        "id": "I454tHAeFOMF",
        "colab_type": "text"
      },
      "source": [
        "<b><u> Weather Data </u></b>"
      ]
    },
    {
      "cell_type": "code",
      "metadata": {
        "id": "OsLMvRaMqMq0",
        "colab_type": "code",
        "colab": {}
      },
      "source": [
        "project_id = 'nyc-taxi-265120' \n",
        "from google.cloud import bigquery\n",
        "client = bigquery.Client(project = project_id)"
      ],
      "execution_count": 0,
      "outputs": []
    },
    {
      "cell_type": "code",
      "metadata": {
        "id": "xe6ILI8YFNIa",
        "colab_type": "code",
        "outputId": "71dcf502-4cd7-49d2-c869-c475656df8bc",
        "colab": {
          "base_uri": "https://localhost:8080/",
          "height": 34
        }
      },
      "source": [
        "from google.cloud import bigquery\n",
        "\n",
        "client = bigquery.Client(project=project_id)\n",
        "\n",
        "sample_count = 2000\n",
        "row_count = client.query('''\n",
        "  SELECT \n",
        "    COUNT(*) as total\n",
        "  FROM `bigquery-public-data.samples.gsod`''').to_dataframe().total[0]\n",
        "\n",
        "df = client.query('''\n",
        "  SELECT\n",
        "    *\n",
        "  FROM\n",
        "    `bigquery-public-data.samples.gsod`\n",
        "  WHERE RAND() < %d/%d\n",
        "''' % (sample_count, row_count)).to_dataframe()\n",
        "\n",
        "print('Full dataset has %d rows' % row_count)"
      ],
      "execution_count": 0,
      "outputs": [
        {
          "output_type": "stream",
          "text": [
            "Full dataset has 114420316 rows\n"
          ],
          "name": "stdout"
        }
      ]
    },
    {
      "cell_type": "code",
      "metadata": {
        "id": "b7_oAh7NFnfC",
        "colab_type": "code",
        "outputId": "d6c33be8-3c87-4543-d179-0c52c15cf594",
        "colab": {
          "base_uri": "https://localhost:8080/",
          "height": 215
        }
      },
      "source": [
        "df.head()"
      ],
      "execution_count": 0,
      "outputs": [
        {
          "output_type": "execute_result",
          "data": {
            "text/html": [
              "<div>\n",
              "<style scoped>\n",
              "    .dataframe tbody tr th:only-of-type {\n",
              "        vertical-align: middle;\n",
              "    }\n",
              "\n",
              "    .dataframe tbody tr th {\n",
              "        vertical-align: top;\n",
              "    }\n",
              "\n",
              "    .dataframe thead th {\n",
              "        text-align: right;\n",
              "    }\n",
              "</style>\n",
              "<table border=\"1\" class=\"dataframe\">\n",
              "  <thead>\n",
              "    <tr style=\"text-align: right;\">\n",
              "      <th></th>\n",
              "      <th>station_number</th>\n",
              "      <th>wban_number</th>\n",
              "      <th>year</th>\n",
              "      <th>month</th>\n",
              "      <th>day</th>\n",
              "      <th>mean_temp</th>\n",
              "      <th>num_mean_temp_samples</th>\n",
              "      <th>mean_dew_point</th>\n",
              "      <th>num_mean_dew_point_samples</th>\n",
              "      <th>mean_sealevel_pressure</th>\n",
              "      <th>num_mean_sealevel_pressure_samples</th>\n",
              "      <th>mean_station_pressure</th>\n",
              "      <th>num_mean_station_pressure_samples</th>\n",
              "      <th>mean_visibility</th>\n",
              "      <th>num_mean_visibility_samples</th>\n",
              "      <th>mean_wind_speed</th>\n",
              "      <th>num_mean_wind_speed_samples</th>\n",
              "      <th>max_sustained_wind_speed</th>\n",
              "      <th>max_gust_wind_speed</th>\n",
              "      <th>max_temperature</th>\n",
              "      <th>max_temperature_explicit</th>\n",
              "      <th>min_temperature</th>\n",
              "      <th>min_temperature_explicit</th>\n",
              "      <th>total_precipitation</th>\n",
              "      <th>snow_depth</th>\n",
              "      <th>fog</th>\n",
              "      <th>rain</th>\n",
              "      <th>snow</th>\n",
              "      <th>hail</th>\n",
              "      <th>thunder</th>\n",
              "      <th>tornado</th>\n",
              "    </tr>\n",
              "  </thead>\n",
              "  <tbody>\n",
              "    <tr>\n",
              "      <th>0</th>\n",
              "      <td>153490</td>\n",
              "      <td>99999</td>\n",
              "      <td>1985</td>\n",
              "      <td>9</td>\n",
              "      <td>26</td>\n",
              "      <td>57.599998</td>\n",
              "      <td>4</td>\n",
              "      <td>NaN</td>\n",
              "      <td>NaN</td>\n",
              "      <td>NaN</td>\n",
              "      <td>NaN</td>\n",
              "      <td>NaN</td>\n",
              "      <td>NaN</td>\n",
              "      <td>6.7</td>\n",
              "      <td>4.0</td>\n",
              "      <td>3.4</td>\n",
              "      <td>4.0</td>\n",
              "      <td>11.7</td>\n",
              "      <td>NaN</td>\n",
              "      <td>50.400002</td>\n",
              "      <td>True</td>\n",
              "      <td>None</td>\n",
              "      <td>None</td>\n",
              "      <td>0.08</td>\n",
              "      <td>NaN</td>\n",
              "      <td>False</td>\n",
              "      <td>False</td>\n",
              "      <td>False</td>\n",
              "      <td>False</td>\n",
              "      <td>False</td>\n",
              "      <td>False</td>\n",
              "    </tr>\n",
              "    <tr>\n",
              "      <th>1</th>\n",
              "      <td>722025</td>\n",
              "      <td>12849</td>\n",
              "      <td>1994</td>\n",
              "      <td>8</td>\n",
              "      <td>29</td>\n",
              "      <td>80.199997</td>\n",
              "      <td>21</td>\n",
              "      <td>73.800003</td>\n",
              "      <td>21.0</td>\n",
              "      <td>NaN</td>\n",
              "      <td>NaN</td>\n",
              "      <td>NaN</td>\n",
              "      <td>NaN</td>\n",
              "      <td>12.6</td>\n",
              "      <td>21.0</td>\n",
              "      <td>3.0</td>\n",
              "      <td>21.0</td>\n",
              "      <td>9.9</td>\n",
              "      <td>NaN</td>\n",
              "      <td>74.800003</td>\n",
              "      <td>True</td>\n",
              "      <td>None</td>\n",
              "      <td>None</td>\n",
              "      <td>NaN</td>\n",
              "      <td>NaN</td>\n",
              "      <td>False</td>\n",
              "      <td>False</td>\n",
              "      <td>False</td>\n",
              "      <td>False</td>\n",
              "      <td>False</td>\n",
              "      <td>False</td>\n",
              "    </tr>\n",
              "    <tr>\n",
              "      <th>2</th>\n",
              "      <td>715520</td>\n",
              "      <td>99999</td>\n",
              "      <td>1999</td>\n",
              "      <td>9</td>\n",
              "      <td>2</td>\n",
              "      <td>60.000000</td>\n",
              "      <td>4</td>\n",
              "      <td>49.099998</td>\n",
              "      <td>4.0</td>\n",
              "      <td>NaN</td>\n",
              "      <td>NaN</td>\n",
              "      <td>NaN</td>\n",
              "      <td>NaN</td>\n",
              "      <td>NaN</td>\n",
              "      <td>NaN</td>\n",
              "      <td>9.3</td>\n",
              "      <td>4.0</td>\n",
              "      <td>15.0</td>\n",
              "      <td>25.1</td>\n",
              "      <td>56.099998</td>\n",
              "      <td>True</td>\n",
              "      <td>None</td>\n",
              "      <td>None</td>\n",
              "      <td>0.00</td>\n",
              "      <td>NaN</td>\n",
              "      <td>False</td>\n",
              "      <td>False</td>\n",
              "      <td>False</td>\n",
              "      <td>False</td>\n",
              "      <td>False</td>\n",
              "      <td>False</td>\n",
              "    </tr>\n",
              "    <tr>\n",
              "      <th>3</th>\n",
              "      <td>333012</td>\n",
              "      <td>99999</td>\n",
              "      <td>2004</td>\n",
              "      <td>7</td>\n",
              "      <td>14</td>\n",
              "      <td>67.300003</td>\n",
              "      <td>15</td>\n",
              "      <td>60.299999</td>\n",
              "      <td>15.0</td>\n",
              "      <td>NaN</td>\n",
              "      <td>NaN</td>\n",
              "      <td>NaN</td>\n",
              "      <td>NaN</td>\n",
              "      <td>7.0</td>\n",
              "      <td>15.0</td>\n",
              "      <td>8.9</td>\n",
              "      <td>15.0</td>\n",
              "      <td>11.7</td>\n",
              "      <td>19.4</td>\n",
              "      <td>62.599998</td>\n",
              "      <td>True</td>\n",
              "      <td>None</td>\n",
              "      <td>None</td>\n",
              "      <td>NaN</td>\n",
              "      <td>NaN</td>\n",
              "      <td>False</td>\n",
              "      <td>False</td>\n",
              "      <td>False</td>\n",
              "      <td>False</td>\n",
              "      <td>False</td>\n",
              "      <td>False</td>\n",
              "    </tr>\n",
              "    <tr>\n",
              "      <th>4</th>\n",
              "      <td>726502</td>\n",
              "      <td>54832</td>\n",
              "      <td>2009</td>\n",
              "      <td>5</td>\n",
              "      <td>31</td>\n",
              "      <td>54.099998</td>\n",
              "      <td>24</td>\n",
              "      <td>34.700001</td>\n",
              "      <td>24.0</td>\n",
              "      <td>NaN</td>\n",
              "      <td>NaN</td>\n",
              "      <td>NaN</td>\n",
              "      <td>NaN</td>\n",
              "      <td>10.0</td>\n",
              "      <td>24.0</td>\n",
              "      <td>3.6</td>\n",
              "      <td>24.0</td>\n",
              "      <td>11.1</td>\n",
              "      <td>18.1</td>\n",
              "      <td>37.400002</td>\n",
              "      <td>True</td>\n",
              "      <td>None</td>\n",
              "      <td>None</td>\n",
              "      <td>0.00</td>\n",
              "      <td>NaN</td>\n",
              "      <td>False</td>\n",
              "      <td>False</td>\n",
              "      <td>False</td>\n",
              "      <td>False</td>\n",
              "      <td>False</td>\n",
              "      <td>False</td>\n",
              "    </tr>\n",
              "  </tbody>\n",
              "</table>\n",
              "</div>"
            ],
            "text/plain": [
              "   station_number  wban_number  year  month  ...   snow   hail  thunder  tornado\n",
              "0          153490        99999  1985      9  ...  False  False    False    False\n",
              "1          722025        12849  1994      8  ...  False  False    False    False\n",
              "2          715520        99999  1999      9  ...  False  False    False    False\n",
              "3          333012        99999  2004      7  ...  False  False    False    False\n",
              "4          726502        54832  2009      5  ...  False  False    False    False\n",
              "\n",
              "[5 rows x 31 columns]"
            ]
          },
          "metadata": {
            "tags": []
          },
          "execution_count": 12
        }
      ]
    },
    {
      "cell_type": "markdown",
      "metadata": {
        "id": "PCVY9jYiFzgV",
        "colab_type": "text"
      },
      "source": [
        "<b><u> Taxi Zone Data </u></b>\n"
      ]
    },
    {
      "cell_type": "code",
      "metadata": {
        "id": "CXrQQGv9Fym6",
        "colab_type": "code",
        "colab": {}
      },
      "source": [
        "SELECT COUNT(*) FROM `bigquery-public-data.new_york_taxi_trips.taxi_zone_geom` LIMIT 1000"
      ],
      "execution_count": 0,
      "outputs": []
    },
    {
      "cell_type": "code",
      "metadata": {
        "id": "iUXrScLG3NzK",
        "colab_type": "code",
        "colab": {}
      },
      "source": [
        "df = client.query('''SELECT * FROM `bigquery-public-data.new_york_taxi_trips.taxi_zone_geom` ''' ).to_dataframe()"
      ],
      "execution_count": 0,
      "outputs": []
    },
    {
      "cell_type": "code",
      "metadata": {
        "id": "R_d6CjRT3dvw",
        "colab_type": "code",
        "outputId": "d3aeeaf5-4bb2-4068-9d26-28074e4f2080",
        "colab": {
          "base_uri": "https://localhost:8080/",
          "height": 195
        }
      },
      "source": [
        "df.head()"
      ],
      "execution_count": 0,
      "outputs": [
        {
          "output_type": "execute_result",
          "data": {
            "text/html": [
              "<div>\n",
              "<style scoped>\n",
              "    .dataframe tbody tr th:only-of-type {\n",
              "        vertical-align: middle;\n",
              "    }\n",
              "\n",
              "    .dataframe tbody tr th {\n",
              "        vertical-align: top;\n",
              "    }\n",
              "\n",
              "    .dataframe thead th {\n",
              "        text-align: right;\n",
              "    }\n",
              "</style>\n",
              "<table border=\"1\" class=\"dataframe\">\n",
              "  <thead>\n",
              "    <tr style=\"text-align: right;\">\n",
              "      <th></th>\n",
              "      <th>zone_id</th>\n",
              "      <th>zone_name</th>\n",
              "      <th>borough</th>\n",
              "      <th>zone_geom</th>\n",
              "    </tr>\n",
              "  </thead>\n",
              "  <tbody>\n",
              "    <tr>\n",
              "      <th>0</th>\n",
              "      <td>1</td>\n",
              "      <td>Newark Airport</td>\n",
              "      <td>EWR</td>\n",
              "      <td>POLYGON((-74.1856319999999 40.6916479999999, -...</td>\n",
              "    </tr>\n",
              "    <tr>\n",
              "      <th>1</th>\n",
              "      <td>3</td>\n",
              "      <td>Allerton/Pelham Gardens</td>\n",
              "      <td>Bronx</td>\n",
              "      <td>POLYGON((-73.848596761 40.8716707849999, -73.8...</td>\n",
              "    </tr>\n",
              "    <tr>\n",
              "      <th>2</th>\n",
              "      <td>18</td>\n",
              "      <td>Bedford Park</td>\n",
              "      <td>Bronx</td>\n",
              "      <td>POLYGON((-73.8844286139999 40.8668003789999, -...</td>\n",
              "    </tr>\n",
              "    <tr>\n",
              "      <th>3</th>\n",
              "      <td>20</td>\n",
              "      <td>Belmont</td>\n",
              "      <td>Bronx</td>\n",
              "      <td>POLYGON((-73.8839239579998 40.8644177609999, -...</td>\n",
              "    </tr>\n",
              "    <tr>\n",
              "      <th>4</th>\n",
              "      <td>31</td>\n",
              "      <td>Bronx Park</td>\n",
              "      <td>Bronx</td>\n",
              "      <td>POLYGON((-73.8710017319999 40.8572767429999, -...</td>\n",
              "    </tr>\n",
              "  </tbody>\n",
              "</table>\n",
              "</div>"
            ],
            "text/plain": [
              "  zone_id  ...                                          zone_geom\n",
              "0       1  ...  POLYGON((-74.1856319999999 40.6916479999999, -...\n",
              "1       3  ...  POLYGON((-73.848596761 40.8716707849999, -73.8...\n",
              "2      18  ...  POLYGON((-73.8844286139999 40.8668003789999, -...\n",
              "3      20  ...  POLYGON((-73.8839239579998 40.8644177609999, -...\n",
              "4      31  ...  POLYGON((-73.8710017319999 40.8572767429999, -...\n",
              "\n",
              "[5 rows x 4 columns]"
            ]
          },
          "metadata": {
            "tags": []
          },
          "execution_count": 16
        }
      ]
    },
    {
      "cell_type": "markdown",
      "metadata": {
        "id": "euJDdZoh2j-D",
        "colab_type": "text"
      },
      "source": [
        "<h4><b>4 Integrating all Data on One Platform</b></h4>\n",
        "Google Cloud Platform : Big Query helps to explore such large datasets easily."
      ]
    },
    {
      "cell_type": "code",
      "metadata": {
        "id": "C10GoflAp-P7",
        "colab_type": "code",
        "colab": {}
      },
      "source": [
        "import pandas as pd\n",
        "import numpy as np\n",
        "import sys\n",
        "from google.cloud import bigquery\n",
        "from google.colab import auth\n",
        "auth.authenticate_user()"
      ],
      "execution_count": 0,
      "outputs": []
    },
    {
      "cell_type": "code",
      "metadata": {
        "id": "uYuxVJ4BmD0V",
        "colab_type": "code",
        "outputId": "f214783e-ee11-4f8a-ec83-0a9d6fd25b02",
        "colab": {
          "base_uri": "https://localhost:8080/",
          "height": 361
        }
      },
      "source": [
        "import matplotlib.pyplot as plt\n",
        "fig = plt.figure()\n",
        "ax = fig.add_axes([0,0,1,1])\n",
        "\n",
        "dataset = ['2018 1st half', '2018 2nd half', '2019 first half', '2019 second half']\n",
        "rows = [row2018_1,row2018_2,row2019_1,row2019_2]\n",
        "plt.xlabel('Columns')\n",
        "plt.ylabel('Rows')\n",
        "ax.bar(dataset,rows)\n",
        "plt.show()"
      ],
      "execution_count": 0,
      "outputs": [
        {
          "output_type": "display_data",
          "data": {
            "image/png": "[encoded data removed]",
            "text/plain": [
              "<Figure size 432x288 with 1 Axes>"
            ]
          },
          "metadata": {
            "tags": []
          }
        }
      ]
    },
    {
      "cell_type": "code",
      "metadata": {
        "id": "Xv6fbXaUL-eR",
        "colab_type": "code",
        "outputId": "5b84b0a5-910a-4185-dc2f-bc912fac5880",
        "colab": {
          "base_uri": "https://localhost:8080/",
          "height": 350
        }
      },
      "source": [
        "import matplotlib.pyplot as plt\n",
        "fig = plt.figure()\n",
        "ax = fig.add_axes([0,0,1,1])\n",
        "dataset = ['2018 1st half', '2018 2nd half', '2019 first half', '2019 second half']\n",
        "columns = [col2018_1,col2018_1,col2018_1,col2018_1]\n",
        "plt.xlabel('Columns')\n",
        "plt.ylabel('Dataset')\n",
        "ax.bar(dataset,columns)\n",
        "plt.show()"
      ],
      "execution_count": 0,
      "outputs": [
        {
          "output_type": "display_data",
          "data": {
            "image/png": "[encoded data removed]",
            "text/plain": [
              "<Figure size 432x288 with 1 Axes>"
            ]
          },
          "metadata": {
            "tags": []
          }
        }
      ]
    },
    {
      "cell_type": "markdown",
      "metadata": {
        "id": "3bnbLoQBN2wq",
        "colab_type": "text"
      },
      "source": [
        "<h4><b> All DATA SET ON GOOGLE CLOUD </B></h4>\n",
        "<p align=\"justify\">\n",
        "After using Pyspark and pandas togbq function I uploaded my entire dataset on Google Cloud Platform.The screenshot below depicts the entire Dataset information that I used in my Project:\n",
        "<ol><li> <b>Schema For Taxi Data set in Google Cloud:</b></li><br>\n",
        "<center>\n",
        "<img src=\"https://github.com/ssrbazpur/Envisioning-Yellow-Taxi-High-Demand-Areas-in-NYC-city/blob/master/Screenshots/Schema.PNG?raw=true\"/ height=600>\n",
        "</center>\n",
        "<li><b>Table Information for Yellow Taxi Data</b> </li><br>\n",
        "<center>\n",
        "<img src=\"https://github.com/ssrbazpur/Envisioning-Yellow-Taxi-High-Demand-Areas-in-NYC-city/blob/master/Screenshots/2018firsthalf.PNG?raw=true\" height=200px width=400px/>\n",
        "\n",
        "<img src=\"https://github.com/ssrbazpur/Envisioning-Yellow-Taxi-High-Demand-Areas-in-NYC-city/blob/master/Screenshots/2018Secondhalf.PNG?raw=true\" height=200px width=400px />\n",
        "\n",
        "<img src=\"https://github.com/ssrbazpur/Envisioning-Yellow-Taxi-High-Demand-Areas-in-NYC-city/blob/master/Screenshots/2019first.PNG?raw=true\" height=200px width=400px />\n",
        "\n",
        "<img src=\"https://github.com/ssrbazpur/Envisioning-Yellow-Taxi-High-Demand-Areas-in-NYC-city/blob/master/Screenshots/2019second.PNG?raw=true\" height=200px width=400px />\n",
        "</center>\n",
        "\n",
        "<li><b>Table & Schema Information for Zones in NYC city</b> </li><br>\n",
        "<center>\n",
        "<i><u>Table Inforamtion</u></i><br>\n",
        "<img src=\"https://github.com/ssrbazpur/Envisioning-Yellow-Taxi-High-Demand-Areas-in-NYC-city/blob/master/Screenshots/zone.PNG?raw=true\" height=200px width=400px /><br>\n",
        "<i><u>Schema Inforamtion</u></i>\n",
        "<img src=\"https://github.com/ssrbazpur/Envisioning-Yellow-Taxi-High-Demand-Areas-in-NYC-city/blob/master/Screenshots/schema%20zone.PNG?raw=true\" />\n",
        "</center>\n",
        "\n",
        "<li><b>Table Information for Weather Data </b> </li><br>\n",
        "<center>\n",
        "<img src=\"https://github.com/ssrbazpur/Envisioning-Yellow-Taxi-High-Demand-Areas-in-NYC-city/blob/master/Screenshots/weather2018.PNG?raw=true\" height=200px width=400px />\n",
        "<img src=\"https://github.com/ssrbazpur/Envisioning-Yellow-Taxi-High-Demand-Areas-in-NYC-city/blob/master/Screenshots/weather2019.PNG?raw=true\" height=200px width=400px />\n",
        "\n",
        "</center>\n",
        "\n",
        "</ol>\n",
        "</p>\n"
      ]
    },
    {
      "cell_type": "markdown",
      "metadata": {
        "id": "xgcgCevuWCHH",
        "colab_type": "text"
      },
      "source": [
        "<p align=\"justify\">Understanding Discovery:\n",
        "Discovery is an information-gathering process meant to dig deep into the details of what is important to a client's business, target audience, and industry. The more information you gather, interpret, and comprehend, the more prepared you will be to execute a site on budget and on target. This step was essential to determine the following :\n",
        "\n",
        "<ul>\n",
        "<li>Drafting a business problem statement.</li>\n",
        "<li>Reframing the problem as an analytics </li>\n",
        "challenge.\n",
        "<li>Assess resource needs and availability. </li>\n",
        "<li>Draft an analytic plan. </li>\n",
        "</ul>\n",
        "\n",
        "Scope and depth of research and inquiry will differ from project to project, but the results are the same: valuable data. \n",
        "\n",
        "\n",
        "</p>"
      ]
    }
  ]
}