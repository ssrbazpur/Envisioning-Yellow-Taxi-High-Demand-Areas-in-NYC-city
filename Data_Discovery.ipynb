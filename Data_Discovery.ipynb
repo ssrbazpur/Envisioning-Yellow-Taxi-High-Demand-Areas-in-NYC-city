{
  "nbformat": 4,
  "nbformat_minor": 0,
  "metadata": {
    "colab": {
      "name": "Data Discovery.ipynb",
      "provenance": [],
      "collapsed_sections": [],
      "machine_shape": "hm",
      "mount_file_id": "https://github.com/ssrbazpur/Envisioning-Yellow-Taxi-High-Demand-Areas-in-NYC-city/blob/master/Data_Discovery.ipynb",
      "authorship_tag": "ABX9TyPLXvBztQ9dWp/MGY61wYWE",
      "include_colab_link": true
    },
    "kernelspec": {
      "name": "python3",
      "display_name": "Python 3"
    }
  },
  "cells": [
    {
      "cell_type": "markdown",
      "metadata": {
        "id": "view-in-github",
        "colab_type": "text"
      },
      "source": [
        "<a href=\"https://colab.research.google.com/github/ssrbazpur/Envisioning-Yellow-Taxi-High-Demand-Areas-in-NYC-city/blob/master/Data_Discovery.ipynb\" target=\"_parent\"><img src=\"https://colab.research.google.com/assets/colab-badge.svg\" alt=\"Open In Colab\"/></a>"
      ]
    },
    {
      "cell_type": "markdown",
      "metadata": {
        "id": "BoAq9MXRLm3p",
        "colab_type": "text"
      },
      "source": [
        "<h3><center><b><u>Data Disovery Phase</u></b></center> </h3>\n",
        "<h4><center><b>Prepared By: Simranjeet Randhawa</b></center> </h4>\n",
        "\n",
        "\n"
      ]
    },
    {
      "cell_type": "markdown",
      "metadata": {
        "id": "7DylVrojTe9r",
        "colab_type": "text"
      },
      "source": [
        "<h3><b> Data Discovery Phase </b></h3>"
      ]
    },
    {
      "cell_type": "markdown",
      "metadata": {
        "id": "vGJ187lsid-E",
        "colab_type": "text"
      },
      "source": [
        "<b>Drafting the business problem statement. </b>\n",
        "A unique quality about Yellow cabs is that they can pick up passengers from the streets without any pre-arranged booking required. Whereas in the case of Uber, passengers mainly use the app to arrange for the taxi. So I found a business opportunity for yellow cabs to get back on track by targeting the streets where the pickups demand are high. If the passenger waits too much they switch to apps to look for a taxi but if the passengers can see a yellow cab right in front of them, they will surely choose the yellow cab instead of waiting for Uber. Hence this data science projects focus to help the NYC TLC yellow taxis to get back on track and increase the number of pickups around the NYC city. Also, the yellow cab taxi drivers can make use of the website to see the forecasted demand for different zones in NYC city. \n",
        "<center>\n",
        " <img src=\"data:image/jpeg;base64,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\"/>\n",
        " </center>\n",
        "\n",
        "<b>\n",
        " Assess resource needs and availability:</b>\n",
        "Resources Needed: Yellow Taxi pickups of past years and weather data of past year day by day was needed to make any projection in the future. Also, I need the taxi operating zone dataset of NYC city.\n",
        "Resources Availability: Yellow taxi dataset is a publicly available dataset. The attached datasets were provided and collected by the technology providers authorized under the Taxicab & Livery Passenger Enhancement Programs for the NYC Taxi and Limousine Commission (TLC).\n"
      ]
    },
    {
      "cell_type": "markdown",
      "metadata": {
        "id": "zBcALDSoC9fa",
        "colab_type": "text"
      },
      "source": [
        "<h4><b>1. Data Gathering</b></h4>\n",
        "<p align=\"justify\">Data Gathering is the first step of the machine learning life cycle. The goal of this step is to identify and obtain all data-related problems.\n",
        "In this step, we need to identify the different data sources, as data can be collected from various sources such as files, database, internet, or mobile devices. It is one of the most important steps of the life cycle. The quantity and quality of the collected data will determine the efficiency of the output. The more will be the data, the more accurate will be the prediction.\n",
        "This step includes the below tasks:\n",
        "<ul>\n",
        "<li>Identify various data sources</li>\n",
        "<li>Collect data</li>\n",
        "<li>Integrate the data obtained from different sources</li>\n",
        "</ul> By performing the above task, we get a coherent set of data, also called as a dataset. It will be used in further steps.</p>"
      ]
    },
    {
      "cell_type": "markdown",
      "metadata": {
        "id": "TcXEeKOPkEjI",
        "colab_type": "text"
      },
      "source": [
        "<h4><b>2. Identifying Data Sources</b></h4>\n",
        "<p align=\"justify\">\n",
        "<ul>\n",
        "\n",
        "<li><b>Weather Data:</b><p align=\"justify\"> This public dataset was created by the National Oceanic and Atmospheric Administration (NOAA) and includes global data obtained from the USAF Climatology Center. This dataset covers GSOD data between 1929 and present (updated daily), collected from over 9000 stations.\n",
        "</p>\n",
        "</li>\n",
        "\n",
        "<li><b>Zone Data:</b> <p align=\"justify\">It consists of an Shape file that is converted into a CSV file using an online converter and then processed using pandas. It consist of 263 zones in NYC city where the yellow taxi operates.</p></li>\n",
        "</p>\n",
        "<li><b>Yellow Taxi Trip Data:</b><p align=\"justify\"> The NYC yellow taxi data set is avaiable openly on NYC government site.The data used in the attached datasets were collected and provided to the NYC Taxi and Limousine Commission (TLC) by technology providers authorized under the Taxicab & Livery Passenger Enhancement Programs.</p></li>\n",
        "</ul>\n",
        "\n",
        "    "
      ]
    },
    {
      "cell_type": "markdown",
      "metadata": {
        "id": "nL5qHDv9l_28",
        "colab_type": "text"
      },
      "source": [
        "<h4><b>3. Data Collection</b></h4>\n",
        "<p align=\"justify\">\n",
        "The yellow taxi trip records include fields capturing pick-up and drop-off dates/times, pick-up and drop-off locations, trip distances, itemized fares, rate types, payment types, and driver-reported passenger counts. It is avaiable as s3 amazon data bucket which was initially difficult to read using a pandas dataframe. Hence the requirement of Pyspark was felt that eased the task of collecting the data from s3 bucket and use the concept of RDD to help process large set of data.\n",
        "</p>\n",
        "    "
      ]
    },
    {
      "cell_type": "markdown",
      "metadata": {
        "id": "7o4RWin1CdHG",
        "colab_type": "text"
      },
      "source": [
        "<h4><b>3.1 Data Collection using Pandas</b></h4>"
      ]
    },
    {
      "cell_type": "code",
      "metadata": {
        "id": "wHZ7oWK4CcIs",
        "colab_type": "code",
        "colab": {}
      },
      "source": [
        "import pandas as pd\n",
        "df1=pd.read_csv(\"https://s3.amazonaws.com/nyc-tlc/trip+data/yellow_tripdata_2019-01.csv\")\n",
        "df2=pd.read_csv(\"https://s3.amazonaws.com/nyc-tlc/trip+data/yellow_tripdata_2019-02.csv\")\n",
        "df3=pd.read_csv(\"https://s3.amazonaws.com/nyc-tlc/trip+data/yellow_tripdata_2019-03.csv\")\n",
        "df4=pd.read_csv(\"https://s3.amazonaws.com/nyc-tlc/trip+data/yellow_tripdata_2019-04.csv\")\n",
        "df5=pd.read_csv(\"https://s3.amazonaws.com/nyc-tlc/trip+data/yellow_tripdata_2019-05.csv\")\n",
        "df6=pd.read_csv(\"https://s3.amazonaws.com/nyc-tlc/trip+data/yellow_tripdata_2019-06.csv\")\n",
        "df7=pd.read_csv(\"https://s3.amazonaws.com/nyc-tlc/trip+data/yellow_tripdata_2019-07.csv\")\n",
        "df8=pd.read_csv(\"https://s3.amazonaws.com/nyc-tlc/trip+data/yellow_tripdata_2019-08.csv\")\n",
        "df9=pd.read_csv(\"https://s3.amazonaws.com/nyc-tlc/trip+data/yellow_tripdata_2019-09.csv\")\n",
        "df10=pd.read_csv(\"https://s3.amazonaws.com/nyc-tlc/trip+data/yellow_tripdata_2019-10.csv\")\n",
        "df11=pd.read_csv(\"https://s3.amazonaws.com/nyc-tlc/trip+data/yellow_tripdata_2019-11.csv\")\n",
        "df12=pd.read_csv(\"https://s3.amazonaws.com/nyc-tlc/trip+data/yellow_tripdata_2019-12.csv\")"
      ],
      "execution_count": 0,
      "outputs": []
    },
    {
      "cell_type": "code",
      "metadata": {
        "id": "sNnIZs4tC-j4",
        "colab_type": "code",
        "colab": {}
      },
      "source": [
        "frames=[df1,df2,df3,df4,df5,df6,df7,df8,df9,df10,df11,df12]\n",
        "result = pd.concat(frames)"
      ],
      "execution_count": 0,
      "outputs": []
    },
    {
      "cell_type": "markdown",
      "metadata": {
        "id": "vxkceapLDb0S",
        "colab_type": "text"
      },
      "source": [
        "<p align=\"justify\">\n",
        "It was giving Not enough memory error. I decided to go with Pyspark which uses the RDD architecture which consumes less RAM. Also I setup the environment for RDD and also upgraded my RAM TO 25 GB with a standalone cluster on Google Colab.\n",
        "</p>"
      ]
    },
    {
      "cell_type": "markdown",
      "metadata": {
        "id": "nc0fiIpuCW23",
        "colab_type": "text"
      },
      "source": [
        "<h4><b>3.2 Data Collection using Pyspark</b></h4>"
      ]
    },
    {
      "cell_type": "markdown",
      "metadata": {
        "id": "HM-lGruzgKr0",
        "colab_type": "text"
      },
      "source": [
        "<p> <b> <u> 2018 Taxi Data Collection </u></b> </p>"
      ]
    },
    {
      "cell_type": "code",
      "metadata": {
        "id": "OBUvOAp0qb2K",
        "colab_type": "code",
        "colab": {}
      },
      "source": [
        "!apt-get install openjdk-8-jdk-headless -qq > /dev/null\n",
        "!wget -q http://apache.osuosl.org/spark/spark-2.4.5/spark-2.4.5-bin-hadoop2.7.tgz\n",
        "!tar xf spark-2.4.5-bin-hadoop2.7.tgz\n",
        "!pip install -q findspark"
      ],
      "execution_count": 0,
      "outputs": []
    },
    {
      "cell_type": "code",
      "metadata": {
        "id": "ccwEi-2usXk5",
        "colab_type": "code",
        "colab": {}
      },
      "source": [
        "# 2. Setup Environment Variables\n",
        "import os\n",
        "os.environ[\"JAVA_HOME\"] = \"/usr/lib/jvm/java-8-openjdk-amd64\"\n",
        "os.environ[\"SPARK_HOME\"] = \"/content/spark-2.4.5-bin-hadoop2.7\""
      ],
      "execution_count": 0,
      "outputs": []
    },
    {
      "cell_type": "code",
      "metadata": {
        "id": "_87nK6X4czVz",
        "colab_type": "code",
        "colab": {}
      },
      "source": [
        "import findspark\n",
        "findspark.init()"
      ],
      "execution_count": 0,
      "outputs": []
    },
    {
      "cell_type": "code",
      "metadata": {
        "id": "_E-NWT58yBsU",
        "colab_type": "code",
        "colab": {}
      },
      "source": [
        "from pyspark import SparkContext\n",
        "from pyspark.sql import HiveContext, SQLContext, Row\n",
        "from pyspark.sql.types import *\n",
        "from datetime import datetime\n",
        "from pyspark.sql.functions import col, date_sub, log, mean, to_date, udf, unix_timestamp\n",
        "from pyspark.sql.window import Window\n",
        "from pyspark.sql import DataFrame"
      ],
      "execution_count": 0,
      "outputs": []
    },
    {
      "cell_type": "code",
      "metadata": {
        "id": "FUtW_9K3yERq",
        "colab_type": "code",
        "colab": {}
      },
      "source": [
        "sc =SparkContext()\n",
        "sc.setLogLevel(\"DEBUG\")\n",
        "sqlContext = SQLContext(sc)"
      ],
      "execution_count": 0,
      "outputs": []
    },
    {
      "cell_type": "code",
      "metadata": {
        "id": "TgyrdCYsycjG",
        "colab_type": "code",
        "colab": {}
      },
      "source": [
        "from pyspark.sql import SparkSession\n",
        "spark = SparkSession.builder.master(\"local[*]\").getOrCreate()"
      ],
      "execution_count": 0,
      "outputs": []
    },
    {
      "cell_type": "code",
      "metadata": {
        "id": "veck6ah_eV8V",
        "colab_type": "code",
        "colab": {}
      },
      "source": [
        "from pyspark import SparkFiles\n",
        "url1 = \"https://s3.amazonaws.com/nyc-tlc/trip+data/yellow_tripdata_2018-01.csv\"\n",
        "url2 = \"https://s3.amazonaws.com/nyc-tlc/trip+data/yellow_tripdata_2018-02.csv\"\n",
        "url3 = \"https://s3.amazonaws.com/nyc-tlc/trip+data/yellow_tripdata_2018-03.csv\"\n",
        "url4 = \"https://s3.amazonaws.com/nyc-tlc/trip+data/yellow_tripdata_2018-04.csv\"\n",
        "url5 = \"https://s3.amazonaws.com/nyc-tlc/trip+data/yellow_tripdata_2018-05.csv\"\n",
        "url6 = \"https://s3.amazonaws.com/nyc-tlc/trip+data/yellow_tripdata_2018-06.csv\"\n",
        "url7 = \"https://s3.amazonaws.com/nyc-tlc/trip+data/yellow_tripdata_2018-07.csv\"\n",
        "url8 = \"https://s3.amazonaws.com/nyc-tlc/trip+data/yellow_tripdata_2018-08.csv\"\n",
        "url9 = \"https://s3.amazonaws.com/nyc-tlc/trip+data/yellow_tripdata_2018-09.csv\"\n",
        "url10 = \"https://s3.amazonaws.com/nyc-tlc/trip+data/yellow_tripdata_2018-10.csv\"\n",
        "url11 = \"https://s3.amazonaws.com/nyc-tlc/trip+data/yellow_tripdata_2018-11.csv\"\n",
        "url12 = \"https://s3.amazonaws.com/nyc-tlc/trip+data/yellow_tripdata_2018-12.csv\"\n",
        "spark.sparkContext.addFile(url1)\n",
        "spark.sparkContext.addFile(url2)\n",
        "spark.sparkContext.addFile(url3)\n",
        "spark.sparkContext.addFile(url4)\n",
        "spark.sparkContext.addFile(url5)\n",
        "spark.sparkContext.addFile(url6)\n",
        "spark.sparkContext.addFile(url7)\n",
        "spark.sparkContext.addFile(url8)\n",
        "spark.sparkContext.addFile(url9)\n",
        "spark.sparkContext.addFile(url10)\n",
        "spark.sparkContext.addFile(url11)\n",
        "spark.sparkContext.addFile(url12)"
      ],
      "execution_count": 0,
      "outputs": []
    },
    {
      "cell_type": "code",
      "metadata": {
        "id": "rAweC84wefC8",
        "colab_type": "code",
        "colab": {}
      },
      "source": [
        "df1 = spark.read.csv(\"file://\"+SparkFiles.get(\"yellow_tripdata_2018-01.csv\"), header=True, inferSchema= True)\n",
        "df2 = spark.read.csv(\"file://\"+SparkFiles.get(\"yellow_tripdata_2018-02.csv\"), header=True, inferSchema= True)\n",
        "df3 = spark.read.csv(\"file://\"+SparkFiles.get(\"yellow_tripdata_2018-03.csv\"), header=True, inferSchema= True)\n",
        "df4 = spark.read.csv(\"file://\"+SparkFiles.get(\"yellow_tripdata_2018-04.csv\"), header=True, inferSchema= True)\n",
        "df5 = spark.read.csv(\"file://\"+SparkFiles.get(\"yellow_tripdata_2018-05.csv\"), header=True, inferSchema= True)\n",
        "df6 = spark.read.csv(\"file://\"+SparkFiles.get(\"yellow_tripdata_2018-06.csv\"), header=True, inferSchema= True)\n",
        "df7 = spark.read.csv(\"file://\"+SparkFiles.get(\"yellow_tripdata_2018-07.csv\"), header=True, inferSchema= True)\n",
        "df8 = spark.read.csv(\"file://\"+SparkFiles.get(\"yellow_tripdata_2018-08.csv\"), header=True, inferSchema= True)\n",
        "df9 = spark.read.csv(\"file://\"+SparkFiles.get(\"yellow_tripdata_2018-09.csv\"), header=True, inferSchema= True)\n",
        "df10 = spark.read.csv(\"file://\"+SparkFiles.get(\"yellow_tripdata_2018-10.csv\"), header=True, inferSchema= True)\n",
        "df11 = spark.read.csv(\"file://\"+SparkFiles.get(\"yellow_tripdata_2018-11.csv\"), header=True, inferSchema= True)\n",
        "df12 = spark.read.csv(\"file://\"+SparkFiles.get(\"yellow_tripdata_2018-12.csv\"), header=True, inferSchema= True)"
      ],
      "execution_count": 0,
      "outputs": []
    },
    {
      "cell_type": "code",
      "metadata": {
        "id": "h4gU7D9uN-xL",
        "colab_type": "code",
        "colab": {}
      },
      "source": [
        "df_lowerhalf = df1.union(df2)\n",
        "df_lowerhalf = df_lowerhalf.union(df3)\n",
        "df_lowerhalf = df_lowerhalf.union(df4)\n",
        "df_lowerhalf = df_lowerhalf.union(df5)\n",
        "df_lowerhalf = df_lowerhalf.union(df6)"
      ],
      "execution_count": 0,
      "outputs": []
    },
    {
      "cell_type": "code",
      "metadata": {
        "id": "dO2AXQAl6c4g",
        "colab_type": "code",
        "colab": {}
      },
      "source": [
        "df_upperhalf = d7.union(df8)\n",
        "df_upperhalf = df_upperhalf.union(df9)\n",
        "df_upperhalf = df_upperhalf.union(df10)\n",
        "df_upperhalf = df_upperhalf.union(df11)\n",
        "df_upperhalf = df_upperhalf.union(df12)"
      ],
      "execution_count": 0,
      "outputs": []
    },
    {
      "cell_type": "markdown",
      "metadata": {
        "id": "bfwvkdRsFH_l",
        "colab_type": "text"
      },
      "source": [
        "<p align=\"justify\"> Copressing and storing in Parquet form to enable faster processing </p>"
      ]
    },
    {
      "cell_type": "code",
      "metadata": {
        "id": "KuuZMpFbqFvX",
        "colab_type": "code",
        "outputId": "920c8334-ab62-4fc9-ddcc-2017de345c98",
        "colab": {
          "base_uri": "https://localhost:8080/",
          "height": 34
        }
      },
      "source": [
        "from google.colab import drive\n",
        "drive.mount('/content/drive')"
      ],
      "execution_count": 0,
      "outputs": [
        {
          "output_type": "stream",
          "text": [
            "Drive already mounted at /content/drive; to attempt to forcibly remount, call drive.mount(\"/content/drive\", force_remount=True).\n"
          ],
          "name": "stdout"
        }
      ]
    },
    {
      "cell_type": "code",
      "metadata": {
        "id": "x4SNgMd1O2GS",
        "colab_type": "code",
        "outputId": "bb4b9374-0588-4a47-d09e-b701c6f9e7db",
        "colab": {
          "base_uri": "https://localhost:8080/",
          "height": 50
        }
      },
      "source": [
        "print(\"Shape of 2018 First Half\")\n",
        "print((df_lowerhalf.count(), len(df_lowerhalf.columns)))\n",
        "row2018_1=df_lowerhalf.count()\n",
        "col2018_1=df_lowerhalf.columns"
      ],
      "execution_count": 0,
      "outputs": [
        {
          "output_type": "stream",
          "text": [
            "Shape of 2018 First Half\n",
            "(53925735, 17)\n"
          ],
          "name": "stdout"
        }
      ]
    },
    {
      "cell_type": "code",
      "metadata": {
        "id": "c2cT-4VLJVGu",
        "colab_type": "code",
        "outputId": "79e7dd3f-bdd3-4493-e689-fa20ecf97202",
        "colab": {
          "base_uri": "https://localhost:8080/",
          "height": 50
        }
      },
      "source": [
        "print(\"Shape of 2018 Second Half\")\n",
        "print((df_upperhalf.count(), len(df_upperhalf.columns)))\n",
        "row2018_2=df_upperhalf.count()\n",
        "col2018_2=df_upperhalf.columns"
      ],
      "execution_count": 0,
      "outputs": [
        {
          "output_type": "stream",
          "text": [
            "Shape of 2018 Second Half\n",
            "(48878515, 17)\n"
          ],
          "name": "stdout"
        }
      ]
    },
    {
      "cell_type": "markdown",
      "metadata": {
        "id": "czw3EJ24jJBb",
        "colab_type": "text"
      },
      "source": [
        "Note the below will take time. You can download .parquet from the links:\n",
        "1. 2019 second half- https://drive.google.com/file/d/1-9OQbXxQR1QJrjsb0r_-dJMjte87dLZU/view?usp=sharing\n",
        "2. 2019 first half - https://drive.google.com/file/d/1Q8Qa7TgxrU7gRe5Nx4Ep2JEn6dXrt0ef/view?usp=sharing\n",
        "3. 2018 second half - https://drive.google.com/file/d/1-FM7ysEpoD9pSv2zXcFbvSlApamjMGdu/view?usp=sharing\n",
        "4. 2018 first half - https://drive.google.com/file/d/1-AFMi1MxPo85ESsJsvC4yh60K_E0H9BL/view?usp=sharing"
      ]
    },
    {
      "cell_type": "code",
      "metadata": {
        "id": "TzaKgmzj3gvJ",
        "colab_type": "code",
        "colab": {}
      },
      "source": [
        "#Creating Parquet files\n",
        "df_upperhalf.write.parquet(\"/content/drive/My Drive/Data Science/2018secondhalf.parquet\")\n",
        "df_lowerhalf.write.parquet(\"/content/drive/My Drive/Data Science/2018firsthalf.parquet\")"
      ],
      "execution_count": 0,
      "outputs": []
    },
    {
      "cell_type": "markdown",
      "metadata": {
        "id": "qbBKw8WtFlPa",
        "colab_type": "text"
      },
      "source": [
        "Now Parquet files can be read into Pandas Dataframe. I did run this command on 25 Gb colab cluster. Please note it is important to specify the file path to parquet file correctly."
      ]
    },
    {
      "cell_type": "code",
      "metadata": {
        "id": "YJQqBJZyjggm",
        "colab_type": "code",
        "colab": {}
      },
      "source": [
        "import pandas as pd\n",
        "y2018_part1=pd.read_parquet('/content/drive/My Drive/Data Science/2018firsthalf.parquet')"
      ],
      "execution_count": 0,
      "outputs": []
    },
    {
      "cell_type": "code",
      "metadata": {
        "id": "h5mk0wfzUnUL",
        "colab_type": "code",
        "colab": {
          "base_uri": "https://localhost:8080/",
          "height": 34
        },
        "outputId": "59715cd8-1cf1-4fca-a94e-0300b58a3afb"
      },
      "source": [
        "y2018_part1.shape"
      ],
      "execution_count": 3,
      "outputs": [
        {
          "output_type": "execute_result",
          "data": {
            "text/plain": [
              "(53925735, 17)"
            ]
          },
          "metadata": {
            "tags": []
          },
          "execution_count": 3
        }
      ]
    },
    {
      "cell_type": "code",
      "metadata": {
        "id": "4JpB23tVqifD",
        "colab_type": "code",
        "colab": {}
      },
      "source": [
        "!pip install datalab"
      ],
      "execution_count": 0,
      "outputs": []
    },
    {
      "cell_type": "code",
      "metadata": {
        "id": "ehg5acm6qZlc",
        "colab_type": "code",
        "colab": {}
      },
      "source": [
        "from datalab.context import Context"
      ],
      "execution_count": 0,
      "outputs": []
    },
    {
      "cell_type": "markdown",
      "metadata": {
        "id": "Eu_Xdj_pjTlQ",
        "colab_type": "text"
      },
      "source": [
        "For running this steps you require Google Cloud Credentials with project ID. Note : I am not sharing my credentials as it is associated with my account. But you can run this step after setting up the credentials as shown in : \n"
      ]
    },
    {
      "cell_type": "code",
      "metadata": {
        "id": "fLHZ6uf5qGg3",
        "colab_type": "code",
        "colab": {}
      },
      "source": [
        "import os\n",
        "os.environ[\"GOOGLE_APPLICATION_CREDENTIALS\"]=\"/content/drive/My Drive/Data Science/nyc-taxi-265120-baf9a3e4cf9b.json\"\n",
        "%reload_ext google.cloud.bigquery"
      ],
      "execution_count": 0,
      "outputs": []
    },
    {
      "cell_type": "code",
      "metadata": {
        "id": "CKKA3sY-UoeS",
        "colab_type": "code",
        "colab": {}
      },
      "source": [
        "#Storing to Google Cloud Platform\n",
        "project_id = 'nyc-taxi-265120' #@param{type:\"string\"}\n",
        "y2018_part1.to_gbq('NYC.2018firsthalf', \n",
        "                 Context.default().project_id,\n",
        "                 chunksize=500000, \n",
        "                 if_exists='append',\n",
        "                 verbose=False\n",
        "                 )"
      ],
      "execution_count": 0,
      "outputs": []
    },
    {
      "cell_type": "code",
      "metadata": {
        "id": "Rl9jy0SXUNWv",
        "colab_type": "code",
        "colab": {}
      },
      "source": [
        "y2018_part2=pd.read_parquet('/content/drive/My Drive/Data Science/2018secondhalf.parquet')"
      ],
      "execution_count": 0,
      "outputs": []
    },
    {
      "cell_type": "code",
      "metadata": {
        "id": "ZiBeJe1u8i9c",
        "colab_type": "code",
        "colab": {}
      },
      "source": [
        "#Storing to Google Cloud Platform\n",
        "project_id = 'nyc-taxi-265120' #@param{type:\"string\"}\n",
        "y2018_part2.to_gbq('NYC.2018SecondHalf', \n",
        "                 Context.default().project_id,\n",
        "                 chunksize=500000, \n",
        "                 if_exists='append',\n",
        "                 verbose=False\n",
        "                 )"
      ],
      "execution_count": 0,
      "outputs": []
    },
    {
      "cell_type": "markdown",
      "metadata": {
        "id": "13DIgmFRgXU2",
        "colab_type": "text"
      },
      "source": [
        "<b><u> 2019 Taxi Data Collection </u></b>"
      ]
    },
    {
      "cell_type": "code",
      "metadata": {
        "id": "IcNBwpB7w0MJ",
        "colab_type": "code",
        "colab": {}
      },
      "source": [
        "url1 = \"https://s3.amazonaws.com/nyc-tlc/trip+data/yellow_tripdata_2019-01.csv\"\n",
        "url2 = \"https://s3.amazonaws.com/nyc-tlc/trip+data/yellow_tripdata_2019-02.csv\"\n",
        "url3 = \"https://s3.amazonaws.com/nyc-tlc/trip+data/yellow_tripdata_2019-03.csv\"\n",
        "url4 = \"https://s3.amazonaws.com/nyc-tlc/trip+data/yellow_tripdata_2019-04.csv\"\n",
        "url5 = \"https://s3.amazonaws.com/nyc-tlc/trip+data/yellow_tripdata_2019-05.csv\"\n",
        "url6 = \"https://s3.amazonaws.com/nyc-tlc/trip+data/yellow_tripdata_2019-06.csv\"\n",
        "\n",
        "url7 = \"https://s3.amazonaws.com/nyc-tlc/trip+data/yellow_tripdata_2019-07.csv\"\n",
        "url8 = \"https://s3.amazonaws.com/nyc-tlc/trip+data/yellow_tripdata_2019-08.csv\"\n",
        "url9 = \"https://s3.amazonaws.com/nyc-tlc/trip+data/yellow_tripdata_2019-09.csv\"\n",
        "url10 = \"https://s3.amazonaws.com/nyc-tlc/trip+data/yellow_tripdata_2019-10.csv\"\n",
        "url11 = \"https://s3.amazonaws.com/nyc-tlc/trip+data/yellow_tripdata_2019-11.csv\"\n",
        "url12 = \"https://s3.amazonaws.com/nyc-tlc/trip+data/yellow_tripdata_2019-12.csv\"\n",
        "\n",
        "spark.sparkContext.addFile(url1)\n",
        "spark.sparkContext.addFile(url2)\n",
        "spark.sparkContext.addFile(url3)\n",
        "spark.sparkContext.addFile(url4)\n",
        "spark.sparkContext.addFile(url5)\n",
        "spark.sparkContext.addFile(url6)\n",
        "spark.sparkContext.addFile(url7)\n",
        "spark.sparkContext.addFile(url8)\n",
        "spark.sparkContext.addFile(url9)\n",
        "spark.sparkContext.addFile(url10)\n",
        "spark.sparkContext.addFile(url11)\n",
        "spark.sparkContext.addFile(url12)\n"
      ],
      "execution_count": 0,
      "outputs": []
    },
    {
      "cell_type": "code",
      "metadata": {
        "id": "AH1tdvnZhJ9J",
        "colab_type": "code",
        "colab": {}
      },
      "source": [
        "df21 = spark.read.csv(\"file://\"+SparkFiles.get(\"yellow_tripdata_2019-01.csv\"), header=True, inferSchema= True)\n",
        "df22 = spark.read.csv(\"file://\"+SparkFiles.get(\"yellow_tripdata_2019-02.csv\"), header=True, inferSchema= True)\n",
        "df23 = spark.read.csv(\"file://\"+SparkFiles.get(\"yellow_tripdata_2019-03.csv\"), header=True, inferSchema= True)\n",
        "df24 = spark.read.csv(\"file://\"+SparkFiles.get(\"yellow_tripdata_2019-04.csv\"), header=True, inferSchema= True)\n",
        "df25 = spark.read.csv(\"file://\"+SparkFiles.get(\"yellow_tripdata_2019-05.csv\"), header=True, inferSchema= True)\n",
        "df26 = spark.read.csv(\"file://\"+SparkFiles.get(\"yellow_tripdata_2019-06.csv\"), header=True, inferSchema= True)\n",
        "\n",
        "df27 = spark.read.csv(\"file://\"+SparkFiles.get(\"yellow_tripdata_2019-07.csv\"), header=True, inferSchema= True)\n",
        "df28 = spark.read.csv(\"file://\"+SparkFiles.get(\"yellow_tripdata_2019-08.csv\"), header=True, inferSchema= True)\n",
        "df29 = spark.read.csv(\"file://\"+SparkFiles.get(\"yellow_tripdata_2019-09.csv\"), header=True, inferSchema= True)\n",
        "df210 = spark.read.csv(\"file://\"+SparkFiles.get(\"yellow_tripdata_2019-10.csv\"), header=True, inferSchema= True)\n",
        "df211 = spark.read.csv(\"file://\"+SparkFiles.get(\"yellow_tripdata_2019-11.csv\"), header=True, inferSchema= True)\n",
        "df212 = spark.read.csv(\"file://\"+SparkFiles.get(\"yellow_tripdata_2019-12.csv\"), header=True, inferSchema= True)"
      ],
      "execution_count": 0,
      "outputs": []
    },
    {
      "cell_type": "code",
      "metadata": {
        "id": "H5RSft1nhlSq",
        "colab_type": "code",
        "colab": {}
      },
      "source": [
        "df_lowerhalf_2019 = df21.union(df22)\n",
        "df_lowerhalf_2019 = df_lowerhalf_2020.union(df23)\n",
        "df_lowerhalf_2019 = df_lowerhalf_2020.union(df24)\n",
        "df_lowerhalf_2019 = df_lowerhalf_2020.union(df25)\n",
        "df_lowerhalf_2019 = df_lowerhalf_2020.union(df26)"
      ],
      "execution_count": 0,
      "outputs": []
    },
    {
      "cell_type": "code",
      "metadata": {
        "id": "xYYC792L9tau",
        "colab_type": "code",
        "colab": {}
      },
      "source": [
        "df_upperhalf_2019 = df27.union(df28)\n",
        "df_upperhalf_2019 = df_upperhalf_2020.union(df29)\n",
        "df_upperhalf_2019 = df_upperhalf_2020.union(df210)\n",
        "df_upperhalf_2019 = df_upperhalf_2020.union(df211)\n",
        "df_upperhalf_2019 = df_upperhalf_2020.union(df212)"
      ],
      "execution_count": 0,
      "outputs": []
    },
    {
      "cell_type": "code",
      "metadata": {
        "id": "e_ixtMbjJxwd",
        "colab_type": "code",
        "outputId": "f67a70cb-e29e-4b59-eefc-55300e7cf4d7",
        "colab": {
          "base_uri": "https://localhost:8080/",
          "height": 50
        }
      },
      "source": [
        "print(\"Shape of 2019 First Half\")\n",
        "print((df_lowerhalf_2019.count(), len(df_lowerhalf_2019.columns)))\n",
        "row2019_1=df_lowerhalf_2019.count()\n",
        "col2019_1=df_lowerhalf_2019.columns"
      ],
      "execution_count": 0,
      "outputs": [
        {
          "output_type": "stream",
          "text": [
            "Shape of 2019 First Half\n",
            "(44459136, 17)\n"
          ],
          "name": "stdout"
        }
      ]
    },
    {
      "cell_type": "code",
      "metadata": {
        "id": "gMcMgwuDJyWI",
        "colab_type": "code",
        "outputId": "71d4d8be-1118-44c4-f340-e9d6b30a9961",
        "colab": {
          "base_uri": "https://localhost:8080/",
          "height": 50
        }
      },
      "source": [
        "print(\"Shape of 2019 Second Half\")\n",
        "print((df_lowerhalf.count(), len(df_lowerhalf.columns)))\n",
        "row2019_2=df_upperhalf_2019.count()\n",
        "col2019_2=df_upperhalf_2019.columns"
      ],
      "execution_count": 0,
      "outputs": [
        {
          "output_type": "stream",
          "text": [
            "Shape of 2019 Second Half\n",
            "(39939883, 17)\n"
          ],
          "name": "stdout"
        }
      ]
    },
    {
      "cell_type": "code",
      "metadata": {
        "id": "aj4FuyqOht2y",
        "colab_type": "code",
        "colab": {}
      },
      "source": [
        "df_upperhalf_2020.write.parquet(\"/content/drive/My Drive/Data Science/2019upper.parquet\")\n",
        "df_lowerhalf_2020.write.parquet(\"/content/drive/My Drive/Data Science/2019lower.parquet\")"
      ],
      "execution_count": 0,
      "outputs": []
    },
    {
      "cell_type": "code",
      "metadata": {
        "id": "YFMeiN-Ch0b4",
        "colab_type": "code",
        "colab": {}
      },
      "source": [
        "import pandas as pd\n",
        "y2019upper=pd.read_parquet('/content/drive/My Drive/Data Science/2019upper.parquet')\n",
        "y2019lower=pd.read_parquet('/content/drive/My Drive/Data Science/2019lower.parquet')"
      ],
      "execution_count": 0,
      "outputs": []
    },
    {
      "cell_type": "code",
      "metadata": {
        "id": "jFz5Gvp_h59B",
        "colab_type": "code",
        "colab": {}
      },
      "source": [
        "#Storing to Google Cloud Platform\n",
        "project_id = 'nyc-taxi-265120' #@param{type:\"string\"}\n",
        "y2019lower.to_gbq('NYC.2019firsthalf', \n",
        "                 Context.default().project_id,\n",
        "                 chunksize=500000, \n",
        "                 if_exists='append',\n",
        "                 verbose=False\n",
        "                 )"
      ],
      "execution_count": 0,
      "outputs": []
    },
    {
      "cell_type": "code",
      "metadata": {
        "id": "ciy7rlGc_C2X",
        "colab_type": "code",
        "colab": {}
      },
      "source": [
        "#Storing to Google Cloud Platform\n",
        "project_id = 'nyc-taxi-265120' #@param{type:\"string\"}\n",
        "y2019upper.to_gbq('NYC.2019secondhalf', \n",
        "                 Context.default().project_id,\n",
        "                 chunksize=500000, \n",
        "                 if_exists='append',\n",
        "                 verbose=False\n",
        "                 )"
      ],
      "execution_count": 0,
      "outputs": []
    },
    {
      "cell_type": "markdown",
      "metadata": {
        "id": "I454tHAeFOMF",
        "colab_type": "text"
      },
      "source": [
        "<b><u> Weather Data </u></b>"
      ]
    },
    {
      "cell_type": "code",
      "metadata": {
        "id": "OsLMvRaMqMq0",
        "colab_type": "code",
        "colab": {}
      },
      "source": [
        "project_id = 'nyc-taxi-265120' \n",
        "from google.cloud import bigquery\n",
        "client = bigquery.Client(project = project_id)"
      ],
      "execution_count": 0,
      "outputs": []
    },
    {
      "cell_type": "code",
      "metadata": {
        "id": "xe6ILI8YFNIa",
        "colab_type": "code",
        "outputId": "71dcf502-4cd7-49d2-c869-c475656df8bc",
        "colab": {
          "base_uri": "https://localhost:8080/",
          "height": 34
        }
      },
      "source": [
        "from google.cloud import bigquery\n",
        "\n",
        "client = bigquery.Client(project=project_id)\n",
        "\n",
        "sample_count = 2000\n",
        "row_count = client.query('''\n",
        "  SELECT \n",
        "    COUNT(*) as total\n",
        "  FROM `bigquery-public-data.samples.gsod`''').to_dataframe().total[0]\n",
        "\n",
        "df = client.query('''\n",
        "  SELECT\n",
        "    *\n",
        "  FROM\n",
        "    `bigquery-public-data.samples.gsod`\n",
        "  WHERE RAND() < %d/%d\n",
        "''' % (sample_count, row_count)).to_dataframe()\n",
        "\n",
        "print('Full dataset has %d rows' % row_count)"
      ],
      "execution_count": 0,
      "outputs": [
        {
          "output_type": "stream",
          "text": [
            "Full dataset has 114420316 rows\n"
          ],
          "name": "stdout"
        }
      ]
    },
    {
      "cell_type": "code",
      "metadata": {
        "id": "b7_oAh7NFnfC",
        "colab_type": "code",
        "outputId": "d6c33be8-3c87-4543-d179-0c52c15cf594",
        "colab": {
          "base_uri": "https://localhost:8080/",
          "height": 215
        }
      },
      "source": [
        "df.head()"
      ],
      "execution_count": 0,
      "outputs": [
        {
          "output_type": "execute_result",
          "data": {
            "text/html": [
              "<div>\n",
              "<style scoped>\n",
              "    .dataframe tbody tr th:only-of-type {\n",
              "        vertical-align: middle;\n",
              "    }\n",
              "\n",
              "    .dataframe tbody tr th {\n",
              "        vertical-align: top;\n",
              "    }\n",
              "\n",
              "    .dataframe thead th {\n",
              "        text-align: right;\n",
              "    }\n",
              "</style>\n",
              "<table border=\"1\" class=\"dataframe\">\n",
              "  <thead>\n",
              "    <tr style=\"text-align: right;\">\n",
              "      <th></th>\n",
              "      <th>station_number</th>\n",
              "      <th>wban_number</th>\n",
              "      <th>year</th>\n",
              "      <th>month</th>\n",
              "      <th>day</th>\n",
              "      <th>mean_temp</th>\n",
              "      <th>num_mean_temp_samples</th>\n",
              "      <th>mean_dew_point</th>\n",
              "      <th>num_mean_dew_point_samples</th>\n",
              "      <th>mean_sealevel_pressure</th>\n",
              "      <th>num_mean_sealevel_pressure_samples</th>\n",
              "      <th>mean_station_pressure</th>\n",
              "      <th>num_mean_station_pressure_samples</th>\n",
              "      <th>mean_visibility</th>\n",
              "      <th>num_mean_visibility_samples</th>\n",
              "      <th>mean_wind_speed</th>\n",
              "      <th>num_mean_wind_speed_samples</th>\n",
              "      <th>max_sustained_wind_speed</th>\n",
              "      <th>max_gust_wind_speed</th>\n",
              "      <th>max_temperature</th>\n",
              "      <th>max_temperature_explicit</th>\n",
              "      <th>min_temperature</th>\n",
              "      <th>min_temperature_explicit</th>\n",
              "      <th>total_precipitation</th>\n",
              "      <th>snow_depth</th>\n",
              "      <th>fog</th>\n",
              "      <th>rain</th>\n",
              "      <th>snow</th>\n",
              "      <th>hail</th>\n",
              "      <th>thunder</th>\n",
              "      <th>tornado</th>\n",
              "    </tr>\n",
              "  </thead>\n",
              "  <tbody>\n",
              "    <tr>\n",
              "      <th>0</th>\n",
              "      <td>153490</td>\n",
              "      <td>99999</td>\n",
              "      <td>1985</td>\n",
              "      <td>9</td>\n",
              "      <td>26</td>\n",
              "      <td>57.599998</td>\n",
              "      <td>4</td>\n",
              "      <td>NaN</td>\n",
              "      <td>NaN</td>\n",
              "      <td>NaN</td>\n",
              "      <td>NaN</td>\n",
              "      <td>NaN</td>\n",
              "      <td>NaN</td>\n",
              "      <td>6.7</td>\n",
              "      <td>4.0</td>\n",
              "      <td>3.4</td>\n",
              "      <td>4.0</td>\n",
              "      <td>11.7</td>\n",
              "      <td>NaN</td>\n",
              "      <td>50.400002</td>\n",
              "      <td>True</td>\n",
              "      <td>None</td>\n",
              "      <td>None</td>\n",
              "      <td>0.08</td>\n",
              "      <td>NaN</td>\n",
              "      <td>False</td>\n",
              "      <td>False</td>\n",
              "      <td>False</td>\n",
              "      <td>False</td>\n",
              "      <td>False</td>\n",
              "      <td>False</td>\n",
              "    </tr>\n",
              "    <tr>\n",
              "      <th>1</th>\n",
              "      <td>722025</td>\n",
              "      <td>12849</td>\n",
              "      <td>1994</td>\n",
              "      <td>8</td>\n",
              "      <td>29</td>\n",
              "      <td>80.199997</td>\n",
              "      <td>21</td>\n",
              "      <td>73.800003</td>\n",
              "      <td>21.0</td>\n",
              "      <td>NaN</td>\n",
              "      <td>NaN</td>\n",
              "      <td>NaN</td>\n",
              "      <td>NaN</td>\n",
              "      <td>12.6</td>\n",
              "      <td>21.0</td>\n",
              "      <td>3.0</td>\n",
              "      <td>21.0</td>\n",
              "      <td>9.9</td>\n",
              "      <td>NaN</td>\n",
              "      <td>74.800003</td>\n",
              "      <td>True</td>\n",
              "      <td>None</td>\n",
              "      <td>None</td>\n",
              "      <td>NaN</td>\n",
              "      <td>NaN</td>\n",
              "      <td>False</td>\n",
              "      <td>False</td>\n",
              "      <td>False</td>\n",
              "      <td>False</td>\n",
              "      <td>False</td>\n",
              "      <td>False</td>\n",
              "    </tr>\n",
              "    <tr>\n",
              "      <th>2</th>\n",
              "      <td>715520</td>\n",
              "      <td>99999</td>\n",
              "      <td>1999</td>\n",
              "      <td>9</td>\n",
              "      <td>2</td>\n",
              "      <td>60.000000</td>\n",
              "      <td>4</td>\n",
              "      <td>49.099998</td>\n",
              "      <td>4.0</td>\n",
              "      <td>NaN</td>\n",
              "      <td>NaN</td>\n",
              "      <td>NaN</td>\n",
              "      <td>NaN</td>\n",
              "      <td>NaN</td>\n",
              "      <td>NaN</td>\n",
              "      <td>9.3</td>\n",
              "      <td>4.0</td>\n",
              "      <td>15.0</td>\n",
              "      <td>25.1</td>\n",
              "      <td>56.099998</td>\n",
              "      <td>True</td>\n",
              "      <td>None</td>\n",
              "      <td>None</td>\n",
              "      <td>0.00</td>\n",
              "      <td>NaN</td>\n",
              "      <td>False</td>\n",
              "      <td>False</td>\n",
              "      <td>False</td>\n",
              "      <td>False</td>\n",
              "      <td>False</td>\n",
              "      <td>False</td>\n",
              "    </tr>\n",
              "    <tr>\n",
              "      <th>3</th>\n",
              "      <td>333012</td>\n",
              "      <td>99999</td>\n",
              "      <td>2004</td>\n",
              "      <td>7</td>\n",
              "      <td>14</td>\n",
              "      <td>67.300003</td>\n",
              "      <td>15</td>\n",
              "      <td>60.299999</td>\n",
              "      <td>15.0</td>\n",
              "      <td>NaN</td>\n",
              "      <td>NaN</td>\n",
              "      <td>NaN</td>\n",
              "      <td>NaN</td>\n",
              "      <td>7.0</td>\n",
              "      <td>15.0</td>\n",
              "      <td>8.9</td>\n",
              "      <td>15.0</td>\n",
              "      <td>11.7</td>\n",
              "      <td>19.4</td>\n",
              "      <td>62.599998</td>\n",
              "      <td>True</td>\n",
              "      <td>None</td>\n",
              "      <td>None</td>\n",
              "      <td>NaN</td>\n",
              "      <td>NaN</td>\n",
              "      <td>False</td>\n",
              "      <td>False</td>\n",
              "      <td>False</td>\n",
              "      <td>False</td>\n",
              "      <td>False</td>\n",
              "      <td>False</td>\n",
              "    </tr>\n",
              "    <tr>\n",
              "      <th>4</th>\n",
              "      <td>726502</td>\n",
              "      <td>54832</td>\n",
              "      <td>2009</td>\n",
              "      <td>5</td>\n",
              "      <td>31</td>\n",
              "      <td>54.099998</td>\n",
              "      <td>24</td>\n",
              "      <td>34.700001</td>\n",
              "      <td>24.0</td>\n",
              "      <td>NaN</td>\n",
              "      <td>NaN</td>\n",
              "      <td>NaN</td>\n",
              "      <td>NaN</td>\n",
              "      <td>10.0</td>\n",
              "      <td>24.0</td>\n",
              "      <td>3.6</td>\n",
              "      <td>24.0</td>\n",
              "      <td>11.1</td>\n",
              "      <td>18.1</td>\n",
              "      <td>37.400002</td>\n",
              "      <td>True</td>\n",
              "      <td>None</td>\n",
              "      <td>None</td>\n",
              "      <td>0.00</td>\n",
              "      <td>NaN</td>\n",
              "      <td>False</td>\n",
              "      <td>False</td>\n",
              "      <td>False</td>\n",
              "      <td>False</td>\n",
              "      <td>False</td>\n",
              "      <td>False</td>\n",
              "    </tr>\n",
              "  </tbody>\n",
              "</table>\n",
              "</div>"
            ],
            "text/plain": [
              "   station_number  wban_number  year  month  ...   snow   hail  thunder  tornado\n",
              "0          153490        99999  1985      9  ...  False  False    False    False\n",
              "1          722025        12849  1994      8  ...  False  False    False    False\n",
              "2          715520        99999  1999      9  ...  False  False    False    False\n",
              "3          333012        99999  2004      7  ...  False  False    False    False\n",
              "4          726502        54832  2009      5  ...  False  False    False    False\n",
              "\n",
              "[5 rows x 31 columns]"
            ]
          },
          "metadata": {
            "tags": []
          },
          "execution_count": 12
        }
      ]
    },
    {
      "cell_type": "markdown",
      "metadata": {
        "id": "PCVY9jYiFzgV",
        "colab_type": "text"
      },
      "source": [
        "<b><u> Taxi Zone Data </u></b>\n"
      ]
    },
    {
      "cell_type": "code",
      "metadata": {
        "id": "CXrQQGv9Fym6",
        "colab_type": "code",
        "colab": {}
      },
      "source": [
        "SELECT COUNT(*) FROM `bigquery-public-data.new_york_taxi_trips.taxi_zone_geom` LIMIT 1000"
      ],
      "execution_count": 0,
      "outputs": []
    },
    {
      "cell_type": "code",
      "metadata": {
        "id": "iUXrScLG3NzK",
        "colab_type": "code",
        "colab": {}
      },
      "source": [
        "df = client.query('''SELECT * FROM `bigquery-public-data.new_york_taxi_trips.taxi_zone_geom` ''' ).to_dataframe()"
      ],
      "execution_count": 0,
      "outputs": []
    },
    {
      "cell_type": "code",
      "metadata": {
        "id": "R_d6CjRT3dvw",
        "colab_type": "code",
        "outputId": "d3aeeaf5-4bb2-4068-9d26-28074e4f2080",
        "colab": {
          "base_uri": "https://localhost:8080/",
          "height": 195
        }
      },
      "source": [
        "df.head()"
      ],
      "execution_count": 0,
      "outputs": [
        {
          "output_type": "execute_result",
          "data": {
            "text/html": [
              "<div>\n",
              "<style scoped>\n",
              "    .dataframe tbody tr th:only-of-type {\n",
              "        vertical-align: middle;\n",
              "    }\n",
              "\n",
              "    .dataframe tbody tr th {\n",
              "        vertical-align: top;\n",
              "    }\n",
              "\n",
              "    .dataframe thead th {\n",
              "        text-align: right;\n",
              "    }\n",
              "</style>\n",
              "<table border=\"1\" class=\"dataframe\">\n",
              "  <thead>\n",
              "    <tr style=\"text-align: right;\">\n",
              "      <th></th>\n",
              "      <th>zone_id</th>\n",
              "      <th>zone_name</th>\n",
              "      <th>borough</th>\n",
              "      <th>zone_geom</th>\n",
              "    </tr>\n",
              "  </thead>\n",
              "  <tbody>\n",
              "    <tr>\n",
              "      <th>0</th>\n",
              "      <td>1</td>\n",
              "      <td>Newark Airport</td>\n",
              "      <td>EWR</td>\n",
              "      <td>POLYGON((-74.1856319999999 40.6916479999999, -...</td>\n",
              "    </tr>\n",
              "    <tr>\n",
              "      <th>1</th>\n",
              "      <td>3</td>\n",
              "      <td>Allerton/Pelham Gardens</td>\n",
              "      <td>Bronx</td>\n",
              "      <td>POLYGON((-73.848596761 40.8716707849999, -73.8...</td>\n",
              "    </tr>\n",
              "    <tr>\n",
              "      <th>2</th>\n",
              "      <td>18</td>\n",
              "      <td>Bedford Park</td>\n",
              "      <td>Bronx</td>\n",
              "      <td>POLYGON((-73.8844286139999 40.8668003789999, -...</td>\n",
              "    </tr>\n",
              "    <tr>\n",
              "      <th>3</th>\n",
              "      <td>20</td>\n",
              "      <td>Belmont</td>\n",
              "      <td>Bronx</td>\n",
              "      <td>POLYGON((-73.8839239579998 40.8644177609999, -...</td>\n",
              "    </tr>\n",
              "    <tr>\n",
              "      <th>4</th>\n",
              "      <td>31</td>\n",
              "      <td>Bronx Park</td>\n",
              "      <td>Bronx</td>\n",
              "      <td>POLYGON((-73.8710017319999 40.8572767429999, -...</td>\n",
              "    </tr>\n",
              "  </tbody>\n",
              "</table>\n",
              "</div>"
            ],
            "text/plain": [
              "  zone_id  ...                                          zone_geom\n",
              "0       1  ...  POLYGON((-74.1856319999999 40.6916479999999, -...\n",
              "1       3  ...  POLYGON((-73.848596761 40.8716707849999, -73.8...\n",
              "2      18  ...  POLYGON((-73.8844286139999 40.8668003789999, -...\n",
              "3      20  ...  POLYGON((-73.8839239579998 40.8644177609999, -...\n",
              "4      31  ...  POLYGON((-73.8710017319999 40.8572767429999, -...\n",
              "\n",
              "[5 rows x 4 columns]"
            ]
          },
          "metadata": {
            "tags": []
          },
          "execution_count": 16
        }
      ]
    },
    {
      "cell_type": "markdown",
      "metadata": {
        "id": "euJDdZoh2j-D",
        "colab_type": "text"
      },
      "source": [
        "<h4><b>4 Integrating all Data on One Platform</b></h4>\n",
        "Google Cloud Platform : Big Query helps to explore such large datasets easily."
      ]
    },
    {
      "cell_type": "code",
      "metadata": {
        "id": "C10GoflAp-P7",
        "colab_type": "code",
        "colab": {}
      },
      "source": [
        "import pandas as pd\n",
        "import numpy as np\n",
        "import sys\n",
        "from google.cloud import bigquery\n",
        "from google.colab import auth\n",
        "auth.authenticate_user()"
      ],
      "execution_count": 0,
      "outputs": []
    },
    {
      "cell_type": "code",
      "metadata": {
        "id": "uYuxVJ4BmD0V",
        "colab_type": "code",
        "outputId": "f214783e-ee11-4f8a-ec83-0a9d6fd25b02",
        "colab": {
          "base_uri": "https://localhost:8080/",
          "height": 361
        }
      },
      "source": [
        "import matplotlib.pyplot as plt\n",
        "fig = plt.figure()\n",
        "ax = fig.add_axes([0,0,1,1])\n",
        "\n",
        "dataset = ['2018 1st half', '2018 2nd half', '2019 first half', '2019 second half']\n",
        "rows = [row2018_1,row2018_2,row2019_1,row2019_2]\n",
        "plt.xlabel('Columns')\n",
        "plt.ylabel('Rows')\n",
        "ax.bar(dataset,rows)\n",
        "plt.show()"
      ],
      "execution_count": 0,
      "outputs": [
        {
          "output_type": "display_data",
          "data": {
            "image/png": "[encoded data removed]",
            "text/plain": [
              "<Figure size 432x288 with 1 Axes>"
            ]
          },
          "metadata": {
            "tags": []
          }
        }
      ]
    },
    {
      "cell_type": "code",
      "metadata": {
        "id": "Xv6fbXaUL-eR",
        "colab_type": "code",
        "outputId": "5b84b0a5-910a-4185-dc2f-bc912fac5880",
        "colab": {
          "base_uri": "https://localhost:8080/",
          "height": 350
        }
      },
      "source": [
        "import matplotlib.pyplot as plt\n",
        "fig = plt.figure()\n",
        "ax = fig.add_axes([0,0,1,1])\n",
        "dataset = ['2018 1st half', '2018 2nd half', '2019 first half', '2019 second half']\n",
        "columns = [col2018_1,col2018_1,col2018_1,col2018_1]\n",
        "plt.xlabel('Columns')\n",
        "plt.ylabel('Dataset')\n",
        "ax.bar(dataset,columns)\n",
        "plt.show()"
      ],
      "execution_count": 0,
      "outputs": [
        {
          "output_type": "display_data",
          "data": {
            "image/png": "[encoded data removed]",
            "text/plain": [
              "<Figure size 432x288 with 1 Axes>"
            ]
          },
          "metadata": {
            "tags": []
          }
        }
      ]
    },
    {
      "cell_type": "markdown",
      "metadata": {
        "id": "3bnbLoQBN2wq",
        "colab_type": "text"
      },
      "source": [
        "<h4><b> All DATA SET ON GOOGLE CLOUD </B></h4>\n",
        "<p align=\"justify\">\n",
        "After using Pyspark and pandas togbq function I uploaded my entire dataset on Google Cloud Platform.The screenshot below depicts the entire Dataset information that I used in my Project:\n",
        "<ol><li> <b>Schema For Taxi Data set in Google Cloud:</b></li><br>\n",
        "<center>\n",
        "<img src=\"https://github.com/ssrbazpur/Envisioning-Yellow-Taxi-High-Demand-Areas-in-NYC-city/blob/master/Screenshots/Schema.PNG?raw=true\"/ height=600>\n",
        "</center>\n",
        "<li><b>Table Information for Yellow Taxi Data</b> </li><br>\n",
        "<center>\n",
        "<img src=\"https://github.com/ssrbazpur/Envisioning-Yellow-Taxi-High-Demand-Areas-in-NYC-city/blob/master/Screenshots/2018firsthalf.PNG?raw=true\" height=200px width=400px/>\n",
        "\n",
        "<img src=\"https://github.com/ssrbazpur/Envisioning-Yellow-Taxi-High-Demand-Areas-in-NYC-city/blob/master/Screenshots/2018Secondhalf.PNG?raw=true\" height=200px width=400px />\n",
        "\n",
        "<img src=\"https://github.com/ssrbazpur/Envisioning-Yellow-Taxi-High-Demand-Areas-in-NYC-city/blob/master/Screenshots/2019first.PNG?raw=true\" height=200px width=400px />\n",
        "\n",
        "<img src=\"https://github.com/ssrbazpur/Envisioning-Yellow-Taxi-High-Demand-Areas-in-NYC-city/blob/master/Screenshots/2019second.PNG?raw=true\" height=200px width=400px />\n",
        "</center>\n",
        "\n",
        "<li><b>Table & Schema Information for Zones in NYC city</b> </li><br>\n",
        "<center>\n",
        "<i><u>Table Inforamtion</u></i><br>\n",
        "<img src=\"https://github.com/ssrbazpur/Envisioning-Yellow-Taxi-High-Demand-Areas-in-NYC-city/blob/master/Screenshots/zone.PNG?raw=true\" height=200px width=400px /><br>\n",
        "<i><u>Schema Inforamtion</u></i>\n",
        "<img src=\"https://github.com/ssrbazpur/Envisioning-Yellow-Taxi-High-Demand-Areas-in-NYC-city/blob/master/Screenshots/schema%20zone.PNG?raw=true\" />\n",
        "</center>\n",
        "\n",
        "<li><b>Table Information for Weather Data </b> </li><br>\n",
        "<center>\n",
        "<img src=\"https://github.com/ssrbazpur/Envisioning-Yellow-Taxi-High-Demand-Areas-in-NYC-city/blob/master/Screenshots/weather2018.PNG?raw=true\" height=200px width=400px />\n",
        "<img src=\"https://github.com/ssrbazpur/Envisioning-Yellow-Taxi-High-Demand-Areas-in-NYC-city/blob/master/Screenshots/weather2019.PNG?raw=true\" height=200px width=400px />\n",
        "\n",
        "</center>\n",
        "\n",
        "</ol>\n",
        "</p>\n"
      ]
    },
    {
      "cell_type": "markdown",
      "metadata": {
        "id": "xgcgCevuWCHH",
        "colab_type": "text"
      },
      "source": [
        "<p align=\"justify\">Understanding Discovery:\n",
        "Discovery is an information-gathering process meant to dig deep into the details of what is important to a client's business, target audience, and industry. The more information you gather, interpret, and comprehend, the more prepared you will be to execute a site on budget and on target. This step was essential to determine the following :\n",
        "\n",
        "<ul>\n",
        "<li>Drafting a business problem statement.</li>\n",
        "<li>Reframing the problem as an analytics </li>\n",
        "challenge.\n",
        "<li>Assess resource needs and availability. </li>\n",
        "<li>Draft an analytic plan. </li>\n",
        "</ul>\n",
        "\n",
        "Scope and depth of research and inquiry will differ from project to project, but the results are the same: valuable data. \n",
        "\n",
        "\n",
        "</p>"
      ]
    }
  ]
}