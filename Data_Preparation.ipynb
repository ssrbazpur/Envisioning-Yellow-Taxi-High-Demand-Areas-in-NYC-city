{
  "nbformat": 4,
  "nbformat_minor": 0,
  "metadata": {
    "colab": {
      "name": "Data Preparation.ipynb",
      "provenance": [],
      "collapsed_sections": [],
      "machine_shape": "hm",
      "mount_file_id": "1bC78kx2SrWmK02tkiMeVWc06DphBmK6_",
      "authorship_tag": "ABX9TyPsic9ueKamsMeLeYkaH4s/",
      "include_colab_link": true
    },
    "kernelspec": {
      "name": "python3",
      "display_name": "Python 3"
    }
  },
  "cells": [
    {
      "cell_type": "markdown",
      "metadata": {
        "id": "view-in-github",
        "colab_type": "text"
      },
      "source": [
        "<a href=\"https://colab.research.google.com/github/ssrbazpur/Envisioning-Yellow-Taxi-High-Demand-Areas-in-NYC-city/blob/master/Data_Preparation.ipynb\" target=\"_parent\"><img src=\"https://colab.research.google.com/assets/colab-badge.svg\" alt=\"Open In Colab\"/></a>"
      ]
    },
    {
      "cell_type": "markdown",
      "metadata": {
        "id": "BoAq9MXRLm3p",
        "colab_type": "text"
      },
      "source": [
        "<h3><center><b><U>Data Preparation</U></b></center> </h3>\n",
        "<h4><center><b>Prepared By: Simranjeet Randhawa</b></center> </h4>\n",
        "\n",
        "\n"
      ]
    },
    {
      "cell_type": "code",
      "metadata": {
        "id": "KuuZMpFbqFvX",
        "colab_type": "code",
        "outputId": "6f4ed7df-7f5f-4cdd-abc2-ff11d9d589eb",
        "colab": {
          "base_uri": "https://localhost:8080/",
          "height": 121
        }
      },
      "source": [
        "from google.colab import drive\n",
        "drive.mount('/content/drive')"
      ],
      "execution_count": 1,
      "outputs": [
        {
          "output_type": "stream",
          "text": [
            "Go to this URL in a browser: https://accounts.google.com/o/oauth2/auth?client_id=947318989803-6bn6qk8qdgf4n4g3pfee6491hc0brc4i.apps.googleusercontent.com&redirect_uri=urn%3aietf%3awg%3aoauth%3a2.0%3aoob&response_type=code&scope=email%20https%3a%2f%2fwww.googleapis.com%2fauth%2fdocs.test%20https%3a%2f%2fwww.googleapis.com%2fauth%2fdrive%20https%3a%2f%2fwww.googleapis.com%2fauth%2fdrive.photos.readonly%20https%3a%2f%2fwww.googleapis.com%2fauth%2fpeopleapi.readonly\n",
            "\n",
            "Enter your authorization code:\n",
            "··········\n",
            "Mounted at /content/drive\n"
          ],
          "name": "stdout"
        }
      ]
    },
    {
      "cell_type": "code",
      "metadata": {
        "id": "8Ib6uFs32Y3T",
        "colab_type": "code",
        "colab": {}
      },
      "source": [
        "!pip install datalab"
      ],
      "execution_count": 0,
      "outputs": []
    },
    {
      "cell_type": "code",
      "metadata": {
        "colab_type": "code",
        "id": "yKfmvjBk2ULm",
        "colab": {}
      },
      "source": [
        "from datalab.context import Context"
      ],
      "execution_count": 0,
      "outputs": []
    },
    {
      "cell_type": "code",
      "metadata": {
        "id": "fLHZ6uf5qGg3",
        "colab_type": "code",
        "colab": {}
      },
      "source": [
        "import os\n",
        "os.environ[\"GOOGLE_APPLICATION_CREDENTIALS\"]=\"/content/drive/My Drive/Data Science/nyc-taxi-265120-baf9a3e4cf9b.json\"\n",
        "%reload_ext google.cloud.bigquery"
      ],
      "execution_count": 0,
      "outputs": []
    },
    {
      "cell_type": "code",
      "metadata": {
        "id": "AIFsgxSJcUcx",
        "colab_type": "code",
        "colab": {}
      },
      "source": [
        "project_id = 'nyc-taxi-265120' \n",
        "from google.cloud import bigquery\n",
        "client = bigquery.Client(project = project_id)"
      ],
      "execution_count": 0,
      "outputs": []
    },
    {
      "cell_type": "code",
      "metadata": {
        "id": "pvGNlcxdcYOe",
        "colab_type": "code",
        "colab": {}
      },
      "source": [
        "from google.cloud import bigquery\n",
        "client = bigquery.Client(project=project_id)"
      ],
      "execution_count": 0,
      "outputs": []
    },
    {
      "cell_type": "markdown",
      "metadata": {
        "colab_type": "text",
        "id": "iLNyuVTxclFW"
      },
      "source": [
        "<h3><b> 1. Data Preparation </b></h3>\n",
        "<p align=\"justify\"> Data preparation is termed as the process of cleaning the data so that the data can be transformed in a form that can be processed and analysed. It is an important step prior to processing and often involves reformatting data, making corrections to data and the combining of data sets to enrich data.\n",
        "</p>"
      ]
    },
    {
      "cell_type": "markdown",
      "metadata": {
        "id": "PFKLdflGojxY",
        "colab_type": "text"
      },
      "source": [
        "<h4><b> 1.1 Data Cleaning </b></h4>\n",
        "\n",
        "<b><u> 2018 First Half Yellow Cab Data Cleaning (Big Query)</u></b>\n",
        "<p align=\"justify\"> \n",
        "<ol><li> Analyse if there is rows with total trip amount =0 ? </li>\n",
        "<li>Is there rows with pick up time > drop off time.</li><li>  Analyse rows which have 0 passenger count.</li>\n",
        "</ol>\n",
        "</p>"
      ]
    },
    {
      "cell_type": "code",
      "metadata": {
        "id": "BEMu7aLvsN6Q",
        "colab_type": "code",
        "colab": {}
      },
      "source": [
        "# if numpy is not installed already : pip3 install numpy\n",
        "import numpy as np\n",
        "# matplotlib: used to plot graphs\n",
        "import matplotlib\n",
        "matplotlib.use('nbagg')\n",
        "import matplotlib.pylab as plt\n",
        "import seaborn as sns#Plots\n",
        "from matplotlib import rcParams"
      ],
      "execution_count": 0,
      "outputs": []
    },
    {
      "cell_type": "markdown",
      "metadata": {
        "id": "OJzUl1qEtAdJ",
        "colab_type": "text"
      },
      "source": [
        "<b> Finding the number of trips where amount given by passenger is less than zero.</b>"
      ]
    },
    {
      "cell_type": "code",
      "metadata": {
        "id": "DhmVxUiW5wPC",
        "colab_type": "code",
        "colab": {}
      },
      "source": [
        "query = \"\"\"\n",
        "SELECT tpep_pickup_datetime,\ttpep_dropoff_datetime,\tpassenger_count,\ttrip_distance,PULocationID,\tDOLocationID,fare_amount FROM `nyc-taxi-265120.NYC.2018firsthalf` where total_amount < 0 \n",
        "\"\"\"\n",
        "df_head = client.query(query).to_dataframe()"
      ],
      "execution_count": 0,
      "outputs": []
    },
    {
      "cell_type": "code",
      "metadata": {
        "id": "nCz4Y0F251KY",
        "colab_type": "code",
        "outputId": "10fc2c01-8b40-4a9f-e6ce-559f3b6a61a1",
        "colab": {
          "base_uri": "https://localhost:8080/",
          "height": 195
        }
      },
      "source": [
        "df_head.head()"
      ],
      "execution_count": 0,
      "outputs": [
        {
          "output_type": "execute_result",
          "data": {
            "text/html": [
              "<div>\n",
              "<style scoped>\n",
              "    .dataframe tbody tr th:only-of-type {\n",
              "        vertical-align: middle;\n",
              "    }\n",
              "\n",
              "    .dataframe tbody tr th {\n",
              "        vertical-align: top;\n",
              "    }\n",
              "\n",
              "    .dataframe thead th {\n",
              "        text-align: right;\n",
              "    }\n",
              "</style>\n",
              "<table border=\"1\" class=\"dataframe\">\n",
              "  <thead>\n",
              "    <tr style=\"text-align: right;\">\n",
              "      <th></th>\n",
              "      <th>tpep_pickup_datetime</th>\n",
              "      <th>tpep_dropoff_datetime</th>\n",
              "      <th>passenger_count</th>\n",
              "      <th>trip_distance</th>\n",
              "      <th>PULocationID</th>\n",
              "      <th>DOLocationID</th>\n",
              "      <th>fare_amount</th>\n",
              "    </tr>\n",
              "  </thead>\n",
              "  <tbody>\n",
              "    <tr>\n",
              "      <th>0</th>\n",
              "      <td>2018-01-11 09:55:06+00:00</td>\n",
              "      <td>2018-01-11 09:55:36+00:00</td>\n",
              "      <td>2</td>\n",
              "      <td>0.12</td>\n",
              "      <td>42</td>\n",
              "      <td>42</td>\n",
              "      <td>-2.5</td>\n",
              "    </tr>\n",
              "    <tr>\n",
              "      <th>1</th>\n",
              "      <td>2018-01-11 14:15:16+00:00</td>\n",
              "      <td>2018-01-11 14:15:30+00:00</td>\n",
              "      <td>2</td>\n",
              "      <td>0.06</td>\n",
              "      <td>24</td>\n",
              "      <td>43</td>\n",
              "      <td>-2.5</td>\n",
              "    </tr>\n",
              "    <tr>\n",
              "      <th>2</th>\n",
              "      <td>2018-01-12 10:07:42+00:00</td>\n",
              "      <td>2018-01-12 10:08:39+00:00</td>\n",
              "      <td>3</td>\n",
              "      <td>0.14</td>\n",
              "      <td>33</td>\n",
              "      <td>33</td>\n",
              "      <td>-2.5</td>\n",
              "    </tr>\n",
              "    <tr>\n",
              "      <th>3</th>\n",
              "      <td>2018-01-12 14:04:39+00:00</td>\n",
              "      <td>2018-01-12 14:05:09+00:00</td>\n",
              "      <td>1</td>\n",
              "      <td>0.06</td>\n",
              "      <td>260</td>\n",
              "      <td>260</td>\n",
              "      <td>-2.5</td>\n",
              "    </tr>\n",
              "    <tr>\n",
              "      <th>4</th>\n",
              "      <td>2018-01-12 15:00:44+00:00</td>\n",
              "      <td>2018-01-12 15:01:00+00:00</td>\n",
              "      <td>1</td>\n",
              "      <td>0.00</td>\n",
              "      <td>261</td>\n",
              "      <td>261</td>\n",
              "      <td>-2.5</td>\n",
              "    </tr>\n",
              "  </tbody>\n",
              "</table>\n",
              "</div>"
            ],
            "text/plain": [
              "       tpep_pickup_datetime  ... fare_amount\n",
              "0 2018-01-11 09:55:06+00:00  ...        -2.5\n",
              "1 2018-01-11 14:15:16+00:00  ...        -2.5\n",
              "2 2018-01-12 10:07:42+00:00  ...        -2.5\n",
              "3 2018-01-12 14:04:39+00:00  ...        -2.5\n",
              "4 2018-01-12 15:00:44+00:00  ...        -2.5\n",
              "\n",
              "[5 rows x 7 columns]"
            ]
          },
          "metadata": {
            "tags": []
          },
          "execution_count": 76
        }
      ]
    },
    {
      "cell_type": "code",
      "metadata": {
        "id": "_qW8aK5DcsbO",
        "colab_type": "code",
        "outputId": "771d97b3-988d-4021-db47-ce1713685dde",
        "colab": {
          "base_uri": "https://localhost:8080/",
          "height": 50
        }
      },
      "source": [
        "print(\"Number of rows with amount of trip <0:\")\n",
        "print(df_head.shape[0])"
      ],
      "execution_count": 0,
      "outputs": [
        {
          "output_type": "stream",
          "text": [
            "Number of rows with amount of trip <0:\n",
            "29860\n"
          ],
          "name": "stdout"
        }
      ]
    },
    {
      "cell_type": "code",
      "metadata": {
        "id": "Yqvqvh0xX15r",
        "colab_type": "code",
        "colab": {}
      },
      "source": [
        "query = \"\"\"\n",
        "SELECT * FROM `nyc-taxi-265120.NYC.2018firsthalf` LIMIT 10000\n",
        "\"\"\"\n",
        "df_head = client.query(query).to_dataframe()"
      ],
      "execution_count": 0,
      "outputs": []
    },
    {
      "cell_type": "code",
      "metadata": {
        "id": "O-lxBChrbD_m",
        "colab_type": "code",
        "colab": {
          "base_uri": "https://localhost:8080/",
          "height": 304
        },
        "outputId": "da9f8d0f-338b-4c04-8a79-fe6941379cb4"
      },
      "source": [
        "df_head.describe()"
      ],
      "execution_count": 11,
      "outputs": [
        {
          "output_type": "execute_result",
          "data": {
            "text/html": [
              "<div>\n",
              "<style scoped>\n",
              "    .dataframe tbody tr th:only-of-type {\n",
              "        vertical-align: middle;\n",
              "    }\n",
              "\n",
              "    .dataframe tbody tr th {\n",
              "        vertical-align: top;\n",
              "    }\n",
              "\n",
              "    .dataframe thead th {\n",
              "        text-align: right;\n",
              "    }\n",
              "</style>\n",
              "<table border=\"1\" class=\"dataframe\">\n",
              "  <thead>\n",
              "    <tr style=\"text-align: right;\">\n",
              "      <th></th>\n",
              "      <th>VendorID</th>\n",
              "      <th>passenger_count</th>\n",
              "      <th>trip_distance</th>\n",
              "      <th>RatecodeID</th>\n",
              "      <th>PULocationID</th>\n",
              "      <th>DOLocationID</th>\n",
              "      <th>payment_type</th>\n",
              "      <th>fare_amount</th>\n",
              "      <th>extra</th>\n",
              "      <th>mta_tax</th>\n",
              "      <th>tip_amount</th>\n",
              "      <th>tolls_amount</th>\n",
              "      <th>improvement_surcharge</th>\n",
              "      <th>total_amount</th>\n",
              "    </tr>\n",
              "  </thead>\n",
              "  <tbody>\n",
              "    <tr>\n",
              "      <th>count</th>\n",
              "      <td>10000.000000</td>\n",
              "      <td>10000.000000</td>\n",
              "      <td>10000.000000</td>\n",
              "      <td>10000.000000</td>\n",
              "      <td>10000.000000</td>\n",
              "      <td>10000.000000</td>\n",
              "      <td>10000.000000</td>\n",
              "      <td>10000.000000</td>\n",
              "      <td>10000.000000</td>\n",
              "      <td>10000.000000</td>\n",
              "      <td>10000.000000</td>\n",
              "      <td>10000.000000</td>\n",
              "      <td>10000.000000</td>\n",
              "      <td>10000.000000</td>\n",
              "    </tr>\n",
              "    <tr>\n",
              "      <th>mean</th>\n",
              "      <td>1.504900</td>\n",
              "      <td>1.489400</td>\n",
              "      <td>0.388537</td>\n",
              "      <td>1.037200</td>\n",
              "      <td>168.243000</td>\n",
              "      <td>170.657800</td>\n",
              "      <td>1.702600</td>\n",
              "      <td>3.090250</td>\n",
              "      <td>0.416830</td>\n",
              "      <td>0.482600</td>\n",
              "      <td>0.519640</td>\n",
              "      <td>0.036067</td>\n",
              "      <td>0.291120</td>\n",
              "      <td>4.837872</td>\n",
              "    </tr>\n",
              "    <tr>\n",
              "      <th>std</th>\n",
              "      <td>0.500001</td>\n",
              "      <td>1.182044</td>\n",
              "      <td>1.429983</td>\n",
              "      <td>1.034274</td>\n",
              "      <td>69.474621</td>\n",
              "      <td>69.068742</td>\n",
              "      <td>0.647762</td>\n",
              "      <td>0.807586</td>\n",
              "      <td>0.413448</td>\n",
              "      <td>0.118948</td>\n",
              "      <td>2.876293</td>\n",
              "      <td>0.885342</td>\n",
              "      <td>0.068232</td>\n",
              "      <td>3.204282</td>\n",
              "    </tr>\n",
              "    <tr>\n",
              "      <th>min</th>\n",
              "      <td>1.000000</td>\n",
              "      <td>0.000000</td>\n",
              "      <td>0.000000</td>\n",
              "      <td>1.000000</td>\n",
              "      <td>4.000000</td>\n",
              "      <td>4.000000</td>\n",
              "      <td>1.000000</td>\n",
              "      <td>-3.000000</td>\n",
              "      <td>-1.000000</td>\n",
              "      <td>-0.500000</td>\n",
              "      <td>-3.000000</td>\n",
              "      <td>0.000000</td>\n",
              "      <td>-0.300000</td>\n",
              "      <td>-6.300000</td>\n",
              "    </tr>\n",
              "    <tr>\n",
              "      <th>25%</th>\n",
              "      <td>1.000000</td>\n",
              "      <td>1.000000</td>\n",
              "      <td>0.130000</td>\n",
              "      <td>1.000000</td>\n",
              "      <td>125.000000</td>\n",
              "      <td>132.000000</td>\n",
              "      <td>1.000000</td>\n",
              "      <td>3.000000</td>\n",
              "      <td>0.000000</td>\n",
              "      <td>0.500000</td>\n",
              "      <td>0.000000</td>\n",
              "      <td>0.000000</td>\n",
              "      <td>0.300000</td>\n",
              "      <td>4.300000</td>\n",
              "    </tr>\n",
              "    <tr>\n",
              "      <th>50%</th>\n",
              "      <td>2.000000</td>\n",
              "      <td>1.000000</td>\n",
              "      <td>0.300000</td>\n",
              "      <td>1.000000</td>\n",
              "      <td>163.000000</td>\n",
              "      <td>164.000000</td>\n",
              "      <td>2.000000</td>\n",
              "      <td>3.500000</td>\n",
              "      <td>0.500000</td>\n",
              "      <td>0.500000</td>\n",
              "      <td>0.000000</td>\n",
              "      <td>0.000000</td>\n",
              "      <td>0.300000</td>\n",
              "      <td>4.800000</td>\n",
              "    </tr>\n",
              "    <tr>\n",
              "      <th>75%</th>\n",
              "      <td>2.000000</td>\n",
              "      <td>1.000000</td>\n",
              "      <td>0.400000</td>\n",
              "      <td>1.000000</td>\n",
              "      <td>236.000000</td>\n",
              "      <td>236.000000</td>\n",
              "      <td>2.000000</td>\n",
              "      <td>3.500000</td>\n",
              "      <td>1.000000</td>\n",
              "      <td>0.500000</td>\n",
              "      <td>0.950000</td>\n",
              "      <td>0.000000</td>\n",
              "      <td>0.300000</td>\n",
              "      <td>5.350000</td>\n",
              "    </tr>\n",
              "    <tr>\n",
              "      <th>max</th>\n",
              "      <td>2.000000</td>\n",
              "      <td>6.000000</td>\n",
              "      <td>47.400000</td>\n",
              "      <td>99.000000</td>\n",
              "      <td>265.000000</td>\n",
              "      <td>265.000000</td>\n",
              "      <td>4.000000</td>\n",
              "      <td>3.500000</td>\n",
              "      <td>1.300000</td>\n",
              "      <td>0.500000</td>\n",
              "      <td>146.000000</td>\n",
              "      <td>58.000000</td>\n",
              "      <td>0.300000</td>\n",
              "      <td>149.300000</td>\n",
              "    </tr>\n",
              "  </tbody>\n",
              "</table>\n",
              "</div>"
            ],
            "text/plain": [
              "           VendorID  passenger_count  ...  improvement_surcharge  total_amount\n",
              "count  10000.000000     10000.000000  ...           10000.000000  10000.000000\n",
              "mean       1.504900         1.489400  ...               0.291120      4.837872\n",
              "std        0.500001         1.182044  ...               0.068232      3.204282\n",
              "min        1.000000         0.000000  ...              -0.300000     -6.300000\n",
              "25%        1.000000         1.000000  ...               0.300000      4.300000\n",
              "50%        2.000000         1.000000  ...               0.300000      4.800000\n",
              "75%        2.000000         1.000000  ...               0.300000      5.350000\n",
              "max        2.000000         6.000000  ...               0.300000    149.300000\n",
              "\n",
              "[8 rows x 14 columns]"
            ]
          },
          "metadata": {
            "tags": []
          },
          "execution_count": 11
        }
      ]
    },
    {
      "cell_type": "markdown",
      "metadata": {
        "id": "hsxNNjUIj50K",
        "colab_type": "text"
      },
      "source": [
        "<b> Histogram </b>"
      ]
    },
    {
      "cell_type": "code",
      "metadata": {
        "id": "WHARU0q7g-or",
        "colab_type": "code",
        "colab": {
          "base_uri": "https://localhost:8080/",
          "height": 374
        },
        "outputId": "196dd427-451b-426d-c0d5-c01f841b1c13"
      },
      "source": [
        "#Getting to know there are negative in the price given by passenger from sample of dataset only(For exact count I used BigQuery as the data cannot be analysed using pandas dataframe)\n",
        "%matplotlib inline\n",
        "import matplotlib.pyplot as plt # visualization\n",
        "import seaborn as sns\n",
        "f, ax = plt.subplots(figsize=(8, 6))\n",
        "df_head.fare_amount.hist()\n",
        "plt.show()"
      ],
      "execution_count": 25,
      "outputs": [
        {
          "output_type": "display_data",
          "data": {
            "image/png": "[encoded data removed]",
            "text/plain": [
              "<Figure size 576x432 with 1 Axes>"
            ]
          },
          "metadata": {
            "tags": []
          }
        }
      ]
    },
    {
      "cell_type": "markdown",
      "metadata": {
        "id": "mRKpZqWR6KU2",
        "colab_type": "text"
      },
      "source": [
        "<p align=\"justify\"> There are 29860 rows in 2018 First half dataset where amount trip is less than 0 which is not possible as there is no online wallet system that NYC city taxi used in 2018 nor 2019. Hence this must be the possible outliers or there must be erroneous entry in the amount column. I decided to normalise the value and keep it.</p>"
      ]
    },
    {
      "cell_type": "markdown",
      "metadata": {
        "id": "AVm_ENyqjZga",
        "colab_type": "text"
      },
      "source": [
        "<p align=\"justify\"> Trip distance is greater than zero and this Hexbin plot gives me the information that only certain zones have move trip_distance associated to it</p>"
      ]
    },
    {
      "cell_type": "markdown",
      "metadata": {
        "id": "Ao5GVX2cj9Dc",
        "colab_type": "text"
      },
      "source": [
        "<b> HexBin plot (to analyse the relationship between two variable</b>"
      ]
    },
    {
      "cell_type": "code",
      "metadata": {
        "id": "uHCNt76PioVW",
        "colab_type": "code",
        "colab": {
          "base_uri": "https://localhost:8080/",
          "height": 254
        },
        "outputId": "dd838994-a906-4a97-c0ff-412e405b3522"
      },
      "source": [
        "#Getting to know there are negative in the price given by passenger from sample of dataset only(For exact count I used BigQuery as the data cannot be analysed using pandas dataframe)\n",
        "%matplotlib inline\n",
        "import matplotlib.pyplot as plt # visualization\n",
        "import seaborn as sns\n",
        "df_head.plot.hexbin(x=\"trip_distance\",y=\"PULocationID\")\n",
        "plt.show()"
      ],
      "execution_count": 30,
      "outputs": [
        {
          "output_type": "display_data",
          "data": {
            "image/png": "[encoded data removed]",
            "text/plain": [
              "<Figure size 432x288 with 2 Axes>"
            ]
          },
          "metadata": {
            "tags": []
          }
        }
      ]
    },
    {
      "cell_type": "markdown",
      "metadata": {
        "id": "NnYc9qYdkdox",
        "colab_type": "text"
      },
      "source": [
        "<b>Density Plot</b>"
      ]
    },
    {
      "cell_type": "code",
      "metadata": {
        "id": "cYlxym0okKVl",
        "colab_type": "code",
        "colab": {
          "base_uri": "https://localhost:8080/",
          "height": 265
        },
        "outputId": "bfe57712-cf17-4a93-e789-656e0cd637a3"
      },
      "source": [
        "#Getting to know there are negative in the price given by passenger from sample of dataset only(For exact count I used BigQuery as the data cannot be analysed using pandas dataframe)\n",
        "%matplotlib inline\n",
        "import matplotlib.pyplot as plt # visualization\n",
        "import seaborn as sns\n",
        "df_head[[\"total_amount\"]].plot.kde()\n",
        "plt.show()"
      ],
      "execution_count": 31,
      "outputs": [
        {
          "output_type": "display_data",
          "data": {
            "image/png": "[encoded data removed]",
            "text/plain": [
              "<Figure size 432x288 with 1 Axes>"
            ]
          },
          "metadata": {
            "tags": []
          }
        }
      ]
    },
    {
      "cell_type": "code",
      "metadata": {
        "id": "oCiInHe3mXW0",
        "colab_type": "code",
        "colab": {
          "base_uri": "https://localhost:8080/",
          "height": 415
        },
        "outputId": "1b3d57d3-3797-413a-e18d-89b417e9c7e1"
      },
      "source": [
        "#Referred: Profressor Dr. Alireza Manashty\n",
        "import numpy as np\n",
        "df_head['Amount_log']=np.log(df_head.total_amount)\n",
        "df_head[[\"Amount_log\"]][np.isfinite(df_head.Amount_log)].dropna().plot.kde()\n",
        "plt.title(\"Log Amount density\")\n",
        "plt.show()"
      ],
      "execution_count": 33,
      "outputs": [
        {
          "output_type": "stream",
          "text": [
            "/usr/local/lib/python3.6/dist-packages/pandas/core/series.py:679: RuntimeWarning:\n",
            "\n",
            "divide by zero encountered in log\n",
            "\n",
            "/usr/local/lib/python3.6/dist-packages/pandas/core/series.py:679: RuntimeWarning:\n",
            "\n",
            "invalid value encountered in log\n",
            "\n"
          ],
          "name": "stderr"
        },
        {
          "output_type": "display_data",
          "data": {
            "image/png": "[encoded data removed]",
            "text/plain": [
              "<Figure size 432x288 with 1 Axes>"
            ]
          },
          "metadata": {
            "tags": []
          }
        }
      ]
    },
    {
      "cell_type": "markdown",
      "metadata": {
        "id": "Oo6uLBXWtSPN",
        "colab_type": "text"
      },
      "source": [
        "<b> Finding the number of pickups where pickup time is greater than drop off time</b>"
      ]
    },
    {
      "cell_type": "code",
      "metadata": {
        "id": "MVjYj74zmqxl",
        "colab_type": "code",
        "colab": {}
      },
      "source": [
        "query = \"\"\"\n",
        "SELECT tpep_pickup_datetime,\ttpep_dropoff_datetime,\tpassenger_count,\ttrip_distance,PULocationID,\tDOLocationID,fare_amount FROM `nyc-taxi-265120.NYC.2018firsthalf` where tpep_pickup_datetime > tpep_dropoff_datetime \n",
        "\"\"\"\n",
        "df = client.query(query).to_dataframe()"
      ],
      "execution_count": 0,
      "outputs": []
    },
    {
      "cell_type": "code",
      "metadata": {
        "id": "JA9s8jUM7Vbg",
        "colab_type": "code",
        "outputId": "d99c9622-96cb-49c3-99dc-8d3a6b98ea0d",
        "colab": {
          "base_uri": "https://localhost:8080/",
          "height": 195
        }
      },
      "source": [
        "df.head()"
      ],
      "execution_count": 0,
      "outputs": [
        {
          "output_type": "execute_result",
          "data": {
            "text/html": [
              "<div>\n",
              "<style scoped>\n",
              "    .dataframe tbody tr th:only-of-type {\n",
              "        vertical-align: middle;\n",
              "    }\n",
              "\n",
              "    .dataframe tbody tr th {\n",
              "        vertical-align: top;\n",
              "    }\n",
              "\n",
              "    .dataframe thead th {\n",
              "        text-align: right;\n",
              "    }\n",
              "</style>\n",
              "<table border=\"1\" class=\"dataframe\">\n",
              "  <thead>\n",
              "    <tr style=\"text-align: right;\">\n",
              "      <th></th>\n",
              "      <th>tpep_pickup_datetime</th>\n",
              "      <th>tpep_dropoff_datetime</th>\n",
              "      <th>passenger_count</th>\n",
              "      <th>trip_distance</th>\n",
              "      <th>PULocationID</th>\n",
              "      <th>DOLocationID</th>\n",
              "      <th>fare_amount</th>\n",
              "    </tr>\n",
              "  </thead>\n",
              "  <tbody>\n",
              "    <tr>\n",
              "      <th>0</th>\n",
              "      <td>2018-01-23 13:12:19+00:00</td>\n",
              "      <td>2018-01-23 00:28:25+00:00</td>\n",
              "      <td>2</td>\n",
              "      <td>20.9</td>\n",
              "      <td>132</td>\n",
              "      <td>244</td>\n",
              "      <td>52.0</td>\n",
              "    </tr>\n",
              "    <tr>\n",
              "      <th>1</th>\n",
              "      <td>2018-02-09 09:50:19+00:00</td>\n",
              "      <td>2018-02-09 04:48:28+00:00</td>\n",
              "      <td>1</td>\n",
              "      <td>1.3</td>\n",
              "      <td>90</td>\n",
              "      <td>113</td>\n",
              "      <td>6.0</td>\n",
              "    </tr>\n",
              "    <tr>\n",
              "      <th>2</th>\n",
              "      <td>2018-02-09 15:57:17+00:00</td>\n",
              "      <td>2018-02-09 15:14:23+00:00</td>\n",
              "      <td>1</td>\n",
              "      <td>1.9</td>\n",
              "      <td>234</td>\n",
              "      <td>48</td>\n",
              "      <td>14.0</td>\n",
              "    </tr>\n",
              "    <tr>\n",
              "      <th>3</th>\n",
              "      <td>2018-02-04 15:15:17+00:00</td>\n",
              "      <td>2018-02-03 16:06:36+00:00</td>\n",
              "      <td>2</td>\n",
              "      <td>20.2</td>\n",
              "      <td>132</td>\n",
              "      <td>151</td>\n",
              "      <td>52.0</td>\n",
              "    </tr>\n",
              "    <tr>\n",
              "      <th>4</th>\n",
              "      <td>2018-02-11 15:15:01+00:00</td>\n",
              "      <td>2017-12-24 17:09:53+00:00</td>\n",
              "      <td>2</td>\n",
              "      <td>4.7</td>\n",
              "      <td>246</td>\n",
              "      <td>66</td>\n",
              "      <td>25.0</td>\n",
              "    </tr>\n",
              "  </tbody>\n",
              "</table>\n",
              "</div>"
            ],
            "text/plain": [
              "       tpep_pickup_datetime  ... fare_amount\n",
              "0 2018-01-23 13:12:19+00:00  ...        52.0\n",
              "1 2018-02-09 09:50:19+00:00  ...         6.0\n",
              "2 2018-02-09 15:57:17+00:00  ...        14.0\n",
              "3 2018-02-04 15:15:17+00:00  ...        52.0\n",
              "4 2018-02-11 15:15:01+00:00  ...        25.0\n",
              "\n",
              "[5 rows x 7 columns]"
            ]
          },
          "metadata": {
            "tags": []
          },
          "execution_count": 79
        }
      ]
    },
    {
      "cell_type": "code",
      "metadata": {
        "id": "1e1lkyY4tame",
        "colab_type": "code",
        "outputId": "586ad5fd-e72c-4702-80c5-1bc06f7733d2",
        "colab": {
          "base_uri": "https://localhost:8080/",
          "height": 50
        }
      },
      "source": [
        "print(\"Number of rows where pickup time is greater than drop off:\")\n",
        "print(df.shape[0])"
      ],
      "execution_count": 0,
      "outputs": [
        {
          "output_type": "stream",
          "text": [
            "Number of rows where pickup time is greater than drop off:\n",
            "18\n"
          ],
          "name": "stdout"
        }
      ]
    },
    {
      "cell_type": "markdown",
      "metadata": {
        "id": "QNaEuEoB7ebE",
        "colab_type": "text"
      },
      "source": [
        "<p align=\"justify\"> I decided to remove these rows as they are certainty the outliers and will not make much difference</p>"
      ]
    },
    {
      "cell_type": "markdown",
      "metadata": {
        "id": "OYFUIGHctz9j",
        "colab_type": "text"
      },
      "source": [
        "<b> Finding the number of pickups where there are no passengers</b>"
      ]
    },
    {
      "cell_type": "code",
      "metadata": {
        "id": "h8m1wkjgnlNO",
        "colab_type": "code",
        "colab": {}
      },
      "source": [
        "query = \"\"\"\n",
        "SELECT * FROM `nyc-taxi-265120.NYC.2018firsthalf` limit 10000\n",
        "\"\"\"\n",
        "df = client.query(query).to_dataframe()"
      ],
      "execution_count": 0,
      "outputs": []
    },
    {
      "cell_type": "code",
      "metadata": {
        "id": "eNtXbT2en3gK",
        "colab_type": "code",
        "colab": {
          "base_uri": "https://localhost:8080/",
          "height": 378
        },
        "outputId": "2cda68c5-586f-4909-cca2-9179bc05e54e"
      },
      "source": [
        "#Getting to know there are negative in the price given by passenger from sample of dataset only(For exact count I used BigQuery as the data cannot be analysed using pandas dataframe)\n",
        "%matplotlib inline\n",
        "import matplotlib.pyplot as plt # visualization\n",
        "import seaborn as sns\n",
        "f, ax = plt.subplots(figsize=(8, 6))\n",
        "df.passenger_count.hist()\n",
        "plt.show()"
      ],
      "execution_count": 50,
      "outputs": [
        {
          "output_type": "display_data",
          "data": {
            "image/png": "[encoded data removed]",
            "text/plain": [
              "<Figure size 576x432 with 1 Axes>"
            ]
          },
          "metadata": {
            "tags": []
          }
        }
      ]
    },
    {
      "cell_type": "markdown",
      "metadata": {
        "id": "cS1lmU_FoyFs",
        "colab_type": "text"
      },
      "source": [
        "Now using Big Query finding the extact number of rows"
      ]
    },
    {
      "cell_type": "code",
      "metadata": {
        "id": "wHXyPPizuZNB",
        "colab_type": "code",
        "colab": {}
      },
      "source": [
        "query = \"\"\"\n",
        "SELECT tpep_pickup_datetime,\ttpep_dropoff_datetime,\tpassenger_count,\ttrip_distance,PULocationID,\tDOLocationID,fare_amount FROM `nyc-taxi-265120.NYC.2018firsthalf` where passenger_count = 0 \n",
        "\"\"\"\n",
        "df = client.query(query).to_dataframe()"
      ],
      "execution_count": 0,
      "outputs": []
    },
    {
      "cell_type": "code",
      "metadata": {
        "id": "mEPVJV8juDT8",
        "colab_type": "code",
        "outputId": "03da0873-eaaf-4728-b945-aa4cb7d3fdf3",
        "colab": {
          "base_uri": "https://localhost:8080/",
          "height": 50
        }
      },
      "source": [
        "print(\"Number of pickups where there are no passengers:\")\n",
        "print(df.shape[0])"
      ],
      "execution_count": 46,
      "outputs": [
        {
          "output_type": "stream",
          "text": [
            "Number of pickups where there are no passengers:\n",
            "402117\n"
          ],
          "name": "stdout"
        }
      ]
    },
    {
      "cell_type": "code",
      "metadata": {
        "id": "JTaGahYmpIey",
        "colab_type": "code",
        "colab": {
          "base_uri": "https://localhost:8080/",
          "height": 256
        },
        "outputId": "c68bda42-cbda-48b4-a351-8af735595b90"
      },
      "source": [
        "#Getting to know there are negative in the price given by passenger from sample of dataset only(For exact count I used BigQuery as the data cannot be analysed using pandas dataframe)\n",
        "%matplotlib inline\n",
        "import matplotlib.pyplot as plt # visualization\n",
        "import seaborn as sns\n",
        "df_head.plot.hexbin(x=\"passenger_count\",y=\"PULocationID\")\n",
        "plt.show()"
      ],
      "execution_count": 51,
      "outputs": [
        {
          "output_type": "display_data",
          "data": {
            "image/png": "[encoded data removed]",
            "text/plain": [
              "<Figure size 432x288 with 2 Axes>"
            ]
          },
          "metadata": {
            "tags": []
          }
        }
      ]
    },
    {
      "cell_type": "markdown",
      "metadata": {
        "id": "Brd7yPNgo5qf",
        "colab_type": "text"
      },
      "source": [
        "This can be due to the reason the passenger booked and then quicly canceled the trip."
      ]
    },
    {
      "cell_type": "code",
      "metadata": {
        "id": "EXPR91eD7yes",
        "colab_type": "code",
        "colab": {}
      },
      "source": [
        "query = \"\"\"\n",
        "SELECT  tpep_pickup_datetime,tpep_dropoff_datetime,passenger_count,PULocationID,DOLocationID,total_amount FROM `nyc-taxi-265120.NYC.2018firsthalf` LIMIT 10000\n",
        "\"\"\"\n",
        "df = client.query(query).to_dataframe()"
      ],
      "execution_count": 0,
      "outputs": []
    },
    {
      "cell_type": "markdown",
      "metadata": {
        "id": "_QE-68ONPbpX",
        "colab_type": "text"
      },
      "source": [
        "<b> Finding the number of pickups where duration is more than 12 hours</b>"
      ]
    },
    {
      "cell_type": "code",
      "metadata": {
        "id": "AQlRo0VS9NL1",
        "colab_type": "code",
        "colab": {}
      },
      "source": [
        "sns.boxplot(y=\"total_amount\", data =df)\n",
        "plt.show()"
      ],
      "execution_count": 0,
      "outputs": []
    },
    {
      "cell_type": "markdown",
      "metadata": {
        "id": "8S1UCjYZ_nuc",
        "colab_type": "text"
      },
      "source": [
        "Moving onto the Trip duration, according to NYC Taxi & Limousine Commision Regulations the maximum allowed trip duration in a 24 hour interval is 12 hours. So selecting only the data points whose trip times is greater than 1 and less than 720 minutes (12 hours). Given below is the PDF of log-trip-times along with its Normal Q-Q plot which says that the data follows a good normal distribution.<br>\n",
        "<IMG SRC=\"https://github.com/ssrbazpur/Envisioning-Yellow-Taxi-High-Demand-Areas-in-NYC-city/blob/master/Screenshots/log_times.png?raw=true\" heigh=400 width=400>"
      ]
    },
    {
      "cell_type": "code",
      "metadata": {
        "id": "M8eDxLCw_Abx",
        "colab_type": "code",
        "colab": {}
      },
      "source": [
        "query = \"\"\"\n",
        "SELECT  tpep_pickup_datetime,\ttpep_dropoff_datetime,\tpassenger_count,\ttrip_distance,PULocationID,\tDOLocationID,fare_amount FROM `nyc-taxi-265120.NYC.2018firsthalf` WHERE TIMESTAMP_DIFF(tpep_dropoff_datetime,tpep_pickup_datetime,HOUR)>12 \n",
        "\"\"\"\n",
        "df = client.query(query).to_dataframe()"
      ],
      "execution_count": 0,
      "outputs": []
    },
    {
      "cell_type": "code",
      "metadata": {
        "id": "msFMS48275PN",
        "colab_type": "code",
        "outputId": "fab71b04-e921-40a5-b724-3f815ecf3ca2",
        "colab": {
          "base_uri": "https://localhost:8080/",
          "height": 195
        }
      },
      "source": [
        "df.head()"
      ],
      "execution_count": 0,
      "outputs": [
        {
          "output_type": "execute_result",
          "data": {
            "text/html": [
              "<div>\n",
              "<style scoped>\n",
              "    .dataframe tbody tr th:only-of-type {\n",
              "        vertical-align: middle;\n",
              "    }\n",
              "\n",
              "    .dataframe tbody tr th {\n",
              "        vertical-align: top;\n",
              "    }\n",
              "\n",
              "    .dataframe thead th {\n",
              "        text-align: right;\n",
              "    }\n",
              "</style>\n",
              "<table border=\"1\" class=\"dataframe\">\n",
              "  <thead>\n",
              "    <tr style=\"text-align: right;\">\n",
              "      <th></th>\n",
              "      <th>tpep_pickup_datetime</th>\n",
              "      <th>tpep_dropoff_datetime</th>\n",
              "      <th>passenger_count</th>\n",
              "      <th>trip_distance</th>\n",
              "      <th>PULocationID</th>\n",
              "      <th>DOLocationID</th>\n",
              "      <th>fare_amount</th>\n",
              "    </tr>\n",
              "  </thead>\n",
              "  <tbody>\n",
              "    <tr>\n",
              "      <th>0</th>\n",
              "      <td>2018-01-03 20:45:14+00:00</td>\n",
              "      <td>2018-01-04 20:43:04+00:00</td>\n",
              "      <td>7</td>\n",
              "      <td>0.0</td>\n",
              "      <td>4</td>\n",
              "      <td>4</td>\n",
              "      <td>0.3</td>\n",
              "    </tr>\n",
              "    <tr>\n",
              "      <th>1</th>\n",
              "      <td>2018-02-05 16:41:27+00:00</td>\n",
              "      <td>2018-02-06 16:40:01+00:00</td>\n",
              "      <td>9</td>\n",
              "      <td>0.0</td>\n",
              "      <td>186</td>\n",
              "      <td>186</td>\n",
              "      <td>9.0</td>\n",
              "    </tr>\n",
              "    <tr>\n",
              "      <th>2</th>\n",
              "      <td>2018-04-03 05:17:07+00:00</td>\n",
              "      <td>2018-04-04 00:00:00+00:00</td>\n",
              "      <td>9</td>\n",
              "      <td>0.0</td>\n",
              "      <td>265</td>\n",
              "      <td>265</td>\n",
              "      <td>92.0</td>\n",
              "    </tr>\n",
              "    <tr>\n",
              "      <th>3</th>\n",
              "      <td>2018-03-18 14:58:11+00:00</td>\n",
              "      <td>2018-03-19 14:53:29+00:00</td>\n",
              "      <td>0</td>\n",
              "      <td>0.0</td>\n",
              "      <td>265</td>\n",
              "      <td>265</td>\n",
              "      <td>200.0</td>\n",
              "    </tr>\n",
              "    <tr>\n",
              "      <th>4</th>\n",
              "      <td>2018-05-11 09:18:52+00:00</td>\n",
              "      <td>2018-05-12 09:17:43+00:00</td>\n",
              "      <td>7</td>\n",
              "      <td>0.0</td>\n",
              "      <td>132</td>\n",
              "      <td>132</td>\n",
              "      <td>70.7</td>\n",
              "    </tr>\n",
              "  </tbody>\n",
              "</table>\n",
              "</div>"
            ],
            "text/plain": [
              "       tpep_pickup_datetime  ... fare_amount\n",
              "0 2018-01-03 20:45:14+00:00  ...         0.3\n",
              "1 2018-02-05 16:41:27+00:00  ...         9.0\n",
              "2 2018-04-03 05:17:07+00:00  ...        92.0\n",
              "3 2018-03-18 14:58:11+00:00  ...       200.0\n",
              "4 2018-05-11 09:18:52+00:00  ...        70.7\n",
              "\n",
              "[5 rows x 7 columns]"
            ]
          },
          "metadata": {
            "tags": []
          },
          "execution_count": 87
        }
      ]
    },
    {
      "cell_type": "code",
      "metadata": {
        "id": "dXKwek79Pnz8",
        "colab_type": "code",
        "outputId": "193062f6-af0a-4425-a2db-e6e605c2a9eb",
        "colab": {
          "base_uri": "https://localhost:8080/",
          "height": 34
        }
      },
      "source": [
        "print(df.shape[0])"
      ],
      "execution_count": 0,
      "outputs": [
        {
          "output_type": "stream",
          "text": [
            "104528\n"
          ],
          "name": "stdout"
        }
      ]
    },
    {
      "cell_type": "markdown",
      "metadata": {
        "id": "PYh0k6xMuSLT",
        "colab_type": "text"
      },
      "source": [
        "<b><u> 2018 Second Half Yellow Cab Data Cleaning (Big Query)</u></b>\n",
        "<p align=\"justify\"> \n",
        "<ol><li> Analyse if there is rows with total trip amount =0 ? </li>\n",
        "<li>Is there rows with pick up time > drop off time.</li><li>  Analyse rows which have 0 passenger count.</li>\n",
        "</ol>\n",
        "</p>"
      ]
    },
    {
      "cell_type": "markdown",
      "metadata": {
        "id": "Rk3gqCqAuVtd",
        "colab_type": "text"
      },
      "source": [
        "<b> Finding the number of trips where amount given by passenger is less than zero.</b>"
      ]
    },
    {
      "cell_type": "code",
      "metadata": {
        "id": "GOO_n2TXwQ70",
        "colab_type": "code",
        "colab": {}
      },
      "source": [
        "query = \"\"\"\n",
        "SELECT tpep_pickup_datetime,\ttpep_dropoff_datetime,\tpassenger_count,\ttrip_distance,PULocationID,\tDOLocationID,fare_amount FROM `nyc-taxi-265120.NYC.2018SecondHalf` where total_amount <= 0 \n",
        "\"\"\"\n",
        "df = client.query(query).to_dataframe()"
      ],
      "execution_count": 0,
      "outputs": []
    },
    {
      "cell_type": "code",
      "metadata": {
        "id": "bsF68BedQqD9",
        "colab_type": "code",
        "outputId": "4aa98962-72de-4188-b2d8-3412d3bdbc50",
        "colab": {
          "base_uri": "https://localhost:8080/",
          "height": 195
        }
      },
      "source": [
        "df.head()"
      ],
      "execution_count": 0,
      "outputs": [
        {
          "output_type": "execute_result",
          "data": {
            "text/html": [
              "<div>\n",
              "<style scoped>\n",
              "    .dataframe tbody tr th:only-of-type {\n",
              "        vertical-align: middle;\n",
              "    }\n",
              "\n",
              "    .dataframe tbody tr th {\n",
              "        vertical-align: top;\n",
              "    }\n",
              "\n",
              "    .dataframe thead th {\n",
              "        text-align: right;\n",
              "    }\n",
              "</style>\n",
              "<table border=\"1\" class=\"dataframe\">\n",
              "  <thead>\n",
              "    <tr style=\"text-align: right;\">\n",
              "      <th></th>\n",
              "      <th>tpep_pickup_datetime</th>\n",
              "      <th>tpep_dropoff_datetime</th>\n",
              "      <th>passenger_count</th>\n",
              "      <th>trip_distance</th>\n",
              "      <th>PULocationID</th>\n",
              "      <th>DOLocationID</th>\n",
              "      <th>fare_amount</th>\n",
              "    </tr>\n",
              "  </thead>\n",
              "  <tbody>\n",
              "    <tr>\n",
              "      <th>0</th>\n",
              "      <td>2018-08-04 21:30:09</td>\n",
              "      <td>2018-08-04 22:01:18</td>\n",
              "      <td>1</td>\n",
              "      <td>3.02</td>\n",
              "      <td>232</td>\n",
              "      <td>80</td>\n",
              "      <td>0.0</td>\n",
              "    </tr>\n",
              "    <tr>\n",
              "      <th>1</th>\n",
              "      <td>2018-08-05 19:37:02</td>\n",
              "      <td>2018-08-05 19:37:02</td>\n",
              "      <td>1</td>\n",
              "      <td>0.00</td>\n",
              "      <td>129</td>\n",
              "      <td>264</td>\n",
              "      <td>0.0</td>\n",
              "    </tr>\n",
              "    <tr>\n",
              "      <th>2</th>\n",
              "      <td>2018-08-06 00:06:13</td>\n",
              "      <td>2018-08-06 00:17:28</td>\n",
              "      <td>1</td>\n",
              "      <td>3.65</td>\n",
              "      <td>66</td>\n",
              "      <td>249</td>\n",
              "      <td>0.0</td>\n",
              "    </tr>\n",
              "    <tr>\n",
              "      <th>3</th>\n",
              "      <td>2018-08-06 06:38:01</td>\n",
              "      <td>2018-08-06 06:45:13</td>\n",
              "      <td>5</td>\n",
              "      <td>2.97</td>\n",
              "      <td>65</td>\n",
              "      <td>80</td>\n",
              "      <td>0.0</td>\n",
              "    </tr>\n",
              "    <tr>\n",
              "      <th>4</th>\n",
              "      <td>2018-08-04 18:24:14</td>\n",
              "      <td>2018-08-04 18:24:42</td>\n",
              "      <td>2</td>\n",
              "      <td>0.10</td>\n",
              "      <td>133</td>\n",
              "      <td>133</td>\n",
              "      <td>-2.5</td>\n",
              "    </tr>\n",
              "  </tbody>\n",
              "</table>\n",
              "</div>"
            ],
            "text/plain": [
              "  tpep_pickup_datetime tpep_dropoff_datetime  ...  DOLocationID  fare_amount\n",
              "0  2018-08-04 21:30:09   2018-08-04 22:01:18  ...            80          0.0\n",
              "1  2018-08-05 19:37:02   2018-08-05 19:37:02  ...           264          0.0\n",
              "2  2018-08-06 00:06:13   2018-08-06 00:17:28  ...           249          0.0\n",
              "3  2018-08-06 06:38:01   2018-08-06 06:45:13  ...            80          0.0\n",
              "4  2018-08-04 18:24:14   2018-08-04 18:24:42  ...           133         -2.5\n",
              "\n",
              "[5 rows x 7 columns]"
            ]
          },
          "metadata": {
            "tags": []
          },
          "execution_count": 101
        }
      ]
    },
    {
      "cell_type": "code",
      "metadata": {
        "id": "sVKgbzDRwXwm",
        "colab_type": "code",
        "outputId": "fb4bf794-6e20-4f83-8060-027b756f7cfa",
        "colab": {
          "base_uri": "https://localhost:8080/",
          "height": 50
        }
      },
      "source": [
        "print(\"Number of rows with amount of trip <=0:\")\n",
        "print(df.shape[0])"
      ],
      "execution_count": 0,
      "outputs": [
        {
          "output_type": "stream",
          "text": [
            "Number of rows with amount of trip <=0:\n",
            "45192\n"
          ],
          "name": "stdout"
        }
      ]
    },
    {
      "cell_type": "markdown",
      "metadata": {
        "id": "OsKcmU10w2KQ",
        "colab_type": "text"
      },
      "source": [
        "<b> Finding the number of pickups where pickup time is greater than drop off time</b>"
      ]
    },
    {
      "cell_type": "code",
      "metadata": {
        "id": "-WY3WeNJwz8f",
        "colab_type": "code",
        "outputId": "8ab2a6c3-8db3-440d-9289-220286320be9",
        "colab": {
          "base_uri": "https://localhost:8080/",
          "height": 50
        }
      },
      "source": [
        "query = \"\"\"\n",
        "SELECT count(*) FROM `nyc-taxi-265120.NYC.2018SecondHalf` where tpep_pickup_datetime > tpep_dropoff_datetime \n",
        "\"\"\"\n",
        "df = client.query(query).to_dataframe()\n",
        "\n",
        "print(\"Number of rows where pickup time is greater than drop off:\")\n",
        "print(df[\"f0_\"][0])"
      ],
      "execution_count": 0,
      "outputs": [
        {
          "output_type": "stream",
          "text": [
            "Number of rows where pickup time is greater than drop off:\n",
            "1026\n"
          ],
          "name": "stdout"
        }
      ]
    },
    {
      "cell_type": "markdown",
      "metadata": {
        "id": "i-4kr09DxA6x",
        "colab_type": "text"
      },
      "source": [
        "<b> Finding the number of pickups where there are no passengers</b>"
      ]
    },
    {
      "cell_type": "code",
      "metadata": {
        "id": "5ywPVCcVw-sw",
        "colab_type": "code",
        "outputId": "d7976bc3-ca5a-4461-c86c-02071ff7a5c8",
        "colab": {
          "base_uri": "https://localhost:8080/",
          "height": 50
        }
      },
      "source": [
        "\n",
        "query = \"\"\"\n",
        "SELECT count(*) FROM `nyc-taxi-265120.NYC.2018SecondHalf` where passenger_count = 0 \n",
        "\"\"\"\n",
        "df = client.query(query).to_dataframe()\n",
        "\n",
        "print(\"Number of pickups where there are no passengers:\")\n",
        "print(df[\"f0_\"][0])\n"
      ],
      "execution_count": 0,
      "outputs": [
        {
          "output_type": "stream",
          "text": [
            "Number of pickups where there are no passengers:\n",
            "530950\n"
          ],
          "name": "stdout"
        }
      ]
    },
    {
      "cell_type": "markdown",
      "metadata": {
        "id": "KsN9tfRlyuL2",
        "colab_type": "text"
      },
      "source": [
        "<b><u> 2019 First Half Yellow Cab Data Cleaning (Big Query)</u></b>\n",
        "<p align=\"justify\"> \n",
        "<ol><li> Analyse if there is rows with total trip amount =0 ? </li>\n",
        "<li>Is there rows with pick up time > drop off time.</li><li>  Analyse rows which have 0 passenger count.</li>\n",
        "</ol>\n",
        "</p>"
      ]
    },
    {
      "cell_type": "code",
      "metadata": {
        "id": "yXFc0IRhy0Cl",
        "colab_type": "code",
        "colab": {}
      },
      "source": [
        "query = \"\"\"\n",
        "SELECT tpep_pickup_datetime,\ttpep_dropoff_datetime,\tpassenger_count,\ttrip_distance,PULocationID,\tDOLocationID,fare_amount FROM `nyc-taxi-265120.NYC.2019firsthalf` where total_amount < 0 \n",
        "\"\"\"\n",
        "df = client.query(query).to_dataframe()"
      ],
      "execution_count": 0,
      "outputs": []
    },
    {
      "cell_type": "code",
      "metadata": {
        "id": "lQQSR8P_QEY5",
        "colab_type": "code",
        "outputId": "c59031d1-e725-4693-dc54-32bb8569c25c",
        "colab": {
          "base_uri": "https://localhost:8080/",
          "height": 195
        }
      },
      "source": [
        "df.head()"
      ],
      "execution_count": 0,
      "outputs": [
        {
          "output_type": "execute_result",
          "data": {
            "text/html": [
              "<div>\n",
              "<style scoped>\n",
              "    .dataframe tbody tr th:only-of-type {\n",
              "        vertical-align: middle;\n",
              "    }\n",
              "\n",
              "    .dataframe tbody tr th {\n",
              "        vertical-align: top;\n",
              "    }\n",
              "\n",
              "    .dataframe thead th {\n",
              "        text-align: right;\n",
              "    }\n",
              "</style>\n",
              "<table border=\"1\" class=\"dataframe\">\n",
              "  <thead>\n",
              "    <tr style=\"text-align: right;\">\n",
              "      <th></th>\n",
              "      <th>tpep_pickup_datetime</th>\n",
              "      <th>tpep_dropoff_datetime</th>\n",
              "      <th>passenger_count</th>\n",
              "      <th>trip_distance</th>\n",
              "      <th>PULocationID</th>\n",
              "      <th>DOLocationID</th>\n",
              "      <th>fare_amount</th>\n",
              "    </tr>\n",
              "  </thead>\n",
              "  <tbody>\n",
              "    <tr>\n",
              "      <th>0</th>\n",
              "      <td>2019-01-03 17:56:33</td>\n",
              "      <td>2019-01-03 17:56:41</td>\n",
              "      <td>1</td>\n",
              "      <td>0.05</td>\n",
              "      <td>166</td>\n",
              "      <td>166</td>\n",
              "      <td>-2.5</td>\n",
              "    </tr>\n",
              "    <tr>\n",
              "      <th>1</th>\n",
              "      <td>2019-01-03 17:09:38</td>\n",
              "      <td>2019-01-03 17:10:03</td>\n",
              "      <td>1</td>\n",
              "      <td>0.18</td>\n",
              "      <td>157</td>\n",
              "      <td>160</td>\n",
              "      <td>-2.5</td>\n",
              "    </tr>\n",
              "    <tr>\n",
              "      <th>2</th>\n",
              "      <td>2019-01-04 16:06:11</td>\n",
              "      <td>2019-01-04 16:06:25</td>\n",
              "      <td>1</td>\n",
              "      <td>0.00</td>\n",
              "      <td>152</td>\n",
              "      <td>152</td>\n",
              "      <td>-2.5</td>\n",
              "    </tr>\n",
              "    <tr>\n",
              "      <th>3</th>\n",
              "      <td>2019-01-04 16:25:35</td>\n",
              "      <td>2019-01-04 16:25:46</td>\n",
              "      <td>1</td>\n",
              "      <td>0.00</td>\n",
              "      <td>197</td>\n",
              "      <td>197</td>\n",
              "      <td>-2.5</td>\n",
              "    </tr>\n",
              "    <tr>\n",
              "      <th>4</th>\n",
              "      <td>2019-01-04 17:21:52</td>\n",
              "      <td>2019-01-04 17:21:57</td>\n",
              "      <td>1</td>\n",
              "      <td>0.00</td>\n",
              "      <td>226</td>\n",
              "      <td>226</td>\n",
              "      <td>-2.5</td>\n",
              "    </tr>\n",
              "  </tbody>\n",
              "</table>\n",
              "</div>"
            ],
            "text/plain": [
              "  tpep_pickup_datetime tpep_dropoff_datetime  ...  DOLocationID  fare_amount\n",
              "0  2019-01-03 17:56:33   2019-01-03 17:56:41  ...           166         -2.5\n",
              "1  2019-01-03 17:09:38   2019-01-03 17:10:03  ...           160         -2.5\n",
              "2  2019-01-04 16:06:11   2019-01-04 16:06:25  ...           152         -2.5\n",
              "3  2019-01-04 16:25:35   2019-01-04 16:25:46  ...           197         -2.5\n",
              "4  2019-01-04 17:21:52   2019-01-04 17:21:57  ...           226         -2.5\n",
              "\n",
              "[5 rows x 7 columns]"
            ]
          },
          "metadata": {
            "tags": []
          },
          "execution_count": 94
        }
      ]
    },
    {
      "cell_type": "code",
      "metadata": {
        "id": "Vddwk11k0ef5",
        "colab_type": "code",
        "outputId": "8baa2c62-73c5-4ce1-9bcc-6271c63aba46",
        "colab": {
          "base_uri": "https://localhost:8080/",
          "height": 50
        }
      },
      "source": [
        "print(\"Number of rows with amount of trip <0:\")\n",
        "print(df.shape[0])"
      ],
      "execution_count": 0,
      "outputs": [
        {
          "output_type": "stream",
          "text": [
            "Number of rows with amount of trip <0:\n",
            "67963\n"
          ],
          "name": "stdout"
        }
      ]
    },
    {
      "cell_type": "code",
      "metadata": {
        "id": "nZREwAP6y0yx",
        "colab_type": "code",
        "outputId": "22b5ee15-91b9-4591-e1bd-84027b8430e3",
        "colab": {
          "base_uri": "https://localhost:8080/",
          "height": 50
        }
      },
      "source": [
        "query = \"\"\"\n",
        "SELECT tpep_pickup_datetime,\ttpep_dropoff_datetime,\tpassenger_count,\ttrip_distance,PULocationID,\tDOLocationID,fare_amount FROM `nyc-taxi-265120.NYC.2019firsthalf` where tpep_pickup_datetime > tpep_dropoff_datetime LIMIT 10000\n",
        "\"\"\"\n",
        "df = client.query(query).to_dataframe()\n",
        "\n",
        "print(\"Number of rows where pickup time is greater than drop off:\")\n",
        "print(df.shape[0])"
      ],
      "execution_count": 0,
      "outputs": [
        {
          "output_type": "stream",
          "text": [
            "Number of rows where pickup time is greater than drop off:\n",
            "18\n"
          ],
          "name": "stdout"
        }
      ]
    },
    {
      "cell_type": "code",
      "metadata": {
        "id": "r8FsPmWgy3YE",
        "colab_type": "code",
        "outputId": "0966f627-871f-4c14-f425-0f6667e4fec8",
        "colab": {
          "base_uri": "https://localhost:8080/",
          "height": 50
        }
      },
      "source": [
        "query = \"\"\"\n",
        "SELECT count(*) FROM `nyc-taxi-265120.NYC.2019firsthalf` where passenger_count = 0 LIMIT 10000\n",
        "\"\"\"\n",
        "df = client.query(query).to_dataframe()\n",
        "print(\"Number of pickups where there are no passengers:\")\n",
        "print(df[\"f0_\"][0])"
      ],
      "execution_count": 0,
      "outputs": [
        {
          "output_type": "stream",
          "text": [
            "Number of pickups where there are no passengers:\n",
            "785404\n"
          ],
          "name": "stdout"
        }
      ]
    },
    {
      "cell_type": "markdown",
      "metadata": {
        "id": "EDjzBQ67zyU-",
        "colab_type": "text"
      },
      "source": [
        "<b><u> 2019 Second Half Yellow Cab Data Cleaning (Big Query)</u></b>\n",
        "<p align=\"justify\"> \n",
        "<ol><li> Analyse if there is rows with total trip amount =0 ? </li>\n",
        "<li>Is there rows with pick up time > drop off time.</li><li>  Analyse rows which have 0 passenger count.</li>\n",
        "</ol>\n",
        "</p>"
      ]
    },
    {
      "cell_type": "code",
      "metadata": {
        "id": "L5p-ifKazxad",
        "colab_type": "code",
        "colab": {}
      },
      "source": [
        "query = \"\"\"\n",
        "SELECT tpep_pickup_datetime,\ttpep_dropoff_datetime,\tpassenger_count,\ttrip_distance,PULocationID,\tDOLocationID,fare_amount FROM `nyc-taxi-265120.NYC.2019secondhalf` where total_amount <= 0 \n",
        "\"\"\"\n",
        "df = client.query(query).to_dataframe()\n"
      ],
      "execution_count": 0,
      "outputs": []
    },
    {
      "cell_type": "code",
      "metadata": {
        "id": "GVPZ0rBOQ8Y7",
        "colab_type": "code",
        "outputId": "8e14caab-c867-47a2-e9ef-8fe2321c0027",
        "colab": {
          "base_uri": "https://localhost:8080/",
          "height": 195
        }
      },
      "source": [
        "df.head()"
      ],
      "execution_count": 0,
      "outputs": [
        {
          "output_type": "execute_result",
          "data": {
            "text/html": [
              "<div>\n",
              "<style scoped>\n",
              "    .dataframe tbody tr th:only-of-type {\n",
              "        vertical-align: middle;\n",
              "    }\n",
              "\n",
              "    .dataframe tbody tr th {\n",
              "        vertical-align: top;\n",
              "    }\n",
              "\n",
              "    .dataframe thead th {\n",
              "        text-align: right;\n",
              "    }\n",
              "</style>\n",
              "<table border=\"1\" class=\"dataframe\">\n",
              "  <thead>\n",
              "    <tr style=\"text-align: right;\">\n",
              "      <th></th>\n",
              "      <th>tpep_pickup_datetime</th>\n",
              "      <th>tpep_dropoff_datetime</th>\n",
              "      <th>passenger_count</th>\n",
              "      <th>trip_distance</th>\n",
              "      <th>PULocationID</th>\n",
              "      <th>DOLocationID</th>\n",
              "      <th>fare_amount</th>\n",
              "    </tr>\n",
              "  </thead>\n",
              "  <tbody>\n",
              "    <tr>\n",
              "      <th>0</th>\n",
              "      <td>2019-07-01 07:04:53</td>\n",
              "      <td>2019-07-01 07:04:53</td>\n",
              "      <td>1.0</td>\n",
              "      <td>0.0</td>\n",
              "      <td>77.0</td>\n",
              "      <td>264.0</td>\n",
              "      <td>0.0</td>\n",
              "    </tr>\n",
              "    <tr>\n",
              "      <th>1</th>\n",
              "      <td>2019-07-01 09:10:24</td>\n",
              "      <td>2019-07-01 09:10:24</td>\n",
              "      <td>1.0</td>\n",
              "      <td>0.0</td>\n",
              "      <td>63.0</td>\n",
              "      <td>264.0</td>\n",
              "      <td>0.0</td>\n",
              "    </tr>\n",
              "    <tr>\n",
              "      <th>2</th>\n",
              "      <td>2019-07-01 09:56:06</td>\n",
              "      <td>2019-07-01 09:59:07</td>\n",
              "      <td>1.0</td>\n",
              "      <td>0.0</td>\n",
              "      <td>207.0</td>\n",
              "      <td>207.0</td>\n",
              "      <td>0.0</td>\n",
              "    </tr>\n",
              "    <tr>\n",
              "      <th>3</th>\n",
              "      <td>2019-07-01 11:33:44</td>\n",
              "      <td>2019-07-01 11:33:44</td>\n",
              "      <td>1.0</td>\n",
              "      <td>0.0</td>\n",
              "      <td>205.0</td>\n",
              "      <td>264.0</td>\n",
              "      <td>0.0</td>\n",
              "    </tr>\n",
              "    <tr>\n",
              "      <th>4</th>\n",
              "      <td>2019-07-01 12:47:33</td>\n",
              "      <td>2019-07-01 12:48:34</td>\n",
              "      <td>1.0</td>\n",
              "      <td>0.0</td>\n",
              "      <td>207.0</td>\n",
              "      <td>207.0</td>\n",
              "      <td>0.0</td>\n",
              "    </tr>\n",
              "  </tbody>\n",
              "</table>\n",
              "</div>"
            ],
            "text/plain": [
              "  tpep_pickup_datetime tpep_dropoff_datetime  ...  DOLocationID  fare_amount\n",
              "0  2019-07-01 07:04:53   2019-07-01 07:04:53  ...         264.0          0.0\n",
              "1  2019-07-01 09:10:24   2019-07-01 09:10:24  ...         264.0          0.0\n",
              "2  2019-07-01 09:56:06   2019-07-01 09:59:07  ...         207.0          0.0\n",
              "3  2019-07-01 11:33:44   2019-07-01 11:33:44  ...         264.0          0.0\n",
              "4  2019-07-01 12:47:33   2019-07-01 12:48:34  ...         207.0          0.0\n",
              "\n",
              "[5 rows x 7 columns]"
            ]
          },
          "metadata": {
            "tags": []
          },
          "execution_count": 106
        }
      ]
    },
    {
      "cell_type": "code",
      "metadata": {
        "id": "SmG24oHMQ53g",
        "colab_type": "code",
        "outputId": "8081ef3c-a8b7-464e-95e4-4c168fa0763a",
        "colab": {
          "base_uri": "https://localhost:8080/",
          "height": 50
        }
      },
      "source": [
        "print(\"Number of rows with amount of trip <=0:\")\n",
        "print(df.shape[0])"
      ],
      "execution_count": 0,
      "outputs": [
        {
          "output_type": "stream",
          "text": [
            "Number of rows with amount of trip <=0:\n",
            "112402\n"
          ],
          "name": "stdout"
        }
      ]
    },
    {
      "cell_type": "code",
      "metadata": {
        "id": "AMIThkV60GBy",
        "colab_type": "code",
        "colab": {}
      },
      "source": [
        "query = \"\"\"\n",
        "SELECT * FROM `nyc-taxi-265120.NYC.2019secondhalf` where tpep_pickup_datetime > tpep_dropoff_datetime \n",
        "\"\"\"\n",
        "df = client.query(query).to_dataframe()\n",
        "\n",
        "print(\"Number of rows where pickup time is greater than drop off:\")\n",
        "print(df[\"f0_\"][0])"
      ],
      "execution_count": 0,
      "outputs": []
    },
    {
      "cell_type": "code",
      "metadata": {
        "id": "RsVNcvwa0L7D",
        "colab_type": "code",
        "colab": {}
      },
      "source": [
        "query = \"\"\"\n",
        "SELECT count(*) FROM `nyc-taxi-265120.NYC.2019secondhalf` where passenger_count = 0 \n",
        "\"\"\"\n",
        "df = client.query(query).to_dataframe()\n",
        "print(\"Number of pickups where there are no passengers:\")\n",
        "print(df[\"f0_\"][0])"
      ],
      "execution_count": 0,
      "outputs": []
    },
    {
      "cell_type": "markdown",
      "metadata": {
        "id": "Mzx-IJ4vvJPI",
        "colab_type": "text"
      },
      "source": [
        "<b><u> INNER JOIN (Eliminating out of Bounds Location if exists)</u></b>\n",
        "\n",
        "Eliminaing out of Bound Location with the help of INNER JOIN.<br>\n",
        "<ol><li>\n",
        "Table A- Taxi Trips Data </li>\n",
        "<li>\n",
        "Table B- Zone Data</li>\n",
        "</ol>\n",
        "\n",
        "<img src=\"https://helloacm.com/wp-content/uploads/2019/04/sql-joins-venn-diagrams-inner-join.png\"/>\n",
        "\n",
        "The INNER JOIN keyword selects all rows from both tables as long as there is a match between the columns. It gives only the trips pickups in the NYC region.</p>"
      ]
    },
    {
      "cell_type": "code",
      "metadata": {
        "id": "i6B0lpHNv23B",
        "colab_type": "code",
        "colab": {}
      },
      "source": [
        "#Sample showing how INNER JOIN can be done using Big Query.\n",
        "query = \"\"\"\n",
        "with td as(\n",
        "WITH AB AS\n",
        "(\n",
        "SELECT  CAST(tpep_pickup_datetime AS DATETIME) AS PICKUP,* FROM `nyc-taxi-265120.NYC.2019firsthalf` where total_amount>0\n",
        ")  \n",
        "SELECT  PICKUP,CAST(EXTRACT (YEAR from PICKUP) AS STRING) AS year,EXTRACT (DAYOFYEAR from PICKUP) AS daynumber,EXTRACT (HOUR from PICKUP) AS hour, cast(PULocationID as STRING) as LOCATION,COUNT(*) AS numtrips FROM AB group by PICKUP,year,daynumber,hour,LOCATION),points AS\n",
        "(SELECT *,ST_CENTROID(zone_geom) as p FROM `bigquery-public-data.new_york_taxi_trips.taxi_zone_geom`)\n",
        "SELECT cast(DATE(td.PICKUP) as STRING) AS A1,\n",
        "points.zone_id,CAST(TIME(DATETIME_TRUNC(td.PICKUP, HOUR)) as string) rounded_to_hour,\n",
        "SUM(td.numtrips) as label,\n",
        "FROM  td \n",
        "\n",
        "INNER JOIN \n",
        "\n",
        "points ON points.zone_id=td.LOCATION AND\n",
        "eXTRACT (YEAR from PICKUP) =2018 AND td.daynumber<150\n",
        "group by zone_id,A1,rounded_to_hour\n",
        "\"\"\"\n",
        "df1 = client.query(query).to_dataframe()"
      ],
      "execution_count": 0,
      "outputs": []
    },
    {
      "cell_type": "markdown",
      "metadata": {
        "id": "9moTY_6l4mfJ",
        "colab_type": "text"
      },
      "source": [
        "<h4> <b>5.2 Data Wrangling </b></h4>\n",
        "<p align=\"justify\"> Data wrangling which is also referred as data munging.The main moto transform data into a format that is more appropriate and considered more valuable.</p>\n",
        "<b><u> 2018 Data Wrangling</u></b>"
      ]
    },
    {
      "cell_type": "markdown",
      "metadata": {
        "id": "xaFtafDR96ZR",
        "colab_type": "text"
      },
      "source": [
        "<p align=\"justify\">Add columns: year, month, weekday name, and hour using BIg Query</p>"
      ]
    },
    {
      "cell_type": "code",
      "metadata": {
        "id": "cGIx_M6X52hO",
        "colab_type": "code",
        "colab": {}
      },
      "source": [
        "query = \"\"\"\n",
        "with td as(\n",
        "WITH AB AS\n",
        "(\n",
        "SELECT  CAST(tpep_pickup_datetime AS DATETIME) AS PICKUP,* FROM `nyc-taxi-265120.NYC.2018firsthalf` where total_amount>0 and  tpep_pickup_datetime < tpep_dropoff_datetime AND  TIMESTAMP_DIFF(tpep_dropoff_datetime,tpep_pickup_datetime,HOUR)>12 \n",
        ")  \n",
        "SELECT  PICKUP,CAST(EXTRACT (YEAR from PICKUP) AS STRING) AS year,EXTRACT (DAYOFYEAR from PICKUP) AS daynumber,EXTRACT (HOUR from PICKUP) AS hour, cast(PULocationID as STRING) as LOCATION,COUNT(*) AS numtrips FROM AB group by PICKUP,year,daynumber,hour,LOCATION),points AS\n",
        "(SELECT *,ST_CENTROID(zone_geom) as p FROM `bigquery-public-data.new_york_taxi_trips.taxi_zone_geom`)\n",
        "SELECT \n",
        "cast(DATE(td.PICKUP) as STRING) AS A1,\n",
        "points.zone_id,\n",
        "CAST(TIME(DATETIME_TRUNC(td.PICKUP, HOUR)) as string) rounded_to_hour,\n",
        "SUM(td.numtrips) as label,\n",
        "FROM  td INNER JOIN points ON points.zone_id=td.LOCATION AND\n",
        "eXTRACT (YEAR from PICKUP) =2018 \n",
        "group by zone_id,A1,rounded_to_hour\n",
        "\"\"\"\n",
        "df1 = client.query(query).to_dataframe()"
      ],
      "execution_count": 0,
      "outputs": []
    },
    {
      "cell_type": "code",
      "metadata": {
        "id": "FAi3gi__6RSb",
        "colab_type": "code",
        "colab": {}
      },
      "source": [
        "import pandas as pd\n",
        "df1[\"time\"]=pd.to_datetime(df1['A1'] + ' ' + df1['rounded_to_hour'])\n"
      ],
      "execution_count": 0,
      "outputs": []
    },
    {
      "cell_type": "markdown",
      "metadata": {
        "id": "kKiN1H9iR58d",
        "colab_type": "text"
      },
      "source": [
        "<p> <b>Binning so that I can get a window of 1 hr for each zone and for each date </p></b>\n",
        "<p> A1 column is th pickup date. I took the help of pivot and then unstack the pivot table to get the regular 1 hr window for each zone on each pickup day.</p>"
      ]
    },
    {
      "cell_type": "code",
      "metadata": {
        "id": "To9UOlYYRRTF",
        "colab_type": "code",
        "outputId": "b7ea14f0-39df-4d5c-9cff-cfd543cef873",
        "colab": {
          "base_uri": "https://localhost:8080/",
          "height": 195
        }
      },
      "source": [
        "df1.head()"
      ],
      "execution_count": 0,
      "outputs": [
        {
          "output_type": "execute_result",
          "data": {
            "text/html": [
              "<div>\n",
              "<style scoped>\n",
              "    .dataframe tbody tr th:only-of-type {\n",
              "        vertical-align: middle;\n",
              "    }\n",
              "\n",
              "    .dataframe tbody tr th {\n",
              "        vertical-align: top;\n",
              "    }\n",
              "\n",
              "    .dataframe thead th {\n",
              "        text-align: right;\n",
              "    }\n",
              "</style>\n",
              "<table border=\"1\" class=\"dataframe\">\n",
              "  <thead>\n",
              "    <tr style=\"text-align: right;\">\n",
              "      <th></th>\n",
              "      <th>A1</th>\n",
              "      <th>zone_id</th>\n",
              "      <th>rounded_to_hour</th>\n",
              "      <th>label</th>\n",
              "      <th>time</th>\n",
              "    </tr>\n",
              "  </thead>\n",
              "  <tbody>\n",
              "    <tr>\n",
              "      <th>0</th>\n",
              "      <td>2018-01-11</td>\n",
              "      <td>234</td>\n",
              "      <td>00:00:00</td>\n",
              "      <td>230</td>\n",
              "      <td>2018-01-11</td>\n",
              "    </tr>\n",
              "    <tr>\n",
              "      <th>1</th>\n",
              "      <td>2018-01-10</td>\n",
              "      <td>45</td>\n",
              "      <td>00:00:00</td>\n",
              "      <td>28</td>\n",
              "      <td>2018-01-10</td>\n",
              "    </tr>\n",
              "    <tr>\n",
              "      <th>2</th>\n",
              "      <td>2018-01-11</td>\n",
              "      <td>263</td>\n",
              "      <td>00:00:00</td>\n",
              "      <td>77</td>\n",
              "      <td>2018-01-11</td>\n",
              "    </tr>\n",
              "    <tr>\n",
              "      <th>3</th>\n",
              "      <td>2018-01-11</td>\n",
              "      <td>246</td>\n",
              "      <td>00:00:00</td>\n",
              "      <td>75</td>\n",
              "      <td>2018-01-11</td>\n",
              "    </tr>\n",
              "    <tr>\n",
              "      <th>4</th>\n",
              "      <td>2018-01-10</td>\n",
              "      <td>113</td>\n",
              "      <td>00:00:00</td>\n",
              "      <td>52</td>\n",
              "      <td>2018-01-10</td>\n",
              "    </tr>\n",
              "  </tbody>\n",
              "</table>\n",
              "</div>"
            ],
            "text/plain": [
              "           A1 zone_id rounded_to_hour  label       time\n",
              "0  2018-01-11     234        00:00:00    230 2018-01-11\n",
              "1  2018-01-10      45        00:00:00     28 2018-01-10\n",
              "2  2018-01-11     263        00:00:00     77 2018-01-11\n",
              "3  2018-01-11     246        00:00:00     75 2018-01-11\n",
              "4  2018-01-10     113        00:00:00     52 2018-01-10"
            ]
          },
          "metadata": {
            "tags": []
          },
          "execution_count": 113
        }
      ]
    },
    {
      "cell_type": "code",
      "metadata": {
        "id": "fASS4MVRRQEc",
        "colab_type": "code",
        "colab": {}
      },
      "source": [
        "#_____Converting dataframe to Pivot Table______\n",
        "\n",
        "a=df1.pivot_table(\"label\", \"time\", \"zone_id\")"
      ],
      "execution_count": 0,
      "outputs": []
    },
    {
      "cell_type": "code",
      "metadata": {
        "id": "F3Ecq1S2RbNg",
        "colab_type": "code",
        "outputId": "0170ec21-2c8a-4009-f6ff-87f33f845df1",
        "colab": {
          "base_uri": "https://localhost:8080/",
          "height": 442
        }
      },
      "source": [
        "a.head()"
      ],
      "execution_count": 0,
      "outputs": [
        {
          "output_type": "execute_result",
          "data": {
            "text/html": [
              "<div>\n",
              "<style scoped>\n",
              "    .dataframe tbody tr th:only-of-type {\n",
              "        vertical-align: middle;\n",
              "    }\n",
              "\n",
              "    .dataframe tbody tr th {\n",
              "        vertical-align: top;\n",
              "    }\n",
              "\n",
              "    .dataframe thead th {\n",
              "        text-align: right;\n",
              "    }\n",
              "</style>\n",
              "<table border=\"1\" class=\"dataframe\">\n",
              "  <thead>\n",
              "    <tr style=\"text-align: right;\">\n",
              "      <th>zone_id</th>\n",
              "      <th>1</th>\n",
              "      <th>10</th>\n",
              "      <th>100</th>\n",
              "      <th>101</th>\n",
              "      <th>102</th>\n",
              "      <th>106</th>\n",
              "      <th>107</th>\n",
              "      <th>108</th>\n",
              "      <th>109</th>\n",
              "      <th>11</th>\n",
              "      <th>110</th>\n",
              "      <th>111</th>\n",
              "      <th>112</th>\n",
              "      <th>113</th>\n",
              "      <th>114</th>\n",
              "      <th>115</th>\n",
              "      <th>116</th>\n",
              "      <th>117</th>\n",
              "      <th>118</th>\n",
              "      <th>119</th>\n",
              "      <th>12</th>\n",
              "      <th>120</th>\n",
              "      <th>121</th>\n",
              "      <th>122</th>\n",
              "      <th>123</th>\n",
              "      <th>124</th>\n",
              "      <th>125</th>\n",
              "      <th>126</th>\n",
              "      <th>127</th>\n",
              "      <th>128</th>\n",
              "      <th>129</th>\n",
              "      <th>13</th>\n",
              "      <th>130</th>\n",
              "      <th>131</th>\n",
              "      <th>132</th>\n",
              "      <th>133</th>\n",
              "      <th>134</th>\n",
              "      <th>135</th>\n",
              "      <th>136</th>\n",
              "      <th>137</th>\n",
              "      <th>...</th>\n",
              "      <th>62</th>\n",
              "      <th>63</th>\n",
              "      <th>64</th>\n",
              "      <th>65</th>\n",
              "      <th>66</th>\n",
              "      <th>67</th>\n",
              "      <th>68</th>\n",
              "      <th>69</th>\n",
              "      <th>7</th>\n",
              "      <th>70</th>\n",
              "      <th>71</th>\n",
              "      <th>72</th>\n",
              "      <th>73</th>\n",
              "      <th>74</th>\n",
              "      <th>75</th>\n",
              "      <th>76</th>\n",
              "      <th>77</th>\n",
              "      <th>78</th>\n",
              "      <th>79</th>\n",
              "      <th>8</th>\n",
              "      <th>80</th>\n",
              "      <th>81</th>\n",
              "      <th>82</th>\n",
              "      <th>83</th>\n",
              "      <th>84</th>\n",
              "      <th>85</th>\n",
              "      <th>86</th>\n",
              "      <th>87</th>\n",
              "      <th>88</th>\n",
              "      <th>89</th>\n",
              "      <th>9</th>\n",
              "      <th>90</th>\n",
              "      <th>91</th>\n",
              "      <th>92</th>\n",
              "      <th>93</th>\n",
              "      <th>94</th>\n",
              "      <th>95</th>\n",
              "      <th>96</th>\n",
              "      <th>97</th>\n",
              "      <th>98</th>\n",
              "    </tr>\n",
              "    <tr>\n",
              "      <th>time</th>\n",
              "      <th></th>\n",
              "      <th></th>\n",
              "      <th></th>\n",
              "      <th></th>\n",
              "      <th></th>\n",
              "      <th></th>\n",
              "      <th></th>\n",
              "      <th></th>\n",
              "      <th></th>\n",
              "      <th></th>\n",
              "      <th></th>\n",
              "      <th></th>\n",
              "      <th></th>\n",
              "      <th></th>\n",
              "      <th></th>\n",
              "      <th></th>\n",
              "      <th></th>\n",
              "      <th></th>\n",
              "      <th></th>\n",
              "      <th></th>\n",
              "      <th></th>\n",
              "      <th></th>\n",
              "      <th></th>\n",
              "      <th></th>\n",
              "      <th></th>\n",
              "      <th></th>\n",
              "      <th></th>\n",
              "      <th></th>\n",
              "      <th></th>\n",
              "      <th></th>\n",
              "      <th></th>\n",
              "      <th></th>\n",
              "      <th></th>\n",
              "      <th></th>\n",
              "      <th></th>\n",
              "      <th></th>\n",
              "      <th></th>\n",
              "      <th></th>\n",
              "      <th></th>\n",
              "      <th></th>\n",
              "      <th></th>\n",
              "      <th></th>\n",
              "      <th></th>\n",
              "      <th></th>\n",
              "      <th></th>\n",
              "      <th></th>\n",
              "      <th></th>\n",
              "      <th></th>\n",
              "      <th></th>\n",
              "      <th></th>\n",
              "      <th></th>\n",
              "      <th></th>\n",
              "      <th></th>\n",
              "      <th></th>\n",
              "      <th></th>\n",
              "      <th></th>\n",
              "      <th></th>\n",
              "      <th></th>\n",
              "      <th></th>\n",
              "      <th></th>\n",
              "      <th></th>\n",
              "      <th></th>\n",
              "      <th></th>\n",
              "      <th></th>\n",
              "      <th></th>\n",
              "      <th></th>\n",
              "      <th></th>\n",
              "      <th></th>\n",
              "      <th></th>\n",
              "      <th></th>\n",
              "      <th></th>\n",
              "      <th></th>\n",
              "      <th></th>\n",
              "      <th></th>\n",
              "      <th></th>\n",
              "      <th></th>\n",
              "      <th></th>\n",
              "      <th></th>\n",
              "      <th></th>\n",
              "      <th></th>\n",
              "      <th></th>\n",
              "    </tr>\n",
              "  </thead>\n",
              "  <tbody>\n",
              "    <tr>\n",
              "      <th>2018-01-01 00:00:00</th>\n",
              "      <td>NaN</td>\n",
              "      <td>NaN</td>\n",
              "      <td>107.0</td>\n",
              "      <td>NaN</td>\n",
              "      <td>NaN</td>\n",
              "      <td>3.0</td>\n",
              "      <td>474.0</td>\n",
              "      <td>NaN</td>\n",
              "      <td>NaN</td>\n",
              "      <td>NaN</td>\n",
              "      <td>NaN</td>\n",
              "      <td>NaN</td>\n",
              "      <td>15.0</td>\n",
              "      <td>243.0</td>\n",
              "      <td>346.0</td>\n",
              "      <td>NaN</td>\n",
              "      <td>59.0</td>\n",
              "      <td>NaN</td>\n",
              "      <td>NaN</td>\n",
              "      <td>2.0</td>\n",
              "      <td>NaN</td>\n",
              "      <td>NaN</td>\n",
              "      <td>NaN</td>\n",
              "      <td>NaN</td>\n",
              "      <td>NaN</td>\n",
              "      <td>NaN</td>\n",
              "      <td>56.0</td>\n",
              "      <td>NaN</td>\n",
              "      <td>8.0</td>\n",
              "      <td>NaN</td>\n",
              "      <td>15.0</td>\n",
              "      <td>63.0</td>\n",
              "      <td>2.0</td>\n",
              "      <td>NaN</td>\n",
              "      <td>173.0</td>\n",
              "      <td>2.0</td>\n",
              "      <td>1.0</td>\n",
              "      <td>1.0</td>\n",
              "      <td>NaN</td>\n",
              "      <td>252.0</td>\n",
              "      <td>...</td>\n",
              "      <td>NaN</td>\n",
              "      <td>NaN</td>\n",
              "      <td>NaN</td>\n",
              "      <td>28.0</td>\n",
              "      <td>10.0</td>\n",
              "      <td>NaN</td>\n",
              "      <td>494.0</td>\n",
              "      <td>1.0</td>\n",
              "      <td>40.0</td>\n",
              "      <td>3.0</td>\n",
              "      <td>NaN</td>\n",
              "      <td>NaN</td>\n",
              "      <td>NaN</td>\n",
              "      <td>72.0</td>\n",
              "      <td>118.0</td>\n",
              "      <td>NaN</td>\n",
              "      <td>NaN</td>\n",
              "      <td>2.0</td>\n",
              "      <td>749.0</td>\n",
              "      <td>NaN</td>\n",
              "      <td>24.0</td>\n",
              "      <td>NaN</td>\n",
              "      <td>5.0</td>\n",
              "      <td>3.0</td>\n",
              "      <td>NaN</td>\n",
              "      <td>NaN</td>\n",
              "      <td>NaN</td>\n",
              "      <td>103.0</td>\n",
              "      <td>39.0</td>\n",
              "      <td>2.0</td>\n",
              "      <td>NaN</td>\n",
              "      <td>337.0</td>\n",
              "      <td>NaN</td>\n",
              "      <td>1.0</td>\n",
              "      <td>1.0</td>\n",
              "      <td>1.0</td>\n",
              "      <td>1.0</td>\n",
              "      <td>NaN</td>\n",
              "      <td>5.0</td>\n",
              "      <td>NaN</td>\n",
              "    </tr>\n",
              "    <tr>\n",
              "      <th>2018-01-01 01:00:00</th>\n",
              "      <td>NaN</td>\n",
              "      <td>1.0</td>\n",
              "      <td>169.0</td>\n",
              "      <td>NaN</td>\n",
              "      <td>NaN</td>\n",
              "      <td>16.0</td>\n",
              "      <td>661.0</td>\n",
              "      <td>NaN</td>\n",
              "      <td>NaN</td>\n",
              "      <td>NaN</td>\n",
              "      <td>NaN</td>\n",
              "      <td>NaN</td>\n",
              "      <td>65.0</td>\n",
              "      <td>236.0</td>\n",
              "      <td>207.0</td>\n",
              "      <td>NaN</td>\n",
              "      <td>78.0</td>\n",
              "      <td>NaN</td>\n",
              "      <td>NaN</td>\n",
              "      <td>5.0</td>\n",
              "      <td>1.0</td>\n",
              "      <td>1.0</td>\n",
              "      <td>NaN</td>\n",
              "      <td>NaN</td>\n",
              "      <td>2.0</td>\n",
              "      <td>NaN</td>\n",
              "      <td>111.0</td>\n",
              "      <td>3.0</td>\n",
              "      <td>10.0</td>\n",
              "      <td>NaN</td>\n",
              "      <td>37.0</td>\n",
              "      <td>94.0</td>\n",
              "      <td>NaN</td>\n",
              "      <td>NaN</td>\n",
              "      <td>133.0</td>\n",
              "      <td>1.0</td>\n",
              "      <td>1.0</td>\n",
              "      <td>1.0</td>\n",
              "      <td>1.0</td>\n",
              "      <td>300.0</td>\n",
              "      <td>...</td>\n",
              "      <td>3.0</td>\n",
              "      <td>NaN</td>\n",
              "      <td>NaN</td>\n",
              "      <td>35.0</td>\n",
              "      <td>11.0</td>\n",
              "      <td>NaN</td>\n",
              "      <td>508.0</td>\n",
              "      <td>3.0</td>\n",
              "      <td>99.0</td>\n",
              "      <td>4.0</td>\n",
              "      <td>NaN</td>\n",
              "      <td>NaN</td>\n",
              "      <td>NaN</td>\n",
              "      <td>119.0</td>\n",
              "      <td>153.0</td>\n",
              "      <td>2.0</td>\n",
              "      <td>NaN</td>\n",
              "      <td>1.0</td>\n",
              "      <td>818.0</td>\n",
              "      <td>NaN</td>\n",
              "      <td>72.0</td>\n",
              "      <td>NaN</td>\n",
              "      <td>15.0</td>\n",
              "      <td>11.0</td>\n",
              "      <td>NaN</td>\n",
              "      <td>2.0</td>\n",
              "      <td>NaN</td>\n",
              "      <td>223.0</td>\n",
              "      <td>50.0</td>\n",
              "      <td>8.0</td>\n",
              "      <td>1.0</td>\n",
              "      <td>327.0</td>\n",
              "      <td>1.0</td>\n",
              "      <td>1.0</td>\n",
              "      <td>NaN</td>\n",
              "      <td>1.0</td>\n",
              "      <td>5.0</td>\n",
              "      <td>NaN</td>\n",
              "      <td>40.0</td>\n",
              "      <td>NaN</td>\n",
              "    </tr>\n",
              "    <tr>\n",
              "      <th>2018-01-01 02:00:00</th>\n",
              "      <td>NaN</td>\n",
              "      <td>NaN</td>\n",
              "      <td>210.0</td>\n",
              "      <td>NaN</td>\n",
              "      <td>1.0</td>\n",
              "      <td>9.0</td>\n",
              "      <td>497.0</td>\n",
              "      <td>NaN</td>\n",
              "      <td>NaN</td>\n",
              "      <td>NaN</td>\n",
              "      <td>NaN</td>\n",
              "      <td>NaN</td>\n",
              "      <td>64.0</td>\n",
              "      <td>174.0</td>\n",
              "      <td>217.0</td>\n",
              "      <td>NaN</td>\n",
              "      <td>75.0</td>\n",
              "      <td>NaN</td>\n",
              "      <td>NaN</td>\n",
              "      <td>1.0</td>\n",
              "      <td>3.0</td>\n",
              "      <td>NaN</td>\n",
              "      <td>NaN</td>\n",
              "      <td>NaN</td>\n",
              "      <td>NaN</td>\n",
              "      <td>NaN</td>\n",
              "      <td>106.0</td>\n",
              "      <td>NaN</td>\n",
              "      <td>12.0</td>\n",
              "      <td>NaN</td>\n",
              "      <td>32.0</td>\n",
              "      <td>42.0</td>\n",
              "      <td>1.0</td>\n",
              "      <td>NaN</td>\n",
              "      <td>33.0</td>\n",
              "      <td>6.0</td>\n",
              "      <td>NaN</td>\n",
              "      <td>NaN</td>\n",
              "      <td>3.0</td>\n",
              "      <td>275.0</td>\n",
              "      <td>...</td>\n",
              "      <td>6.0</td>\n",
              "      <td>NaN</td>\n",
              "      <td>1.0</td>\n",
              "      <td>35.0</td>\n",
              "      <td>12.0</td>\n",
              "      <td>1.0</td>\n",
              "      <td>391.0</td>\n",
              "      <td>2.0</td>\n",
              "      <td>133.0</td>\n",
              "      <td>6.0</td>\n",
              "      <td>NaN</td>\n",
              "      <td>1.0</td>\n",
              "      <td>NaN</td>\n",
              "      <td>112.0</td>\n",
              "      <td>134.0</td>\n",
              "      <td>2.0</td>\n",
              "      <td>NaN</td>\n",
              "      <td>1.0</td>\n",
              "      <td>963.0</td>\n",
              "      <td>NaN</td>\n",
              "      <td>78.0</td>\n",
              "      <td>NaN</td>\n",
              "      <td>31.0</td>\n",
              "      <td>23.0</td>\n",
              "      <td>NaN</td>\n",
              "      <td>1.0</td>\n",
              "      <td>NaN</td>\n",
              "      <td>149.0</td>\n",
              "      <td>52.0</td>\n",
              "      <td>5.0</td>\n",
              "      <td>NaN</td>\n",
              "      <td>254.0</td>\n",
              "      <td>NaN</td>\n",
              "      <td>1.0</td>\n",
              "      <td>NaN</td>\n",
              "      <td>2.0</td>\n",
              "      <td>7.0</td>\n",
              "      <td>NaN</td>\n",
              "      <td>27.0</td>\n",
              "      <td>NaN</td>\n",
              "    </tr>\n",
              "    <tr>\n",
              "      <th>2018-01-01 03:00:00</th>\n",
              "      <td>1.0</td>\n",
              "      <td>1.0</td>\n",
              "      <td>187.0</td>\n",
              "      <td>NaN</td>\n",
              "      <td>NaN</td>\n",
              "      <td>9.0</td>\n",
              "      <td>390.0</td>\n",
              "      <td>NaN</td>\n",
              "      <td>NaN</td>\n",
              "      <td>NaN</td>\n",
              "      <td>NaN</td>\n",
              "      <td>NaN</td>\n",
              "      <td>40.0</td>\n",
              "      <td>134.0</td>\n",
              "      <td>332.0</td>\n",
              "      <td>NaN</td>\n",
              "      <td>56.0</td>\n",
              "      <td>NaN</td>\n",
              "      <td>NaN</td>\n",
              "      <td>5.0</td>\n",
              "      <td>4.0</td>\n",
              "      <td>1.0</td>\n",
              "      <td>NaN</td>\n",
              "      <td>NaN</td>\n",
              "      <td>2.0</td>\n",
              "      <td>NaN</td>\n",
              "      <td>87.0</td>\n",
              "      <td>3.0</td>\n",
              "      <td>13.0</td>\n",
              "      <td>NaN</td>\n",
              "      <td>69.0</td>\n",
              "      <td>19.0</td>\n",
              "      <td>1.0</td>\n",
              "      <td>NaN</td>\n",
              "      <td>26.0</td>\n",
              "      <td>1.0</td>\n",
              "      <td>NaN</td>\n",
              "      <td>NaN</td>\n",
              "      <td>4.0</td>\n",
              "      <td>214.0</td>\n",
              "      <td>...</td>\n",
              "      <td>1.0</td>\n",
              "      <td>NaN</td>\n",
              "      <td>NaN</td>\n",
              "      <td>18.0</td>\n",
              "      <td>1.0</td>\n",
              "      <td>NaN</td>\n",
              "      <td>411.0</td>\n",
              "      <td>5.0</td>\n",
              "      <td>106.0</td>\n",
              "      <td>1.0</td>\n",
              "      <td>1.0</td>\n",
              "      <td>NaN</td>\n",
              "      <td>NaN</td>\n",
              "      <td>79.0</td>\n",
              "      <td>65.0</td>\n",
              "      <td>2.0</td>\n",
              "      <td>1.0</td>\n",
              "      <td>2.0</td>\n",
              "      <td>973.0</td>\n",
              "      <td>NaN</td>\n",
              "      <td>72.0</td>\n",
              "      <td>NaN</td>\n",
              "      <td>16.0</td>\n",
              "      <td>15.0</td>\n",
              "      <td>NaN</td>\n",
              "      <td>1.0</td>\n",
              "      <td>NaN</td>\n",
              "      <td>73.0</td>\n",
              "      <td>39.0</td>\n",
              "      <td>1.0</td>\n",
              "      <td>NaN</td>\n",
              "      <td>274.0</td>\n",
              "      <td>NaN</td>\n",
              "      <td>1.0</td>\n",
              "      <td>NaN</td>\n",
              "      <td>1.0</td>\n",
              "      <td>5.0</td>\n",
              "      <td>NaN</td>\n",
              "      <td>20.0</td>\n",
              "      <td>1.0</td>\n",
              "    </tr>\n",
              "    <tr>\n",
              "      <th>2018-01-01 04:00:00</th>\n",
              "      <td>3.0</td>\n",
              "      <td>1.0</td>\n",
              "      <td>194.0</td>\n",
              "      <td>1.0</td>\n",
              "      <td>NaN</td>\n",
              "      <td>8.0</td>\n",
              "      <td>283.0</td>\n",
              "      <td>NaN</td>\n",
              "      <td>NaN</td>\n",
              "      <td>1.0</td>\n",
              "      <td>NaN</td>\n",
              "      <td>NaN</td>\n",
              "      <td>28.0</td>\n",
              "      <td>83.0</td>\n",
              "      <td>228.0</td>\n",
              "      <td>NaN</td>\n",
              "      <td>44.0</td>\n",
              "      <td>NaN</td>\n",
              "      <td>1.0</td>\n",
              "      <td>1.0</td>\n",
              "      <td>NaN</td>\n",
              "      <td>NaN</td>\n",
              "      <td>1.0</td>\n",
              "      <td>NaN</td>\n",
              "      <td>NaN</td>\n",
              "      <td>NaN</td>\n",
              "      <td>64.0</td>\n",
              "      <td>NaN</td>\n",
              "      <td>10.0</td>\n",
              "      <td>NaN</td>\n",
              "      <td>56.0</td>\n",
              "      <td>17.0</td>\n",
              "      <td>NaN</td>\n",
              "      <td>NaN</td>\n",
              "      <td>40.0</td>\n",
              "      <td>1.0</td>\n",
              "      <td>NaN</td>\n",
              "      <td>NaN</td>\n",
              "      <td>3.0</td>\n",
              "      <td>133.0</td>\n",
              "      <td>...</td>\n",
              "      <td>NaN</td>\n",
              "      <td>NaN</td>\n",
              "      <td>NaN</td>\n",
              "      <td>15.0</td>\n",
              "      <td>5.0</td>\n",
              "      <td>NaN</td>\n",
              "      <td>293.0</td>\n",
              "      <td>1.0</td>\n",
              "      <td>106.0</td>\n",
              "      <td>4.0</td>\n",
              "      <td>1.0</td>\n",
              "      <td>1.0</td>\n",
              "      <td>NaN</td>\n",
              "      <td>59.0</td>\n",
              "      <td>65.0</td>\n",
              "      <td>1.0</td>\n",
              "      <td>1.0</td>\n",
              "      <td>NaN</td>\n",
              "      <td>566.0</td>\n",
              "      <td>NaN</td>\n",
              "      <td>59.0</td>\n",
              "      <td>NaN</td>\n",
              "      <td>25.0</td>\n",
              "      <td>25.0</td>\n",
              "      <td>NaN</td>\n",
              "      <td>NaN</td>\n",
              "      <td>NaN</td>\n",
              "      <td>29.0</td>\n",
              "      <td>29.0</td>\n",
              "      <td>2.0</td>\n",
              "      <td>NaN</td>\n",
              "      <td>162.0</td>\n",
              "      <td>NaN</td>\n",
              "      <td>1.0</td>\n",
              "      <td>NaN</td>\n",
              "      <td>NaN</td>\n",
              "      <td>1.0</td>\n",
              "      <td>NaN</td>\n",
              "      <td>10.0</td>\n",
              "      <td>1.0</td>\n",
              "    </tr>\n",
              "  </tbody>\n",
              "</table>\n",
              "<p>5 rows × 258 columns</p>\n",
              "</div>"
            ],
            "text/plain": [
              "zone_id                1   10    100  101  102  ...   94   95  96    97   98\n",
              "time                                            ...                         \n",
              "2018-01-01 00:00:00  NaN  NaN  107.0  NaN  NaN  ...  1.0  1.0 NaN   5.0  NaN\n",
              "2018-01-01 01:00:00  NaN  1.0  169.0  NaN  NaN  ...  1.0  5.0 NaN  40.0  NaN\n",
              "2018-01-01 02:00:00  NaN  NaN  210.0  NaN  1.0  ...  2.0  7.0 NaN  27.0  NaN\n",
              "2018-01-01 03:00:00  1.0  1.0  187.0  NaN  NaN  ...  1.0  5.0 NaN  20.0  1.0\n",
              "2018-01-01 04:00:00  3.0  1.0  194.0  1.0  NaN  ...  NaN  1.0 NaN  10.0  1.0\n",
              "\n",
              "[5 rows x 258 columns]"
            ]
          },
          "metadata": {
            "tags": []
          },
          "execution_count": 115
        }
      ]
    },
    {
      "cell_type": "code",
      "metadata": {
        "id": "0YRmF8KSRZ7_",
        "colab_type": "code",
        "colab": {}
      },
      "source": [
        "#__________Unstacking the Pivot Table___________\n",
        "\n",
        "b=df1.pivot_table(\"label\", \"time\", \"zone_id\").unstack().reset_index()"
      ],
      "execution_count": 0,
      "outputs": []
    },
    {
      "cell_type": "code",
      "metadata": {
        "id": "8mRN7pE1Rf4H",
        "colab_type": "code",
        "outputId": "1776d4ab-5699-4ed6-9283-1ed76f9031d8",
        "colab": {
          "base_uri": "https://localhost:8080/",
          "height": 195
        }
      },
      "source": [
        "b.head()"
      ],
      "execution_count": 0,
      "outputs": [
        {
          "output_type": "execute_result",
          "data": {
            "text/html": [
              "<div>\n",
              "<style scoped>\n",
              "    .dataframe tbody tr th:only-of-type {\n",
              "        vertical-align: middle;\n",
              "    }\n",
              "\n",
              "    .dataframe tbody tr th {\n",
              "        vertical-align: top;\n",
              "    }\n",
              "\n",
              "    .dataframe thead th {\n",
              "        text-align: right;\n",
              "    }\n",
              "</style>\n",
              "<table border=\"1\" class=\"dataframe\">\n",
              "  <thead>\n",
              "    <tr style=\"text-align: right;\">\n",
              "      <th></th>\n",
              "      <th>zone_id</th>\n",
              "      <th>time</th>\n",
              "      <th>0</th>\n",
              "    </tr>\n",
              "  </thead>\n",
              "  <tbody>\n",
              "    <tr>\n",
              "      <th>0</th>\n",
              "      <td>1</td>\n",
              "      <td>2018-01-01 00:00:00</td>\n",
              "      <td>NaN</td>\n",
              "    </tr>\n",
              "    <tr>\n",
              "      <th>1</th>\n",
              "      <td>1</td>\n",
              "      <td>2018-01-01 01:00:00</td>\n",
              "      <td>NaN</td>\n",
              "    </tr>\n",
              "    <tr>\n",
              "      <th>2</th>\n",
              "      <td>1</td>\n",
              "      <td>2018-01-01 02:00:00</td>\n",
              "      <td>NaN</td>\n",
              "    </tr>\n",
              "    <tr>\n",
              "      <th>3</th>\n",
              "      <td>1</td>\n",
              "      <td>2018-01-01 03:00:00</td>\n",
              "      <td>1.0</td>\n",
              "    </tr>\n",
              "    <tr>\n",
              "      <th>4</th>\n",
              "      <td>1</td>\n",
              "      <td>2018-01-01 04:00:00</td>\n",
              "      <td>3.0</td>\n",
              "    </tr>\n",
              "  </tbody>\n",
              "</table>\n",
              "</div>"
            ],
            "text/plain": [
              "  zone_id                time    0\n",
              "0       1 2018-01-01 00:00:00  NaN\n",
              "1       1 2018-01-01 01:00:00  NaN\n",
              "2       1 2018-01-01 02:00:00  NaN\n",
              "3       1 2018-01-01 03:00:00  1.0\n",
              "4       1 2018-01-01 04:00:00  3.0"
            ]
          },
          "metadata": {
            "tags": []
          },
          "execution_count": 117
        }
      ]
    },
    {
      "cell_type": "markdown",
      "metadata": {
        "id": "6fHB7twHSgHX",
        "colab_type": "text"
      },
      "source": [
        "<p> <b>Filling the NaN with zero pickups </b></p>"
      ]
    },
    {
      "cell_type": "code",
      "metadata": {
        "id": "dFtE_bGlRewH",
        "colab_type": "code",
        "colab": {}
      },
      "source": [
        "b.rename( columns={0:'pickups'}, inplace=True )\n",
        "b1=b.fillna(0)"
      ],
      "execution_count": 0,
      "outputs": []
    },
    {
      "cell_type": "code",
      "metadata": {
        "id": "_GKceDtdkUZz",
        "colab_type": "code",
        "outputId": "03fa4c6d-e8e2-450d-ed91-ecee98ab65c1",
        "colab": {
          "base_uri": "https://localhost:8080/",
          "height": 195
        }
      },
      "source": [
        "b1.head()"
      ],
      "execution_count": 0,
      "outputs": [
        {
          "output_type": "execute_result",
          "data": {
            "text/html": [
              "<div>\n",
              "<style scoped>\n",
              "    .dataframe tbody tr th:only-of-type {\n",
              "        vertical-align: middle;\n",
              "    }\n",
              "\n",
              "    .dataframe tbody tr th {\n",
              "        vertical-align: top;\n",
              "    }\n",
              "\n",
              "    .dataframe thead th {\n",
              "        text-align: right;\n",
              "    }\n",
              "</style>\n",
              "<table border=\"1\" class=\"dataframe\">\n",
              "  <thead>\n",
              "    <tr style=\"text-align: right;\">\n",
              "      <th></th>\n",
              "      <th>zone_id</th>\n",
              "      <th>time</th>\n",
              "      <th>pickups</th>\n",
              "    </tr>\n",
              "  </thead>\n",
              "  <tbody>\n",
              "    <tr>\n",
              "      <th>0</th>\n",
              "      <td>1</td>\n",
              "      <td>2018-01-01 00:00:00</td>\n",
              "      <td>0.0</td>\n",
              "    </tr>\n",
              "    <tr>\n",
              "      <th>1</th>\n",
              "      <td>1</td>\n",
              "      <td>2018-01-01 01:00:00</td>\n",
              "      <td>0.0</td>\n",
              "    </tr>\n",
              "    <tr>\n",
              "      <th>2</th>\n",
              "      <td>1</td>\n",
              "      <td>2018-01-01 02:00:00</td>\n",
              "      <td>0.0</td>\n",
              "    </tr>\n",
              "    <tr>\n",
              "      <th>3</th>\n",
              "      <td>1</td>\n",
              "      <td>2018-01-01 03:00:00</td>\n",
              "      <td>1.0</td>\n",
              "    </tr>\n",
              "    <tr>\n",
              "      <th>4</th>\n",
              "      <td>1</td>\n",
              "      <td>2018-01-01 04:00:00</td>\n",
              "      <td>3.0</td>\n",
              "    </tr>\n",
              "  </tbody>\n",
              "</table>\n",
              "</div>"
            ],
            "text/plain": [
              "  zone_id                time  pickups\n",
              "0       1 2018-01-01 00:00:00      0.0\n",
              "1       1 2018-01-01 01:00:00      0.0\n",
              "2       1 2018-01-01 02:00:00      0.0\n",
              "3       1 2018-01-01 03:00:00      1.0\n",
              "4       1 2018-01-01 04:00:00      3.0"
            ]
          },
          "metadata": {
            "tags": []
          },
          "execution_count": 119
        }
      ]
    },
    {
      "cell_type": "markdown",
      "metadata": {
        "id": "gFtEyIwWSnUE",
        "colab_type": "text"
      },
      "source": [
        "<p><b> Storing the 2018 first half prepared data on Google cloud. </b></p>"
      ]
    },
    {
      "cell_type": "code",
      "metadata": {
        "id": "Co2RareF67Mq",
        "colab_type": "code",
        "outputId": "4a13c329-3f09-41c4-8c17-3e459907e2b4",
        "colab": {
          "base_uri": "https://localhost:8080/",
          "height": 87
        }
      },
      "source": [
        "from datalab.context import Context\n",
        "#Dont run this\n",
        "\n",
        "b1.to_gbq('hello.2018DataFirsthalf', \n",
        "                 Context.default().project_id,\n",
        "                 chunksize=500000, \n",
        "                 if_exists='append',\n",
        "                 verbose=False\n",
        "                 )"
      ],
      "execution_count": 0,
      "outputs": [
        {
          "output_type": "stream",
          "text": [
            "/usr/local/lib/python3.6/dist-packages/pandas_gbq/gbq.py:1127: FutureWarning: verbose is deprecated and will be removed in a future version. Set logging level in order to vary verbosity\n",
            "  stacklevel=1,\n",
            "3it [00:56, 15.09s/it]\n"
          ],
          "name": "stderr"
        }
      ]
    },
    {
      "cell_type": "markdown",
      "metadata": {
        "id": "XwhwCAt7S4pT",
        "colab_type": "text"
      },
      "source": [
        "<p><b> Similarly preparing the data set for 2nd Half of 2018 </p>"
      ]
    },
    {
      "cell_type": "code",
      "metadata": {
        "id": "tEG4ITIroG98",
        "colab_type": "code",
        "colab": {}
      },
      "source": [
        "query = \"\"\"\n",
        "with td as(\n",
        "WITH AB AS\n",
        "(\n",
        "SELECT  CAST(tpep_pickup_datetime AS DATETIME) AS PICKUP,* FROM `nyc-taxi-265120.NYC.2018SecondHalf` where total_amount>0 and  tpep_pickup_datetime < tpep_dropoff_datetime AND  TIMESTAMP_DIFF(tpep_dropoff_datetime,tpep_pickup_datetime,HOUR)>12 \n",
        ")  \n",
        "SELECT  PICKUP,CAST(EXTRACT (YEAR from PICKUP) AS STRING) AS year,EXTRACT (DAYOFYEAR from PICKUP) AS daynumber,EXTRACT (HOUR from PICKUP) AS hour, cast(PULocationID as STRING) as LOCATION,COUNT(*) AS numtrips FROM AB group by PICKUP,year,daynumber,hour,LOCATION),points AS\n",
        "(SELECT *,ST_CENTROID(zone_geom) as p FROM `bigquery-public-data.new_york_taxi_trips.taxi_zone_geom`)\n",
        "SELECT \n",
        "cast(DATE(td.PICKUP) as STRING) AS A1,\n",
        "points.zone_id,\n",
        "CAST(TIME(DATETIME_TRUNC(td.PICKUP, HOUR)) as string) rounded_to_hour,\n",
        "SUM(td.numtrips) as label,\n",
        "FROM  td INNER JOIN points ON points.zone_id=td.LOCATION AND\n",
        "eXTRACT (YEAR from PICKUP) =2018 \n",
        "group by zone_id,A1,rounded_to_hour\n",
        "\"\"\"\n",
        "df1 = client.query(query).to_dataframe()"
      ],
      "execution_count": 0,
      "outputs": []
    },
    {
      "cell_type": "code",
      "metadata": {
        "id": "r-iVY1ALoKEL",
        "colab_type": "code",
        "colab": {}
      },
      "source": [
        "import pandas as pd\n",
        "df1[\"time\"]=pd.to_datetime(df1['A1'] + ' ' + df1['rounded_to_hour'])\n",
        "a=df1.pivot_table(\"label\", \"time\", \"zone_id\")\n",
        "b=df1.pivot_table(\"label\", \"time\", \"zone_id\").unstack().reset_index()\n",
        "b.rename( columns={0:'pickups'}, inplace=True )\n",
        "b1=b.fillna(0)"
      ],
      "execution_count": 0,
      "outputs": []
    },
    {
      "cell_type": "code",
      "metadata": {
        "id": "N7enJbtToinm",
        "colab_type": "code",
        "outputId": "fe3d3af1-efc9-41c5-e472-e44abd5dc8c3",
        "colab": {
          "base_uri": "https://localhost:8080/",
          "height": 87
        }
      },
      "source": [
        "from datalab.context import Context\n",
        "#Dont run this\n",
        "\n",
        "b1.to_gbq('hello.2018DataSecondhalf', \n",
        "                 Context.default().project_id,\n",
        "                 chunksize=500000, \n",
        "                 if_exists='append',\n",
        "                 verbose=False\n",
        "                 )"
      ],
      "execution_count": 0,
      "outputs": [
        {
          "output_type": "stream",
          "text": [
            "/usr/local/lib/python3.6/dist-packages/pandas_gbq/gbq.py:1127: FutureWarning: verbose is deprecated and will be removed in a future version. Set logging level in order to vary verbosity\n",
            "  stacklevel=1,\n",
            "3it [00:43, 11.34s/it]\n"
          ],
          "name": "stderr"
        }
      ]
    },
    {
      "cell_type": "markdown",
      "metadata": {
        "id": "292fyVpS5_dg",
        "colab_type": "text"
      },
      "source": [
        "<b><u> 2019 Data Wrangling</u></b>"
      ]
    },
    {
      "cell_type": "markdown",
      "metadata": {
        "id": "vnjeVVukTCbh",
        "colab_type": "text"
      },
      "source": [
        "<b> Same Data preparation steps applied as for 2018 Data set </b>"
      ]
    },
    {
      "cell_type": "code",
      "metadata": {
        "id": "No3BwM0aoswS",
        "colab_type": "code",
        "colab": {}
      },
      "source": [
        "query = \"\"\"\n",
        "with td as(\n",
        "WITH AB AS\n",
        "(\n",
        "SELECT  CAST(tpep_pickup_datetime AS DATETIME) AS PICKUP,* FROM `nyc-taxi-265120.NYC.2019firsthalf` where total_amount>0 and  tpep_pickup_datetime < tpep_dropoff_datetime AND  TIMESTAMP_DIFF(tpep_dropoff_datetime,tpep_pickup_datetime,HOUR)>12 \n",
        ")  \n",
        "SELECT  PICKUP,CAST(EXTRACT (YEAR from PICKUP) AS STRING) AS year,EXTRACT (DAYOFYEAR from PICKUP) AS daynumber,EXTRACT (HOUR from PICKUP) AS hour, cast(PULocationID as STRING) as LOCATION,COUNT(*) AS numtrips FROM AB group by PICKUP,year,daynumber,hour,LOCATION),points AS\n",
        "(SELECT *,ST_CENTROID(zone_geom) as p FROM `bigquery-public-data.new_york_taxi_trips.taxi_zone_geom`)\n",
        "SELECT \n",
        "cast(DATE(td.PICKUP) as STRING) AS A1,\n",
        "points.zone_id,\n",
        "CAST(TIME(DATETIME_TRUNC(td.PICKUP, HOUR)) as string) rounded_to_hour,\n",
        "SUM(td.numtrips) as label,\n",
        "FROM  td INNER JOIN points ON points.zone_id=td.LOCATION AND\n",
        "eXTRACT (YEAR from PICKUP) =2019 \n",
        "group by zone_id,A1,rounded_to_hour\n",
        "\"\"\"\n",
        "df1 = client.query(query).to_dataframe()"
      ],
      "execution_count": 0,
      "outputs": []
    },
    {
      "cell_type": "code",
      "metadata": {
        "id": "w34FiKTMovfd",
        "colab_type": "code",
        "colab": {}
      },
      "source": [
        "import pandas as pd\n",
        "df1[\"time\"]=pd.to_datetime(df1['A1'] + ' ' + df1['rounded_to_hour'])\n",
        "a=df1.pivot_table(\"label\", \"time\", \"zone_id\")\n",
        "b=df1.pivot_table(\"label\", \"time\", \"zone_id\").unstack().reset_index()\n",
        "b.rename( columns={0:'pickups'}, inplace=True )\n",
        "b1=b.fillna(0)"
      ],
      "execution_count": 0,
      "outputs": []
    },
    {
      "cell_type": "code",
      "metadata": {
        "id": "mWABVhkvo-_N",
        "colab_type": "code",
        "outputId": "f1a14a34-dc5e-4076-b1be-0fd728abcde1",
        "colab": {
          "base_uri": "https://localhost:8080/",
          "height": 87
        }
      },
      "source": [
        "from datalab.context import Context\n",
        "#Dont run this\n",
        "\n",
        "b1.to_gbq('hello.2019DataFirsthalf', \n",
        "                 Context.default().project_id,\n",
        "                 chunksize=500000, \n",
        "                 if_exists='append',\n",
        "                 verbose=False\n",
        "                 )"
      ],
      "execution_count": 0,
      "outputs": [
        {
          "output_type": "stream",
          "text": [
            "/usr/local/lib/python3.6/dist-packages/pandas_gbq/gbq.py:1127: FutureWarning: verbose is deprecated and will be removed in a future version. Set logging level in order to vary verbosity\n",
            "  stacklevel=1,\n",
            "3it [00:28,  8.09s/it]\n"
          ],
          "name": "stderr"
        }
      ]
    },
    {
      "cell_type": "code",
      "metadata": {
        "id": "K3DVowv87HhV",
        "colab_type": "code",
        "colab": {}
      },
      "source": [
        "query = \"\"\"\n",
        "with td as(\n",
        "WITH AB AS\n",
        "(\n",
        "SELECT  CAST(tpep_pickup_datetime AS DATETIME) AS PICKUP,* FROM `nyc-taxi-265120.NYC.2019secondhalf` where total_amount>0 and  tpep_pickup_datetime < tpep_dropoff_datetime AND  TIMESTAMP_DIFF(tpep_dropoff_datetime,tpep_pickup_datetime,HOUR)>12 \n",
        ")  \n",
        "SELECT  PICKUP,CAST(EXTRACT (YEAR from PICKUP) AS STRING) AS year,EXTRACT (DAYOFYEAR from PICKUP) AS daynumber,EXTRACT (HOUR from PICKUP) AS hour, cast(PULocationID as STRING) as LOCATION,COUNT(*) AS numtrips FROM AB group by PICKUP,year,daynumber,hour,LOCATION),points AS\n",
        "(SELECT *,ST_CENTROID(zone_geom) as p FROM `bigquery-public-data.new_york_taxi_trips.taxi_zone_geom`)\n",
        "SELECT \n",
        "cast(DATE(td.PICKUP) as STRING) AS A1,\n",
        "points.zone_id,\n",
        "CAST(TIME(DATETIME_TRUNC(td.PICKUP, HOUR)) as string) rounded_to_hour,\n",
        "SUM(td.numtrips) as label,\n",
        "FROM  td INNER JOIN points ON points.zone_id=td.LOCATION AND\n",
        "eXTRACT (YEAR from PICKUP) =2019 \n",
        "group by zone_id,A1,rounded_to_hour\n",
        "\"\"\"\n",
        "df1 = client.query(query).to_dataframe()"
      ],
      "execution_count": 0,
      "outputs": []
    },
    {
      "cell_type": "code",
      "metadata": {
        "id": "GeD71r3Nm1Xx",
        "colab_type": "code",
        "outputId": "a4227e6d-8220-422b-9a95-bfb9ba861fd6",
        "colab": {
          "base_uri": "https://localhost:8080/",
          "height": 195
        }
      },
      "source": [
        "df1.head()"
      ],
      "execution_count": 0,
      "outputs": [
        {
          "output_type": "execute_result",
          "data": {
            "text/html": [
              "<div>\n",
              "<style scoped>\n",
              "    .dataframe tbody tr th:only-of-type {\n",
              "        vertical-align: middle;\n",
              "    }\n",
              "\n",
              "    .dataframe tbody tr th {\n",
              "        vertical-align: top;\n",
              "    }\n",
              "\n",
              "    .dataframe thead th {\n",
              "        text-align: right;\n",
              "    }\n",
              "</style>\n",
              "<table border=\"1\" class=\"dataframe\">\n",
              "  <thead>\n",
              "    <tr style=\"text-align: right;\">\n",
              "      <th></th>\n",
              "      <th>A1</th>\n",
              "      <th>zone_id</th>\n",
              "      <th>rounded_to_hour</th>\n",
              "      <th>label</th>\n",
              "    </tr>\n",
              "  </thead>\n",
              "  <tbody>\n",
              "    <tr>\n",
              "      <th>0</th>\n",
              "      <td>2019-07-16</td>\n",
              "      <td>233</td>\n",
              "      <td>00:00:00</td>\n",
              "      <td>34</td>\n",
              "    </tr>\n",
              "    <tr>\n",
              "      <th>1</th>\n",
              "      <td>2019-10-31</td>\n",
              "      <td>87</td>\n",
              "      <td>00:00:00</td>\n",
              "      <td>64</td>\n",
              "    </tr>\n",
              "    <tr>\n",
              "      <th>2</th>\n",
              "      <td>2019-07-16</td>\n",
              "      <td>141</td>\n",
              "      <td>00:00:00</td>\n",
              "      <td>48</td>\n",
              "    </tr>\n",
              "    <tr>\n",
              "      <th>3</th>\n",
              "      <td>2019-07-17</td>\n",
              "      <td>90</td>\n",
              "      <td>00:00:00</td>\n",
              "      <td>94</td>\n",
              "    </tr>\n",
              "    <tr>\n",
              "      <th>4</th>\n",
              "      <td>2019-07-17</td>\n",
              "      <td>232</td>\n",
              "      <td>00:00:00</td>\n",
              "      <td>14</td>\n",
              "    </tr>\n",
              "  </tbody>\n",
              "</table>\n",
              "</div>"
            ],
            "text/plain": [
              "           A1 zone_id rounded_to_hour  label\n",
              "0  2019-07-16     233        00:00:00     34\n",
              "1  2019-10-31      87        00:00:00     64\n",
              "2  2019-07-16     141        00:00:00     48\n",
              "3  2019-07-17      90        00:00:00     94\n",
              "4  2019-07-17     232        00:00:00     14"
            ]
          },
          "metadata": {
            "tags": []
          },
          "execution_count": 26
        }
      ]
    },
    {
      "cell_type": "code",
      "metadata": {
        "id": "PQVMS3MC7IOB",
        "colab_type": "code",
        "colab": {}
      },
      "source": [
        "import pandas as pd\n",
        "df1[\"time\"]=pd.to_datetime(df1['A1'] + ' ' + df1['rounded_to_hour'])\n",
        "a=df1.pivot_table(\"label\", \"time\", \"zone_id\")\n",
        "b=df1.pivot_table(\"label\", \"time\", \"zone_id\").unstack().reset_index()\n",
        "b.rename( columns={0:'pickups'}, inplace=True )\n",
        "b1=b.fillna(0)"
      ],
      "execution_count": 0,
      "outputs": []
    },
    {
      "cell_type": "code",
      "metadata": {
        "id": "p_PAruy_nz-p",
        "colab_type": "code",
        "outputId": "5a21b087-5fb1-4107-b255-a58bdeb6e434",
        "colab": {
          "base_uri": "https://localhost:8080/",
          "height": 87
        }
      },
      "source": [
        "from datalab.context import Context\n",
        "#Dont run this\n",
        "\n",
        "b1.to_gbq('hello.2019DataSecondhalf', \n",
        "                 Context.default().project_id,\n",
        "                 chunksize=500000, \n",
        "                 if_exists='append',\n",
        "                 verbose=False\n",
        "                 )"
      ],
      "execution_count": 0,
      "outputs": [
        {
          "output_type": "stream",
          "text": [
            "/usr/local/lib/python3.6/dist-packages/pandas_gbq/gbq.py:1127: FutureWarning: verbose is deprecated and will be removed in a future version. Set logging level in order to vary verbosity\n",
            "  stacklevel=1,\n",
            "3it [00:37, 10.32s/it]\n"
          ],
          "name": "stderr"
        }
      ]
    },
    {
      "cell_type": "code",
      "metadata": {
        "id": "ZerHedX97IuE",
        "colab_type": "code",
        "colab": {}
      },
      "source": [
        ""
      ],
      "execution_count": 0,
      "outputs": []
    },
    {
      "cell_type": "markdown",
      "metadata": {
        "id": "a3XRcixH7KAW",
        "colab_type": "text"
      },
      "source": [
        "<b> <u> Taxi Zone Data Visulizations </u></b>"
      ]
    },
    {
      "cell_type": "code",
      "metadata": {
        "id": "7VYvQ4Eb7Tum",
        "colab_type": "code",
        "colab": {}
      },
      "source": [
        "query = \"\"\"\n",
        "WITH ZONE AS (\n",
        "SELECT *,ST_CENTROID(zone_geom) as p FROM `bigquery-public-data.new_york_taxi_trips.taxi_zone_geom`\n",
        ")\n",
        "SELECT * ,ST_X(p) as longitude,\n",
        "  ST_Y(p) as latitude FROM ZONE\n",
        "\n",
        "\"\"\"\n",
        "df = client.query(query).to_dataframe()"
      ],
      "execution_count": 0,
      "outputs": []
    },
    {
      "cell_type": "code",
      "metadata": {
        "id": "74H3gLmJ7U85",
        "colab_type": "code",
        "colab": {}
      },
      "source": [
        "import dask.dataframe as dd\n",
        "import pandas as pd\n",
        "import matplotlib.pyplot as plt\n",
        "import numpy as np\n",
        "import folium\n",
        "from datetime import datetime\n",
        "import time\n",
        "import seaborn as sns\n",
        "import os\n",
        "import math\n",
        "import warnings"
      ],
      "execution_count": 0,
      "outputs": []
    },
    {
      "cell_type": "markdown",
      "metadata": {
        "id": "uBDRll5tTPWR",
        "colab_type": "text"
      },
      "source": [
        "<b> Figuring that all Latitute and Longitute for Taxi zone are in NYC city </b>"
      ]
    },
    {
      "cell_type": "code",
      "metadata": {
        "id": "buqOZ1c47beu",
        "colab_type": "code",
        "outputId": "33e805eb-835e-4f33-cba0-c1455a4a7c32",
        "colab": {
          "base_uri": "https://localhost:8080/",
          "height": 866
        }
      },
      "source": [
        "#detecting the pickups latitude and longitudes which are outside NYC.\n",
        "outside_NYC = df[(df.latitude != 0) | (df.longitude != 0) ]\n",
        "m = folium.Map(location = [40.5774, -73.7004], tiles = \"Stamen Toner\")\n",
        "outside_pickups = outside_NYC.head(25000)\n",
        "for i,j in outside_pickups.iterrows():\n",
        "    if j[\"latitude\"] != 0:\n",
        "        folium.Marker(location=[j[\"latitude\"], j[\"longitude\"]],popup=j[\"zone_name\"]).add_to(m)\n",
        "m"
      ],
      "execution_count": 0,
      "outputs": [
        {
          "output_type": "execute_result",
          "data": {
            "text/html": [
              "<div style=\"width:100%;\"><div style=\"position:relative;width:100%;height:0;padding-bottom:60%;\"><iframe src=\"about:blank\" style=\"position:absolute;width:100%;height:100%;left:0;top:0;border:none !important;\" data-html=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 onload=\"this.contentDocument.open();this.contentDocument.write(atob(this.getAttribute('data-html')));this.contentDocument.close();\" allowfullscreen webkitallowfullscreen mozallowfullscreen></iframe></div></div>"
            ],
            "text/plain": [
              "<folium.folium.Map at 0x7f08bf985978>"
            ]
          },
          "metadata": {
            "tags": []
          },
          "execution_count": 126
        }
      ]
    },
    {
      "cell_type": "code",
      "metadata": {
        "id": "i4GAZDtbuZZE",
        "colab_type": "code",
        "colab": {}
      },
      "source": [
        "import os\n",
        "os.environ[\"GOOGLE_APPLICATION_CREDENTIALS\"]=\"/content/drive/My Drive/Data Science/nyc-taxi-265120-baf9a3e4cf9b.json\"\n",
        "%reload_ext google.cloud.bigquery"
      ],
      "execution_count": 0,
      "outputs": []
    },
    {
      "cell_type": "code",
      "metadata": {
        "id": "EMpreS3nuks_",
        "colab_type": "code",
        "colab": {}
      },
      "source": [
        "project_id = 'nyc-taxi-265120' \n",
        "from google.cloud import bigquery\n",
        "client = bigquery.Client(project = project_id)"
      ],
      "execution_count": 0,
      "outputs": []
    },
    {
      "cell_type": "markdown",
      "metadata": {
        "id": "bp4x0XkwT7lv",
        "colab_type": "text"
      },
      "source": [
        "<b> Combining all the Prepared Data (2019 and 2018 First and second half Both)"
      ]
    },
    {
      "cell_type": "code",
      "metadata": {
        "id": "4sjIJ2HivU3-",
        "colab_type": "code",
        "colab": {}
      },
      "source": [
        "##_________Getting First Half 2019 Data _________________##\n",
        "\n",
        "query = \"\"\"\n",
        "SELECT  * FROM `hello.2019DataFirsthalf`\n",
        "\"\"\"\n",
        "first_2019 = client.query(query).to_dataframe()"
      ],
      "execution_count": 0,
      "outputs": []
    },
    {
      "cell_type": "code",
      "metadata": {
        "id": "TJR7-g6Aupt9",
        "colab_type": "code",
        "colab": {}
      },
      "source": [
        "##_________Getting Second Half 2019 Data _________________##\n",
        "\n",
        "query = \"\"\"\n",
        "SELECT  * FROM `hello.2019DataSecondhalf`\n",
        "\"\"\"\n",
        "second_2019 = client.query(query).to_dataframe()"
      ],
      "execution_count": 0,
      "outputs": []
    },
    {
      "cell_type": "code",
      "metadata": {
        "id": "Io5xJkTzvlBV",
        "colab_type": "code",
        "colab": {}
      },
      "source": [
        "##_________Getting Second Half 2018 Data _________________##\n",
        "\n",
        "query = \"\"\"\n",
        "SELECT  * FROM `hello.2018DataSecondhalf`\n",
        "\"\"\"\n",
        "second_2018 = client.query(query).to_dataframe()"
      ],
      "execution_count": 0,
      "outputs": []
    },
    {
      "cell_type": "code",
      "metadata": {
        "id": "KhQP3D3GvlwU",
        "colab_type": "code",
        "colab": {}
      },
      "source": [
        "##_________Getting First Half 2018 Data _________________##\n",
        "\n",
        "query = \"\"\"\n",
        "SELECT  * FROM `hello.2018DataFirsthalf`\n",
        "\"\"\"\n",
        "first_2018 = client.query(query).to_dataframe()"
      ],
      "execution_count": 0,
      "outputs": []
    },
    {
      "cell_type": "code",
      "metadata": {
        "id": "PUiX7H2uu9P1",
        "colab_type": "code",
        "colab": {}
      },
      "source": [
        "##_________Concating all Data Together _________________##\n",
        "\n",
        "import pandas as pd\n",
        "concat=pd.concat([first_2018,second_2018,second_2019,first_2019],ignore_index=True)"
      ],
      "execution_count": 0,
      "outputs": []
    },
    {
      "cell_type": "code",
      "metadata": {
        "id": "PIPBEr6xR7KB",
        "colab_type": "code",
        "colab": {}
      },
      "source": [
        "!pip install datalab"
      ],
      "execution_count": 0,
      "outputs": []
    },
    {
      "cell_type": "code",
      "metadata": {
        "id": "f9e67FlXRXEy",
        "colab_type": "code",
        "outputId": "9d0be651-2b4a-41e4-98b2-855ed06d6a89",
        "colab": {
          "base_uri": "https://localhost:8080/",
          "height": 72
        }
      },
      "source": [
        "## _______________STORING PREPARED DATA TO GOOGLE CLOUD_____________________##\n",
        "\n",
        "from datalab.context import Context\n",
        "concat.to_gbq('hello.CombinedData', \n",
        "                 Context.default().project_id,\n",
        "                 chunksize=500000, \n",
        "                 if_exists='append',\n",
        "                 verbose=False\n",
        "                 )"
      ],
      "execution_count": 0,
      "outputs": [
        {
          "output_type": "stream",
          "text": [
            "/usr/local/lib/python3.6/dist-packages/pandas_gbq/gbq.py:1127: FutureWarning: verbose is deprecated and will be removed in a future version. Set logging level in order to vary verbosity\n",
            "  stacklevel=1,\n",
            "10it [02:25, 14.71s/it]\n"
          ],
          "name": "stderr"
        }
      ]
    },
    {
      "cell_type": "markdown",
      "metadata": {
        "id": "QNSctB6nzQw2",
        "colab_type": "text"
      },
      "source": [
        "<p align=\"justify\"> Finally Data is prepared in a format that can be modelled and explored easily. Also the outliers from Data has been removed.In this phase, you require analytical sandbox in which you can perform analytics for the entire duration of the project. You need to explore, preprocess and condition data prior to modeling. Further, you will perform ETLT (extract, transform, load and transform) to get data into the sandbox. Let’s have a look at the Statistical Analysis flow below.I used Big query and Python for data preparation. Big Query helped to detect the outlier in large data set and hence I was able to spot the outliers and also establish a relationship between the variables.  </p>\n"
      ]
    },
    {
      "cell_type": "markdown",
      "metadata": {
        "id": "4IooGgA8uA0v",
        "colab_type": "text"
      },
      "source": [
        "<iframe width=\"600\" height=\"450\" src=\"https://datastudio.google.com/embed/reporting/41194526-9091-407c-8409-030039ccaf87/page/AquJB\" frameborder=\"0\" style=\"border:0\" allowfullscreen></iframe>"
      ]
    },
    {
      "cell_type": "code",
      "metadata": {
        "id": "7hVxOj_PXemH",
        "colab_type": "code",
        "colab": {}
      },
      "source": [
        ""
      ],
      "execution_count": 0,
      "outputs": []
    }
  ]
}