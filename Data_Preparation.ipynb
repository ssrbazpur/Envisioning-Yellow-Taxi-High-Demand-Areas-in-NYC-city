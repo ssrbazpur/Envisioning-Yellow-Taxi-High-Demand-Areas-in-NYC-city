{
  "nbformat": 4,
  "nbformat_minor": 0,
  "metadata": {
    "colab": {
      "name": "Data Preparation.ipynb",
      "provenance": [],
      "collapsed_sections": [],
      "machine_shape": "hm",
      "mount_file_id": "1bC78kx2SrWmK02tkiMeVWc06DphBmK6_",
      "authorship_tag": "ABX9TyM3VQkpsh1uMFR/Fh3dKHeJ",
      "include_colab_link": true
    },
    "kernelspec": {
      "name": "python3",
      "display_name": "Python 3"
    }
  },
  "cells": [
    {
      "cell_type": "markdown",
      "metadata": {
        "id": "view-in-github",
        "colab_type": "text"
      },
      "source": [
        "<a href=\"https://colab.research.google.com/github/ssrbazpur/Envisioning-Yellow-Taxi-High-Demand-Areas-in-NYC-city/blob/master/Data_Preparation.ipynb\" target=\"_parent\"><img src=\"https://colab.research.google.com/assets/colab-badge.svg\" alt=\"Open In Colab\"/></a>"
      ]
    },
    {
      "cell_type": "markdown",
      "metadata": {
        "id": "BoAq9MXRLm3p",
        "colab_type": "text"
      },
      "source": [
        "<h3><center><b><U>Data Preparation</U></b></center> </h3>\n",
        "<h4><center><b>Prepared By: Simranjeet Randhawa</b></center> </h4>\n",
        "<h4><center><b>Student ID: 200412297</b></center> </h4>\n",
        "\n",
        "\n"
      ]
    },
    {
      "cell_type": "code",
      "metadata": {
        "id": "KuuZMpFbqFvX",
        "colab_type": "code",
        "outputId": "a110a400-2a16-4a5b-b0a3-9bbdff1f4bfa",
        "colab": {
          "base_uri": "https://localhost:8080/",
          "height": 34
        }
      },
      "source": [
        "from google.colab import drive\n",
        "drive.mount('/content/drive')"
      ],
      "execution_count": 1,
      "outputs": [
        {
          "output_type": "stream",
          "text": [
            "Drive already mounted at /content/drive; to attempt to forcibly remount, call drive.mount(\"/content/drive\", force_remount=True).\n"
          ],
          "name": "stdout"
        }
      ]
    },
    {
      "cell_type": "code",
      "metadata": {
        "id": "8Ib6uFs32Y3T",
        "colab_type": "code",
        "colab": {}
      },
      "source": [
        "!pip install datalab"
      ],
      "execution_count": 0,
      "outputs": []
    },
    {
      "cell_type": "code",
      "metadata": {
        "colab_type": "code",
        "id": "yKfmvjBk2ULm",
        "colab": {}
      },
      "source": [
        "from datalab.context import Context"
      ],
      "execution_count": 0,
      "outputs": []
    },
    {
      "cell_type": "code",
      "metadata": {
        "id": "fLHZ6uf5qGg3",
        "colab_type": "code",
        "colab": {}
      },
      "source": [
        "\n",
        "import os\n",
        "os.environ[\"GOOGLE_APPLICATION_CREDENTIALS\"]=\"/content/drive/My Drive/Data Science/nyc-taxi-265120-baf9a3e4cf9b.json\"\n",
        "%reload_ext google.cloud.bigquery"
      ],
      "execution_count": 0,
      "outputs": []
    },
    {
      "cell_type": "code",
      "metadata": {
        "id": "AIFsgxSJcUcx",
        "colab_type": "code",
        "colab": {}
      },
      "source": [
        "project_id = 'nyc-taxi-265120' \n",
        "from google.cloud import bigquery\n",
        "client = bigquery.Client(project = project_id)"
      ],
      "execution_count": 0,
      "outputs": []
    },
    {
      "cell_type": "code",
      "metadata": {
        "id": "pvGNlcxdcYOe",
        "colab_type": "code",
        "colab": {}
      },
      "source": [
        "from google.cloud import bigquery\n",
        "\n",
        "client = bigquery.Client(project=project_id)"
      ],
      "execution_count": 0,
      "outputs": []
    },
    {
      "cell_type": "markdown",
      "metadata": {
        "colab_type": "text",
        "id": "iLNyuVTxclFW"
      },
      "source": [
        "<h3><b> 1. Data Preparation </b></h3>\n",
        "<p align=\"justify\"> Data preparation is termed as the process of cleaning the data so that the data can be transformed in a form that can be processed and analysed. It is an important step prior to processing and often involves reformatting data, making corrections to data and the combining of data sets to enrich data.\n",
        "</p>"
      ]
    },
    {
      "cell_type": "markdown",
      "metadata": {
        "id": "PFKLdflGojxY",
        "colab_type": "text"
      },
      "source": [
        "<h4><b> 1.1 Data Cleaning </b></h4>\n",
        "\n",
        "<b><u> 2018 First Half Yellow Cab Data Cleaning (Big Query)</u></b>\n",
        "<p align=\"justify\"> \n",
        "<ol><li> Analyse if there is rows with total trip amount =0 ? </li>\n",
        "<li>Is there rows with pick up time > drop off time.</li><li>  Analyse rows which have 0 passenger count.</li>\n",
        "</ol>\n",
        "</p>"
      ]
    },
    {
      "cell_type": "code",
      "metadata": {
        "id": "BEMu7aLvsN6Q",
        "colab_type": "code",
        "colab": {}
      },
      "source": [
        "# if numpy is not installed already : pip3 install numpy\n",
        "import numpy as np#Do aritmetic operations on arrays\n",
        "\n",
        "# matplotlib: used to plot graphs\n",
        "import matplotlib\n",
        "# matplotlib.use('nbagg') : matplotlib uses this protocall which makes plots more user intractive like zoom in and zoom out\n",
        "matplotlib.use('nbagg')\n",
        "import matplotlib.pylab as plt\n",
        "import seaborn as sns#Plots\n",
        "from matplotlib import rcParams#Size of plots "
      ],
      "execution_count": 0,
      "outputs": []
    },
    {
      "cell_type": "markdown",
      "metadata": {
        "id": "OJzUl1qEtAdJ",
        "colab_type": "text"
      },
      "source": [
        "<b> Finding the number of trips where amount given by passenger is less than zero.</b>"
      ]
    },
    {
      "cell_type": "code",
      "metadata": {
        "id": "DhmVxUiW5wPC",
        "colab_type": "code",
        "colab": {}
      },
      "source": [
        "query = \"\"\"\n",
        "SELECT * FROM `nyc-taxi-265120.NYC.2018firsthalf` where total_amount < 0 \n",
        "\"\"\"\n",
        "df_head = client.query(query).to_dataframe()"
      ],
      "execution_count": 0,
      "outputs": []
    },
    {
      "cell_type": "code",
      "metadata": {
        "id": "nCz4Y0F251KY",
        "colab_type": "code",
        "colab": {
          "base_uri": "https://localhost:8080/",
          "height": 299
        },
        "outputId": "0abe25f6-3aa9-4f28-c06c-019f42eecafd"
      },
      "source": [
        "df_head.head()"
      ],
      "execution_count": 24,
      "outputs": [
        {
          "output_type": "execute_result",
          "data": {
            "text/html": [
              "<div>\n",
              "<style scoped>\n",
              "    .dataframe tbody tr th:only-of-type {\n",
              "        vertical-align: middle;\n",
              "    }\n",
              "\n",
              "    .dataframe tbody tr th {\n",
              "        vertical-align: top;\n",
              "    }\n",
              "\n",
              "    .dataframe thead th {\n",
              "        text-align: right;\n",
              "    }\n",
              "</style>\n",
              "<table border=\"1\" class=\"dataframe\">\n",
              "  <thead>\n",
              "    <tr style=\"text-align: right;\">\n",
              "      <th></th>\n",
              "      <th>VendorID</th>\n",
              "      <th>tpep_pickup_datetime</th>\n",
              "      <th>tpep_dropoff_datetime</th>\n",
              "      <th>passenger_count</th>\n",
              "      <th>trip_distance</th>\n",
              "      <th>RatecodeID</th>\n",
              "      <th>store_and_fwd_flag</th>\n",
              "      <th>PULocationID</th>\n",
              "      <th>DOLocationID</th>\n",
              "      <th>payment_type</th>\n",
              "      <th>fare_amount</th>\n",
              "      <th>extra</th>\n",
              "      <th>mta_tax</th>\n",
              "      <th>tip_amount</th>\n",
              "      <th>tolls_amount</th>\n",
              "      <th>improvement_surcharge</th>\n",
              "      <th>total_amount</th>\n",
              "    </tr>\n",
              "  </thead>\n",
              "  <tbody>\n",
              "    <tr>\n",
              "      <th>0</th>\n",
              "      <td>2</td>\n",
              "      <td>2018-01-01 19:39:42+00:00</td>\n",
              "      <td>2018-01-01 19:40:04+00:00</td>\n",
              "      <td>6</td>\n",
              "      <td>0.11</td>\n",
              "      <td>1</td>\n",
              "      <td>N</td>\n",
              "      <td>132</td>\n",
              "      <td>132</td>\n",
              "      <td>3</td>\n",
              "      <td>-2.5</td>\n",
              "      <td>-1.0</td>\n",
              "      <td>-0.5</td>\n",
              "      <td>0.0</td>\n",
              "      <td>0.0</td>\n",
              "      <td>-0.3</td>\n",
              "      <td>-4.3</td>\n",
              "    </tr>\n",
              "    <tr>\n",
              "      <th>1</th>\n",
              "      <td>2</td>\n",
              "      <td>2018-01-02 16:48:22+00:00</td>\n",
              "      <td>2018-01-02 16:48:45+00:00</td>\n",
              "      <td>2</td>\n",
              "      <td>0.04</td>\n",
              "      <td>1</td>\n",
              "      <td>N</td>\n",
              "      <td>148</td>\n",
              "      <td>148</td>\n",
              "      <td>4</td>\n",
              "      <td>-2.5</td>\n",
              "      <td>-1.0</td>\n",
              "      <td>-0.5</td>\n",
              "      <td>0.0</td>\n",
              "      <td>0.0</td>\n",
              "      <td>-0.3</td>\n",
              "      <td>-4.3</td>\n",
              "    </tr>\n",
              "    <tr>\n",
              "      <th>2</th>\n",
              "      <td>2</td>\n",
              "      <td>2018-01-02 17:07:45+00:00</td>\n",
              "      <td>2018-01-02 17:08:21+00:00</td>\n",
              "      <td>5</td>\n",
              "      <td>0.06</td>\n",
              "      <td>1</td>\n",
              "      <td>N</td>\n",
              "      <td>100</td>\n",
              "      <td>100</td>\n",
              "      <td>3</td>\n",
              "      <td>-2.5</td>\n",
              "      <td>-1.0</td>\n",
              "      <td>-0.5</td>\n",
              "      <td>0.0</td>\n",
              "      <td>0.0</td>\n",
              "      <td>-0.3</td>\n",
              "      <td>-4.3</td>\n",
              "    </tr>\n",
              "    <tr>\n",
              "      <th>3</th>\n",
              "      <td>2</td>\n",
              "      <td>2018-01-02 18:41:29+00:00</td>\n",
              "      <td>2018-01-02 18:42:04+00:00</td>\n",
              "      <td>6</td>\n",
              "      <td>0.08</td>\n",
              "      <td>1</td>\n",
              "      <td>N</td>\n",
              "      <td>170</td>\n",
              "      <td>170</td>\n",
              "      <td>4</td>\n",
              "      <td>-2.5</td>\n",
              "      <td>-1.0</td>\n",
              "      <td>-0.5</td>\n",
              "      <td>0.0</td>\n",
              "      <td>0.0</td>\n",
              "      <td>-0.3</td>\n",
              "      <td>-4.3</td>\n",
              "    </tr>\n",
              "    <tr>\n",
              "      <th>4</th>\n",
              "      <td>2</td>\n",
              "      <td>2018-01-02 19:45:28+00:00</td>\n",
              "      <td>2018-01-02 19:46:01+00:00</td>\n",
              "      <td>1</td>\n",
              "      <td>0.00</td>\n",
              "      <td>1</td>\n",
              "      <td>N</td>\n",
              "      <td>7</td>\n",
              "      <td>193</td>\n",
              "      <td>3</td>\n",
              "      <td>-2.5</td>\n",
              "      <td>-1.0</td>\n",
              "      <td>-0.5</td>\n",
              "      <td>0.0</td>\n",
              "      <td>0.0</td>\n",
              "      <td>-0.3</td>\n",
              "      <td>-4.3</td>\n",
              "    </tr>\n",
              "  </tbody>\n",
              "</table>\n",
              "</div>"
            ],
            "text/plain": [
              "   VendorID      tpep_pickup_datetime  ... improvement_surcharge  total_amount\n",
              "0         2 2018-01-01 19:39:42+00:00  ...                  -0.3          -4.3\n",
              "1         2 2018-01-02 16:48:22+00:00  ...                  -0.3          -4.3\n",
              "2         2 2018-01-02 17:07:45+00:00  ...                  -0.3          -4.3\n",
              "3         2 2018-01-02 18:41:29+00:00  ...                  -0.3          -4.3\n",
              "4         2 2018-01-02 19:45:28+00:00  ...                  -0.3          -4.3\n",
              "\n",
              "[5 rows x 17 columns]"
            ]
          },
          "metadata": {
            "tags": []
          },
          "execution_count": 24
        }
      ]
    },
    {
      "cell_type": "code",
      "metadata": {
        "id": "rs0joLuvoizt",
        "colab_type": "code",
        "colab": {}
      },
      "source": [
        "query = \"\"\"\n",
        "SELECT count(*) FROM `nyc-taxi-265120.NYC.2018firsthalf` where total_amount < 0 \n",
        "\"\"\"\n",
        "df = client.query(query).to_dataframe()"
      ],
      "execution_count": 0,
      "outputs": []
    },
    {
      "cell_type": "code",
      "metadata": {
        "id": "_qW8aK5DcsbO",
        "colab_type": "code",
        "colab": {
          "base_uri": "https://localhost:8080/",
          "height": 50
        },
        "outputId": "09ce42b6-ab36-4468-d56d-ebb1e5323a16"
      },
      "source": [
        "print(\"Number of rows with amount of trip <0:\")\n",
        "print(df_head.shape[0])"
      ],
      "execution_count": 23,
      "outputs": [
        {
          "output_type": "stream",
          "text": [
            "Number of rows with amount of trip <0:\n",
            "29860\n"
          ],
          "name": "stdout"
        }
      ]
    },
    {
      "cell_type": "markdown",
      "metadata": {
        "id": "mRKpZqWR6KU2",
        "colab_type": "text"
      },
      "source": [
        "<p align=\"justify\"> There are 29860 rows in 2018 First half dataset where amount trip is less than 0 which is not possible as there is no online wallet system that NYC city taxi used in 2018 nor 2019. Hence this must be the possible outliers or there must be erroneous entry in the amount column. I decided to normalise the value and keep it.</p>"
      ]
    },
    {
      "cell_type": "markdown",
      "metadata": {
        "id": "Oo6uLBXWtSPN",
        "colab_type": "text"
      },
      "source": [
        "<b> Finding the number of pickups where pickup time is greater than drop off time</b>"
      ]
    },
    {
      "cell_type": "code",
      "metadata": {
        "id": "MVjYj74zmqxl",
        "colab_type": "code",
        "colab": {}
      },
      "source": [
        "query = \"\"\"\n",
        "SELECT * FROM `nyc-taxi-265120.NYC.2018firsthalf` where tpep_pickup_datetime > tpep_dropoff_datetime \n",
        "\"\"\"\n",
        "df = client.query(query).to_dataframe()"
      ],
      "execution_count": 0,
      "outputs": []
    },
    {
      "cell_type": "code",
      "metadata": {
        "id": "JA9s8jUM7Vbg",
        "colab_type": "code",
        "colab": {
          "base_uri": "https://localhost:8080/",
          "height": 299
        },
        "outputId": "f762bd82-d31e-484d-eef3-3c070fed9371"
      },
      "source": [
        "df.head()"
      ],
      "execution_count": 26,
      "outputs": [
        {
          "output_type": "execute_result",
          "data": {
            "text/html": [
              "<div>\n",
              "<style scoped>\n",
              "    .dataframe tbody tr th:only-of-type {\n",
              "        vertical-align: middle;\n",
              "    }\n",
              "\n",
              "    .dataframe tbody tr th {\n",
              "        vertical-align: top;\n",
              "    }\n",
              "\n",
              "    .dataframe thead th {\n",
              "        text-align: right;\n",
              "    }\n",
              "</style>\n",
              "<table border=\"1\" class=\"dataframe\">\n",
              "  <thead>\n",
              "    <tr style=\"text-align: right;\">\n",
              "      <th></th>\n",
              "      <th>VendorID</th>\n",
              "      <th>tpep_pickup_datetime</th>\n",
              "      <th>tpep_dropoff_datetime</th>\n",
              "      <th>passenger_count</th>\n",
              "      <th>trip_distance</th>\n",
              "      <th>RatecodeID</th>\n",
              "      <th>store_and_fwd_flag</th>\n",
              "      <th>PULocationID</th>\n",
              "      <th>DOLocationID</th>\n",
              "      <th>payment_type</th>\n",
              "      <th>fare_amount</th>\n",
              "      <th>extra</th>\n",
              "      <th>mta_tax</th>\n",
              "      <th>tip_amount</th>\n",
              "      <th>tolls_amount</th>\n",
              "      <th>improvement_surcharge</th>\n",
              "      <th>total_amount</th>\n",
              "    </tr>\n",
              "  </thead>\n",
              "  <tbody>\n",
              "    <tr>\n",
              "      <th>0</th>\n",
              "      <td>1</td>\n",
              "      <td>2018-01-01 15:15:13+00:00</td>\n",
              "      <td>2017-12-28 16:03:38+00:00</td>\n",
              "      <td>1</td>\n",
              "      <td>3.3</td>\n",
              "      <td>1</td>\n",
              "      <td>N</td>\n",
              "      <td>209</td>\n",
              "      <td>137</td>\n",
              "      <td>1</td>\n",
              "      <td>13.00</td>\n",
              "      <td>0.5</td>\n",
              "      <td>0.5</td>\n",
              "      <td>2.85</td>\n",
              "      <td>0.00</td>\n",
              "      <td>0.3</td>\n",
              "      <td>17.15</td>\n",
              "    </tr>\n",
              "    <tr>\n",
              "      <th>1</th>\n",
              "      <td>1</td>\n",
              "      <td>2018-02-04 15:15:17+00:00</td>\n",
              "      <td>2018-02-03 16:06:36+00:00</td>\n",
              "      <td>2</td>\n",
              "      <td>20.2</td>\n",
              "      <td>2</td>\n",
              "      <td>N</td>\n",
              "      <td>132</td>\n",
              "      <td>151</td>\n",
              "      <td>1</td>\n",
              "      <td>52.00</td>\n",
              "      <td>0.0</td>\n",
              "      <td>0.5</td>\n",
              "      <td>11.70</td>\n",
              "      <td>5.76</td>\n",
              "      <td>0.3</td>\n",
              "      <td>70.26</td>\n",
              "    </tr>\n",
              "    <tr>\n",
              "      <th>2</th>\n",
              "      <td>1</td>\n",
              "      <td>2018-02-11 15:15:01+00:00</td>\n",
              "      <td>2017-12-24 17:09:53+00:00</td>\n",
              "      <td>2</td>\n",
              "      <td>4.7</td>\n",
              "      <td>1</td>\n",
              "      <td>N</td>\n",
              "      <td>246</td>\n",
              "      <td>66</td>\n",
              "      <td>1</td>\n",
              "      <td>25.00</td>\n",
              "      <td>0.0</td>\n",
              "      <td>0.5</td>\n",
              "      <td>5.16</td>\n",
              "      <td>0.00</td>\n",
              "      <td>0.3</td>\n",
              "      <td>30.96</td>\n",
              "    </tr>\n",
              "    <tr>\n",
              "      <th>3</th>\n",
              "      <td>1</td>\n",
              "      <td>2018-02-17 23:32:17+00:00</td>\n",
              "      <td>2018-02-17 23:31:41+00:00</td>\n",
              "      <td>1</td>\n",
              "      <td>0.1</td>\n",
              "      <td>5</td>\n",
              "      <td>N</td>\n",
              "      <td>5</td>\n",
              "      <td>5</td>\n",
              "      <td>4</td>\n",
              "      <td>99.32</td>\n",
              "      <td>0.0</td>\n",
              "      <td>0.0</td>\n",
              "      <td>0.00</td>\n",
              "      <td>0.00</td>\n",
              "      <td>0.3</td>\n",
              "      <td>99.62</td>\n",
              "    </tr>\n",
              "    <tr>\n",
              "      <th>4</th>\n",
              "      <td>1</td>\n",
              "      <td>2018-02-09 09:50:19+00:00</td>\n",
              "      <td>2018-02-09 04:48:28+00:00</td>\n",
              "      <td>1</td>\n",
              "      <td>1.3</td>\n",
              "      <td>1</td>\n",
              "      <td>N</td>\n",
              "      <td>90</td>\n",
              "      <td>113</td>\n",
              "      <td>2</td>\n",
              "      <td>6.00</td>\n",
              "      <td>0.5</td>\n",
              "      <td>0.5</td>\n",
              "      <td>0.00</td>\n",
              "      <td>0.00</td>\n",
              "      <td>0.3</td>\n",
              "      <td>7.30</td>\n",
              "    </tr>\n",
              "  </tbody>\n",
              "</table>\n",
              "</div>"
            ],
            "text/plain": [
              "   VendorID      tpep_pickup_datetime  ... improvement_surcharge  total_amount\n",
              "0         1 2018-01-01 15:15:13+00:00  ...                   0.3         17.15\n",
              "1         1 2018-02-04 15:15:17+00:00  ...                   0.3         70.26\n",
              "2         1 2018-02-11 15:15:01+00:00  ...                   0.3         30.96\n",
              "3         1 2018-02-17 23:32:17+00:00  ...                   0.3         99.62\n",
              "4         1 2018-02-09 09:50:19+00:00  ...                   0.3          7.30\n",
              "\n",
              "[5 rows x 17 columns]"
            ]
          },
          "metadata": {
            "tags": []
          },
          "execution_count": 26
        }
      ]
    },
    {
      "cell_type": "code",
      "metadata": {
        "id": "1e1lkyY4tame",
        "colab_type": "code",
        "colab": {
          "base_uri": "https://localhost:8080/",
          "height": 50
        },
        "outputId": "15bc1aaf-3737-4717-ce02-e448e86364fc"
      },
      "source": [
        "print(\"Number of rows where pickup time is greater than drop off:\")\n",
        "print(df.shape[0])"
      ],
      "execution_count": 27,
      "outputs": [
        {
          "output_type": "stream",
          "text": [
            "Number of rows where pickup time is greater than drop off:\n",
            "18\n"
          ],
          "name": "stdout"
        }
      ]
    },
    {
      "cell_type": "markdown",
      "metadata": {
        "id": "QNaEuEoB7ebE",
        "colab_type": "text"
      },
      "source": [
        "<p align=\"justify\"> I decided to remove these rows as they are certainty the outliers and will not make much difference</p>"
      ]
    },
    {
      "cell_type": "markdown",
      "metadata": {
        "id": "OYFUIGHctz9j",
        "colab_type": "text"
      },
      "source": [
        "<b> Finding the number of pickups where there are no passengers</b>"
      ]
    },
    {
      "cell_type": "code",
      "metadata": {
        "id": "wHXyPPizuZNB",
        "colab_type": "code",
        "colab": {}
      },
      "source": [
        "query = \"\"\"\n",
        "SELECT count(*) FROM `nyc-taxi-265120.NYC.2018firsthalf` where passenger_count = 0 \n",
        "\"\"\"\n",
        "df = client.query(query).to_dataframe()"
      ],
      "execution_count": 0,
      "outputs": []
    },
    {
      "cell_type": "code",
      "metadata": {
        "id": "mEPVJV8juDT8",
        "colab_type": "code",
        "colab": {
          "base_uri": "https://localhost:8080/",
          "height": 50
        },
        "outputId": "a74a686b-795a-4f04-d8ed-4a9f067427e4"
      },
      "source": [
        "print(\"Number of pickups where there are no passengers:\")\n",
        "print(df[\"f0_\"][0])"
      ],
      "execution_count": 38,
      "outputs": [
        {
          "output_type": "stream",
          "text": [
            "Number of pickups where there are no passengers:\n",
            "402117\n"
          ],
          "name": "stdout"
        }
      ]
    },
    {
      "cell_type": "code",
      "metadata": {
        "id": "EXPR91eD7yes",
        "colab_type": "code",
        "colab": {}
      },
      "source": [
        "query = \"\"\"\n",
        "SELECT  tpep_pickup_datetime,tpep_dropoff_datetime,passenger_count,PULocationID,DOLocationID,total_amount FROM `nyc-taxi-265120.NYC.2018firsthalf` LIMIT 10000\n",
        "\"\"\"\n",
        "df = client.query(query).to_dataframe()"
      ],
      "execution_count": 0,
      "outputs": []
    },
    {
      "cell_type": "markdown",
      "metadata": {
        "id": "8S1UCjYZ_nuc",
        "colab_type": "text"
      },
      "source": [
        "Moving onto the Trip duration, according to NYC Taxi & Limousine Commision Regulations the maximum allowed trip duration in a 24 hour interval is 12 hours. So selecting only the data points whose trip times is greater than 1 and less than 720 minutes (12 hours). Given below is the PDF of log-trip-times along with its Normal Q-Q plot which says that the data follows a good normal distribution.<br>\n",
        "<IMG SRC=\"https://github.com/ssrbazpur/Envisioning-Yellow-Taxi-High-Demand-Areas-in-NYC-city/blob/master/Screenshots/log_times.png?raw=true\" heigh=400 width=400>"
      ]
    },
    {
      "cell_type": "code",
      "metadata": {
        "id": "M8eDxLCw_Abx",
        "colab_type": "code",
        "colab": {}
      },
      "source": [
        "query = \"\"\"\n",
        "SELECT  * FROM `nyc-taxi-265120.NYC.2018firsthalf` WHERE TIMESTAMP_DIFF(tpep_dropoff_datetime,tpep_pickup_datetime,HOUR)>12 LIMIT 10000\n",
        "\"\"\"\n",
        "df = client.query(query).to_dataframe()"
      ],
      "execution_count": 0,
      "outputs": []
    },
    {
      "cell_type": "code",
      "metadata": {
        "id": "3GBq-arN-_Hw",
        "colab_type": "code",
        "colab": {}
      },
      "source": [
        "TIMESTAMP_DIFF(tpep_dropoff_datetime,tpep_pickup_datetime,SECOND)"
      ],
      "execution_count": 0,
      "outputs": []
    },
    {
      "cell_type": "code",
      "metadata": {
        "id": "msFMS48275PN",
        "colab_type": "code",
        "colab": {
          "base_uri": "https://localhost:8080/",
          "height": 590
        },
        "outputId": "14357c03-f21e-445a-e505-1424717dd7ab"
      },
      "source": [
        "df"
      ],
      "execution_count": 70,
      "outputs": [
        {
          "output_type": "execute_result",
          "data": {
            "text/html": [
              "<div>\n",
              "<style scoped>\n",
              "    .dataframe tbody tr th:only-of-type {\n",
              "        vertical-align: middle;\n",
              "    }\n",
              "\n",
              "    .dataframe tbody tr th {\n",
              "        vertical-align: top;\n",
              "    }\n",
              "\n",
              "    .dataframe thead th {\n",
              "        text-align: right;\n",
              "    }\n",
              "</style>\n",
              "<table border=\"1\" class=\"dataframe\">\n",
              "  <thead>\n",
              "    <tr style=\"text-align: right;\">\n",
              "      <th></th>\n",
              "      <th>VendorID</th>\n",
              "      <th>tpep_pickup_datetime</th>\n",
              "      <th>tpep_dropoff_datetime</th>\n",
              "      <th>passenger_count</th>\n",
              "      <th>trip_distance</th>\n",
              "      <th>RatecodeID</th>\n",
              "      <th>store_and_fwd_flag</th>\n",
              "      <th>PULocationID</th>\n",
              "      <th>DOLocationID</th>\n",
              "      <th>payment_type</th>\n",
              "      <th>fare_amount</th>\n",
              "      <th>extra</th>\n",
              "      <th>mta_tax</th>\n",
              "      <th>tip_amount</th>\n",
              "      <th>tolls_amount</th>\n",
              "      <th>improvement_surcharge</th>\n",
              "      <th>total_amount</th>\n",
              "    </tr>\n",
              "  </thead>\n",
              "  <tbody>\n",
              "    <tr>\n",
              "      <th>0</th>\n",
              "      <td>2</td>\n",
              "      <td>2018-01-16 07:11:32+00:00</td>\n",
              "      <td>2018-01-17 06:11:32+00:00</td>\n",
              "      <td>1</td>\n",
              "      <td>0.00</td>\n",
              "      <td>1</td>\n",
              "      <td>N</td>\n",
              "      <td>193</td>\n",
              "      <td>264</td>\n",
              "      <td>2</td>\n",
              "      <td>2.5</td>\n",
              "      <td>0.0</td>\n",
              "      <td>0.0</td>\n",
              "      <td>0.00</td>\n",
              "      <td>0.00</td>\n",
              "      <td>0.0</td>\n",
              "      <td>2.50</td>\n",
              "    </tr>\n",
              "    <tr>\n",
              "      <th>1</th>\n",
              "      <td>2</td>\n",
              "      <td>2018-01-14 22:20:12+00:00</td>\n",
              "      <td>2018-01-15 21:11:24+00:00</td>\n",
              "      <td>1</td>\n",
              "      <td>0.00</td>\n",
              "      <td>1</td>\n",
              "      <td>N</td>\n",
              "      <td>132</td>\n",
              "      <td>132</td>\n",
              "      <td>2</td>\n",
              "      <td>2.5</td>\n",
              "      <td>0.5</td>\n",
              "      <td>0.5</td>\n",
              "      <td>0.00</td>\n",
              "      <td>0.00</td>\n",
              "      <td>0.3</td>\n",
              "      <td>3.80</td>\n",
              "    </tr>\n",
              "    <tr>\n",
              "      <th>2</th>\n",
              "      <td>2</td>\n",
              "      <td>2018-01-15 00:32:46+00:00</td>\n",
              "      <td>2018-01-16 00:20:30+00:00</td>\n",
              "      <td>1</td>\n",
              "      <td>0.00</td>\n",
              "      <td>1</td>\n",
              "      <td>N</td>\n",
              "      <td>17</td>\n",
              "      <td>17</td>\n",
              "      <td>2</td>\n",
              "      <td>2.5</td>\n",
              "      <td>0.5</td>\n",
              "      <td>0.5</td>\n",
              "      <td>0.00</td>\n",
              "      <td>0.00</td>\n",
              "      <td>0.3</td>\n",
              "      <td>3.80</td>\n",
              "    </tr>\n",
              "    <tr>\n",
              "      <th>3</th>\n",
              "      <td>2</td>\n",
              "      <td>2018-01-14 21:49:02+00:00</td>\n",
              "      <td>2018-01-15 21:45:35+00:00</td>\n",
              "      <td>1</td>\n",
              "      <td>0.06</td>\n",
              "      <td>1</td>\n",
              "      <td>N</td>\n",
              "      <td>234</td>\n",
              "      <td>234</td>\n",
              "      <td>2</td>\n",
              "      <td>3.0</td>\n",
              "      <td>0.5</td>\n",
              "      <td>0.5</td>\n",
              "      <td>0.00</td>\n",
              "      <td>0.00</td>\n",
              "      <td>0.3</td>\n",
              "      <td>4.30</td>\n",
              "    </tr>\n",
              "    <tr>\n",
              "      <th>4</th>\n",
              "      <td>2</td>\n",
              "      <td>2018-01-15 05:02:20+00:00</td>\n",
              "      <td>2018-01-16 00:00:00+00:00</td>\n",
              "      <td>1</td>\n",
              "      <td>0.29</td>\n",
              "      <td>1</td>\n",
              "      <td>N</td>\n",
              "      <td>164</td>\n",
              "      <td>164</td>\n",
              "      <td>2</td>\n",
              "      <td>3.0</td>\n",
              "      <td>0.5</td>\n",
              "      <td>0.5</td>\n",
              "      <td>0.00</td>\n",
              "      <td>0.00</td>\n",
              "      <td>0.3</td>\n",
              "      <td>4.30</td>\n",
              "    </tr>\n",
              "    <tr>\n",
              "      <th>...</th>\n",
              "      <td>...</td>\n",
              "      <td>...</td>\n",
              "      <td>...</td>\n",
              "      <td>...</td>\n",
              "      <td>...</td>\n",
              "      <td>...</td>\n",
              "      <td>...</td>\n",
              "      <td>...</td>\n",
              "      <td>...</td>\n",
              "      <td>...</td>\n",
              "      <td>...</td>\n",
              "      <td>...</td>\n",
              "      <td>...</td>\n",
              "      <td>...</td>\n",
              "      <td>...</td>\n",
              "      <td>...</td>\n",
              "      <td>...</td>\n",
              "    </tr>\n",
              "    <tr>\n",
              "      <th>9995</th>\n",
              "      <td>2</td>\n",
              "      <td>2018-02-04 02:39:40+00:00</td>\n",
              "      <td>2018-02-05 02:32:13+00:00</td>\n",
              "      <td>2</td>\n",
              "      <td>8.00</td>\n",
              "      <td>1</td>\n",
              "      <td>N</td>\n",
              "      <td>244</td>\n",
              "      <td>230</td>\n",
              "      <td>2</td>\n",
              "      <td>34.0</td>\n",
              "      <td>0.5</td>\n",
              "      <td>0.5</td>\n",
              "      <td>0.00</td>\n",
              "      <td>0.00</td>\n",
              "      <td>0.3</td>\n",
              "      <td>35.30</td>\n",
              "    </tr>\n",
              "    <tr>\n",
              "      <th>9996</th>\n",
              "      <td>2</td>\n",
              "      <td>2018-02-04 01:07:12+00:00</td>\n",
              "      <td>2018-02-05 00:49:52+00:00</td>\n",
              "      <td>1</td>\n",
              "      <td>11.84</td>\n",
              "      <td>1</td>\n",
              "      <td>N</td>\n",
              "      <td>161</td>\n",
              "      <td>92</td>\n",
              "      <td>2</td>\n",
              "      <td>36.0</td>\n",
              "      <td>0.5</td>\n",
              "      <td>0.5</td>\n",
              "      <td>0.00</td>\n",
              "      <td>5.76</td>\n",
              "      <td>0.3</td>\n",
              "      <td>43.06</td>\n",
              "    </tr>\n",
              "    <tr>\n",
              "      <th>9997</th>\n",
              "      <td>2</td>\n",
              "      <td>2018-02-04 21:34:28+00:00</td>\n",
              "      <td>2018-02-05 21:07:02+00:00</td>\n",
              "      <td>1</td>\n",
              "      <td>12.26</td>\n",
              "      <td>1</td>\n",
              "      <td>N</td>\n",
              "      <td>164</td>\n",
              "      <td>89</td>\n",
              "      <td>2</td>\n",
              "      <td>36.0</td>\n",
              "      <td>0.5</td>\n",
              "      <td>0.5</td>\n",
              "      <td>0.00</td>\n",
              "      <td>0.00</td>\n",
              "      <td>0.3</td>\n",
              "      <td>37.30</td>\n",
              "    </tr>\n",
              "    <tr>\n",
              "      <th>9998</th>\n",
              "      <td>2</td>\n",
              "      <td>2018-02-04 17:42:09+00:00</td>\n",
              "      <td>2018-02-05 17:39:07+00:00</td>\n",
              "      <td>1</td>\n",
              "      <td>13.24</td>\n",
              "      <td>1</td>\n",
              "      <td>N</td>\n",
              "      <td>170</td>\n",
              "      <td>252</td>\n",
              "      <td>1</td>\n",
              "      <td>38.0</td>\n",
              "      <td>0.0</td>\n",
              "      <td>0.5</td>\n",
              "      <td>4.46</td>\n",
              "      <td>5.76</td>\n",
              "      <td>0.3</td>\n",
              "      <td>49.02</td>\n",
              "    </tr>\n",
              "    <tr>\n",
              "      <th>9999</th>\n",
              "      <td>2</td>\n",
              "      <td>2018-02-03 15:12:58+00:00</td>\n",
              "      <td>2018-02-04 14:51:36+00:00</td>\n",
              "      <td>1</td>\n",
              "      <td>10.91</td>\n",
              "      <td>1</td>\n",
              "      <td>N</td>\n",
              "      <td>68</td>\n",
              "      <td>227</td>\n",
              "      <td>1</td>\n",
              "      <td>40.0</td>\n",
              "      <td>0.0</td>\n",
              "      <td>0.5</td>\n",
              "      <td>0.00</td>\n",
              "      <td>5.76</td>\n",
              "      <td>0.3</td>\n",
              "      <td>46.56</td>\n",
              "    </tr>\n",
              "  </tbody>\n",
              "</table>\n",
              "<p>10000 rows × 17 columns</p>\n",
              "</div>"
            ],
            "text/plain": [
              "      VendorID      tpep_pickup_datetime  ... improvement_surcharge  total_amount\n",
              "0            2 2018-01-16 07:11:32+00:00  ...                   0.0          2.50\n",
              "1            2 2018-01-14 22:20:12+00:00  ...                   0.3          3.80\n",
              "2            2 2018-01-15 00:32:46+00:00  ...                   0.3          3.80\n",
              "3            2 2018-01-14 21:49:02+00:00  ...                   0.3          4.30\n",
              "4            2 2018-01-15 05:02:20+00:00  ...                   0.3          4.30\n",
              "...        ...                       ...  ...                   ...           ...\n",
              "9995         2 2018-02-04 02:39:40+00:00  ...                   0.3         35.30\n",
              "9996         2 2018-02-04 01:07:12+00:00  ...                   0.3         43.06\n",
              "9997         2 2018-02-04 21:34:28+00:00  ...                   0.3         37.30\n",
              "9998         2 2018-02-04 17:42:09+00:00  ...                   0.3         49.02\n",
              "9999         2 2018-02-03 15:12:58+00:00  ...                   0.3         46.56\n",
              "\n",
              "[10000 rows x 17 columns]"
            ]
          },
          "metadata": {
            "tags": []
          },
          "execution_count": 70
        }
      ]
    },
    {
      "cell_type": "code",
      "metadata": {
        "id": "AQlRo0VS9NL1",
        "colab_type": "code",
        "colab": {}
      },
      "source": [
        "sns.boxplot(y=\"total_amount\", data =df)\n",
        "plt.show()"
      ],
      "execution_count": 0,
      "outputs": []
    },
    {
      "cell_type": "markdown",
      "metadata": {
        "id": "PYh0k6xMuSLT",
        "colab_type": "text"
      },
      "source": [
        "<b><u> 2018 Second Half Yellow Cab Data Cleaning (Big Query)</u></b>\n",
        "<p align=\"justify\"> \n",
        "<ol><li> Analyse if there is rows with total trip amount =0 ? </li>\n",
        "<li>Is there rows with pick up time > drop off time.</li><li>  Analyse rows which have 0 passenger count.</li>\n",
        "</ol>\n",
        "</p>"
      ]
    },
    {
      "cell_type": "markdown",
      "metadata": {
        "id": "Rk3gqCqAuVtd",
        "colab_type": "text"
      },
      "source": [
        "<b> Finding the number of trips where amount given by passenger is less than zero.</b>"
      ]
    },
    {
      "cell_type": "code",
      "metadata": {
        "id": "GOO_n2TXwQ70",
        "colab_type": "code",
        "colab": {}
      },
      "source": [
        "query = \"\"\"\n",
        "SELECT count(*) FROM `nyc-taxi-265120.NYC.2018SecondHalf` where total_amount <= 0 \n",
        "\"\"\"\n",
        "df = client.query(query).to_dataframe()"
      ],
      "execution_count": 0,
      "outputs": []
    },
    {
      "cell_type": "code",
      "metadata": {
        "id": "sVKgbzDRwXwm",
        "colab_type": "code",
        "colab": {}
      },
      "source": [
        "print(\"Number of rows with amount of trip <=0:\")\n",
        "print(df[\"f0_\"][0])"
      ],
      "execution_count": 0,
      "outputs": []
    },
    {
      "cell_type": "markdown",
      "metadata": {
        "id": "OsKcmU10w2KQ",
        "colab_type": "text"
      },
      "source": [
        "<b> Finding the number of pickups where pickup time is greater than drop off time</b>"
      ]
    },
    {
      "cell_type": "code",
      "metadata": {
        "id": "-WY3WeNJwz8f",
        "colab_type": "code",
        "colab": {}
      },
      "source": [
        "query = \"\"\"\n",
        "SELECT count(*) FROM `nyc-taxi-265120.NYC.2018SecondHalf` where tpep_pickup_datetime > tpep_dropoff_datetime \n",
        "\"\"\"\n",
        "df = client.query(query).to_dataframe()\n",
        "\n",
        "print(\"Number of rows where pickup time is greater than drop off:\")\n",
        "print(df[\"f0_\"][0])"
      ],
      "execution_count": 0,
      "outputs": []
    },
    {
      "cell_type": "markdown",
      "metadata": {
        "id": "i-4kr09DxA6x",
        "colab_type": "text"
      },
      "source": [
        "<b> Finding the number of pickups where there are no passengers</b>"
      ]
    },
    {
      "cell_type": "code",
      "metadata": {
        "id": "5ywPVCcVw-sw",
        "colab_type": "code",
        "colab": {}
      },
      "source": [
        "\n",
        "query = \"\"\"\n",
        "SELECT count(*) FROM `nyc-taxi-265120.NYC.2018SecondHalf` where passenger_count = 0 \n",
        "\"\"\"\n",
        "df = client.query(query).to_dataframe()\n",
        "\n",
        "print(\"Number of pickups where there are no passengers:\")\n",
        "print(df[\"f0_\"][0])\n"
      ],
      "execution_count": 0,
      "outputs": []
    },
    {
      "cell_type": "code",
      "metadata": {
        "id": "GWXXPxWSxFrN",
        "colab_type": "code",
        "colab": {}
      },
      "source": [
        "query = \"\"\"\n",
        "SELECT * FROM `nyc-taxi-265120.NYC.2018SecondHalf`\n",
        "\"\"\"\n",
        "df = client.query(query).to_dataframe()"
      ],
      "execution_count": 0,
      "outputs": []
    },
    {
      "cell_type": "markdown",
      "metadata": {
        "id": "KsN9tfRlyuL2",
        "colab_type": "text"
      },
      "source": [
        "<b><u> 2019 First Half Yellow Cab Data Cleaning (Big Query)</u></b>\n",
        "<p align=\"justify\"> \n",
        "<ol><li> Analyse if there is rows with total trip amount =0 ? </li>\n",
        "<li>Is there rows with pick up time > drop off time.</li><li>  Analyse rows which have 0 passenger count.</li>\n",
        "</ol>\n",
        "</p>"
      ]
    },
    {
      "cell_type": "code",
      "metadata": {
        "id": "yXFc0IRhy0Cl",
        "colab_type": "code",
        "colab": {}
      },
      "source": [
        "query = \"\"\"\n",
        "SELECT count(*) FROM `nyc-taxi-265120.NYC.2019firsthalf` where total_amount <= 0 LIMIT 10000\n",
        "\"\"\"\n",
        "df = client.query(query).to_dataframe()"
      ],
      "execution_count": 0,
      "outputs": []
    },
    {
      "cell_type": "code",
      "metadata": {
        "id": "Vddwk11k0ef5",
        "colab_type": "code",
        "colab": {}
      },
      "source": [
        "print(\"Number of rows with amount of trip <=0:\")\n",
        "print(df[\"f0_\"][0])"
      ],
      "execution_count": 0,
      "outputs": []
    },
    {
      "cell_type": "code",
      "metadata": {
        "id": "nZREwAP6y0yx",
        "colab_type": "code",
        "colab": {}
      },
      "source": [
        "query = \"\"\"\n",
        "SELECT * FROM `nyc-taxi-265120.NYC.2019firsthalf` where tpep_pickup_datetime > tpep_dropoff_datetime LIMIT 10000\n",
        "\"\"\"\n",
        "df = client.query(query).to_dataframe()\n",
        "\n",
        "print(\"Number of rows where pickup time is greater than drop off:\")\n",
        "print(df[\"f0_\"][0])"
      ],
      "execution_count": 0,
      "outputs": []
    },
    {
      "cell_type": "code",
      "metadata": {
        "id": "r8FsPmWgy3YE",
        "colab_type": "code",
        "colab": {}
      },
      "source": [
        "query = \"\"\"\n",
        "SELECT count(*) FROM `nyc-taxi-265120.NYC.2019firsthalf` where passenger_count = 0 LIMIT 10000\n",
        "\"\"\"\n",
        "df = client.query(query).to_dataframe()\n",
        "print(\"Number of pickups where there are no passengers:\")\n",
        "print(df[\"f0_\"][0])"
      ],
      "execution_count": 0,
      "outputs": []
    },
    {
      "cell_type": "code",
      "metadata": {
        "id": "zxCeesPxy4GI",
        "colab_type": "code",
        "colab": {}
      },
      "source": [
        "query = \"\"\"\n",
        "SELECT count(*) FROM `nyc-taxi-265120.NYC.2019firsthalf` where passenger_count = 0 and total_amount<=0 LIMIT 10000\n",
        "\"\"\"\n",
        "df = client.query(query).to_dataframe()"
      ],
      "execution_count": 0,
      "outputs": []
    },
    {
      "cell_type": "markdown",
      "metadata": {
        "id": "EDjzBQ67zyU-",
        "colab_type": "text"
      },
      "source": [
        "<b><u> 2019 Second Half Yellow Cab Data Cleaning (Big Query)</u></b>\n",
        "<p align=\"justify\"> \n",
        "<ol><li> Analyse if there is rows with total trip amount =0 ? </li>\n",
        "<li>Is there rows with pick up time > drop off time.</li><li>  Analyse rows which have 0 passenger count.</li>\n",
        "</ol>\n",
        "</p>"
      ]
    },
    {
      "cell_type": "code",
      "metadata": {
        "id": "L5p-ifKazxad",
        "colab_type": "code",
        "colab": {}
      },
      "source": [
        "query = \"\"\"\n",
        "SELECT count(*) FROM `nyc-taxi-265120.NYC.2019secondhalf` where total_amount <= 0 \n",
        "\"\"\"\n",
        "df = client.query(query).to_dataframe()\n",
        "print(\"Number of rows with amount of trip <=0:\")\n",
        "print(df[\"f0_\"][0])"
      ],
      "execution_count": 0,
      "outputs": []
    },
    {
      "cell_type": "code",
      "metadata": {
        "id": "AMIThkV60GBy",
        "colab_type": "code",
        "colab": {}
      },
      "source": [
        "query = \"\"\"\n",
        "SELECT * FROM `nyc-taxi-265120.NYC.2019secondhalf` where tpep_pickup_datetime > tpep_dropoff_datetime \n",
        "\"\"\"\n",
        "df = client.query(query).to_dataframe()\n",
        "\n",
        "print(\"Number of rows where pickup time is greater than drop off:\")\n",
        "print(df[\"f0_\"][0])"
      ],
      "execution_count": 0,
      "outputs": []
    },
    {
      "cell_type": "code",
      "metadata": {
        "id": "RsVNcvwa0L7D",
        "colab_type": "code",
        "colab": {}
      },
      "source": [
        "query = \"\"\"\n",
        "SELECT count(*) FROM `nyc-taxi-265120.NYC.2019secondhalf` where passenger_count = 0 \n",
        "\"\"\"\n",
        "df = client.query(query).to_dataframe()\n",
        "print(\"Number of pickups where there are no passengers:\")\n",
        "print(df[\"f0_\"][0])"
      ],
      "execution_count": 0,
      "outputs": []
    },
    {
      "cell_type": "markdown",
      "metadata": {
        "id": "Mzx-IJ4vvJPI",
        "colab_type": "text"
      },
      "source": [
        "<b><u> INNER JOIN (Eliminating out of Bounds Location if exists)</u></b>\n",
        "\n",
        "Eliminaing out of Bound Location with the help of INNER JOIN.<br>\n",
        "<ol><li>\n",
        "Table A- Taxi Trips Data </li>\n",
        "<li>\n",
        "Table B- Zone Data</li>\n",
        "</ol>\n",
        "\n",
        "<img src=\"https://helloacm.com/wp-content/uploads/2019/04/sql-joins-venn-diagrams-inner-join.png\"/>\n",
        "\n",
        "The INNER JOIN keyword selects all rows from both tables as long as there is a match between the columns. It gives only the trips pickups in the NYC region.</p>"
      ]
    },
    {
      "cell_type": "code",
      "metadata": {
        "id": "i6B0lpHNv23B",
        "colab_type": "code",
        "colab": {}
      },
      "source": [
        "#Sample showing how INNER JOIN can be done using Big Query.\n",
        "query = \"\"\"\n",
        "with td as(\n",
        "WITH AB AS\n",
        "(\n",
        "SELECT  CAST(tpep_pickup_datetime AS DATETIME) AS PICKUP,* FROM `nyc-taxi-265120.NYC.2019firsthalf` where total_amount>0\n",
        ")  \n",
        "SELECT  PICKUP,CAST(EXTRACT (YEAR from PICKUP) AS STRING) AS year,EXTRACT (DAYOFYEAR from PICKUP) AS daynumber,EXTRACT (HOUR from PICKUP) AS hour, cast(PULocationID as STRING) as LOCATION,COUNT(*) AS numtrips FROM AB group by PICKUP,year,daynumber,hour,LOCATION),points AS\n",
        "(SELECT *,ST_CENTROID(zone_geom) as p FROM `bigquery-public-data.new_york_taxi_trips.taxi_zone_geom`)\n",
        "SELECT cast(DATE(td.PICKUP) as STRING) AS A1,\n",
        "points.zone_id,CAST(TIME(DATETIME_TRUNC(td.PICKUP, HOUR)) as string) rounded_to_hour,\n",
        "SUM(td.numtrips) as label,\n",
        "FROM  td \n",
        "\n",
        "INNER JOIN \n",
        "\n",
        "points ON points.zone_id=td.LOCATION AND\n",
        "eXTRACT (YEAR from PICKUP) =2018 AND td.daynumber<150\n",
        "group by zone_id,A1,rounded_to_hour\n",
        "\"\"\"\n",
        "df1 = client.query(query).to_dataframe()"
      ],
      "execution_count": 0,
      "outputs": []
    },
    {
      "cell_type": "markdown",
      "metadata": {
        "id": "9moTY_6l4mfJ",
        "colab_type": "text"
      },
      "source": [
        "<h4> <b>5.2 Data Wrangling </b></h4>\n",
        "<p align=\"justify\"> Data wrangling which is also referred as data munging.The main moto transform data into a format that is more appropriate and considered more valuable.</p>\n",
        "<b><u> 2018 Data Wrangling</u></b>"
      ]
    },
    {
      "cell_type": "markdown",
      "metadata": {
        "id": "xaFtafDR96ZR",
        "colab_type": "text"
      },
      "source": [
        "<p align=\"justify\">Add columns: year, month, weekday name, and hour using BIg Query</p>"
      ]
    },
    {
      "cell_type": "code",
      "metadata": {
        "id": "cGIx_M6X52hO",
        "colab_type": "code",
        "colab": {}
      },
      "source": [
        "query = \"\"\"\n",
        "with td as(\n",
        "WITH AB AS\n",
        "(\n",
        "SELECT  CAST(tpep_pickup_datetime AS DATETIME) AS PICKUP,* FROM `nyc-taxi-265120.NYC.2018firsthalf` where total_amount>0 and  tpep_pickup_datetime < tpep_dropoff_datetime\n",
        ")  \n",
        "SELECT  PICKUP,CAST(EXTRACT (YEAR from PICKUP) AS STRING) AS year,EXTRACT (DAYOFYEAR from PICKUP) AS daynumber,EXTRACT (HOUR from PICKUP) AS hour, cast(PULocationID as STRING) as LOCATION,COUNT(*) AS numtrips FROM AB group by PICKUP,year,daynumber,hour,LOCATION),points AS\n",
        "(SELECT *,ST_CENTROID(zone_geom) as p FROM `bigquery-public-data.new_york_taxi_trips.taxi_zone_geom`)\n",
        "SELECT \n",
        "cast(DATE(td.PICKUP) as STRING) AS A1,\n",
        "points.zone_id,\n",
        "CAST(TIME(DATETIME_TRUNC(td.PICKUP, HOUR)) as string) rounded_to_hour,\n",
        "SUM(td.numtrips) as label,\n",
        "FROM  td INNER JOIN points ON points.zone_id=td.LOCATION AND\n",
        "eXTRACT (YEAR from PICKUP) =2018 \n",
        "group by zone_id,A1,rounded_to_hour\n",
        "\"\"\"\n",
        "df1 = client.query(query).to_dataframe()"
      ],
      "execution_count": 0,
      "outputs": []
    },
    {
      "cell_type": "code",
      "metadata": {
        "id": "FAi3gi__6RSb",
        "colab_type": "code",
        "colab": {}
      },
      "source": [
        "import pandas as pd\n",
        "df1[\"time\"]=pd.to_datetime(df1['A1'] + ' ' + df1['rounded_to_hour'])\n",
        "a=df1.pivot_table(\"label\", \"time\", \"zone_id\")\n",
        "b=df1.pivot_table(\"label\", \"time\", \"zone_id\").unstack().reset_index()\n",
        "b.rename( columns={0:'pickups'}, inplace=True )\n",
        "b1=b.fillna(0)"
      ],
      "execution_count": 0,
      "outputs": []
    },
    {
      "cell_type": "code",
      "metadata": {
        "id": "_GKceDtdkUZz",
        "colab_type": "code",
        "outputId": "a7774fce-8ee5-4a6b-89e1-a0d83fcb2849",
        "colab": {
          "base_uri": "https://localhost:8080/",
          "height": 195
        }
      },
      "source": [
        "b1.head()"
      ],
      "execution_count": 0,
      "outputs": [
        {
          "output_type": "execute_result",
          "data": {
            "text/html": [
              "<div>\n",
              "<style scoped>\n",
              "    .dataframe tbody tr th:only-of-type {\n",
              "        vertical-align: middle;\n",
              "    }\n",
              "\n",
              "    .dataframe tbody tr th {\n",
              "        vertical-align: top;\n",
              "    }\n",
              "\n",
              "    .dataframe thead th {\n",
              "        text-align: right;\n",
              "    }\n",
              "</style>\n",
              "<table border=\"1\" class=\"dataframe\">\n",
              "  <thead>\n",
              "    <tr style=\"text-align: right;\">\n",
              "      <th></th>\n",
              "      <th>zone_id</th>\n",
              "      <th>time</th>\n",
              "      <th>pickups</th>\n",
              "    </tr>\n",
              "  </thead>\n",
              "  <tbody>\n",
              "    <tr>\n",
              "      <th>0</th>\n",
              "      <td>1</td>\n",
              "      <td>2018-01-01 00:00:00</td>\n",
              "      <td>0.0</td>\n",
              "    </tr>\n",
              "    <tr>\n",
              "      <th>1</th>\n",
              "      <td>1</td>\n",
              "      <td>2018-01-01 01:00:00</td>\n",
              "      <td>0.0</td>\n",
              "    </tr>\n",
              "    <tr>\n",
              "      <th>2</th>\n",
              "      <td>1</td>\n",
              "      <td>2018-01-01 02:00:00</td>\n",
              "      <td>0.0</td>\n",
              "    </tr>\n",
              "    <tr>\n",
              "      <th>3</th>\n",
              "      <td>1</td>\n",
              "      <td>2018-01-01 03:00:00</td>\n",
              "      <td>1.0</td>\n",
              "    </tr>\n",
              "    <tr>\n",
              "      <th>4</th>\n",
              "      <td>1</td>\n",
              "      <td>2018-01-01 04:00:00</td>\n",
              "      <td>3.0</td>\n",
              "    </tr>\n",
              "  </tbody>\n",
              "</table>\n",
              "</div>"
            ],
            "text/plain": [
              "  zone_id                time  pickups\n",
              "0       1 2018-01-01 00:00:00      0.0\n",
              "1       1 2018-01-01 01:00:00      0.0\n",
              "2       1 2018-01-01 02:00:00      0.0\n",
              "3       1 2018-01-01 03:00:00      1.0\n",
              "4       1 2018-01-01 04:00:00      3.0"
            ]
          },
          "metadata": {
            "tags": []
          },
          "execution_count": 9
        }
      ]
    },
    {
      "cell_type": "code",
      "metadata": {
        "id": "Co2RareF67Mq",
        "colab_type": "code",
        "outputId": "4a13c329-3f09-41c4-8c17-3e459907e2b4",
        "colab": {
          "base_uri": "https://localhost:8080/",
          "height": 87
        }
      },
      "source": [
        "from datalab.context import Context\n",
        "#Dont run this\n",
        "\n",
        "b1.to_gbq('hello.2018DataFirsthalf', \n",
        "                 Context.default().project_id,\n",
        "                 chunksize=500000, \n",
        "                 if_exists='append',\n",
        "                 verbose=False\n",
        "                 )"
      ],
      "execution_count": 0,
      "outputs": [
        {
          "output_type": "stream",
          "text": [
            "/usr/local/lib/python3.6/dist-packages/pandas_gbq/gbq.py:1127: FutureWarning: verbose is deprecated and will be removed in a future version. Set logging level in order to vary verbosity\n",
            "  stacklevel=1,\n",
            "3it [00:56, 15.09s/it]\n"
          ],
          "name": "stderr"
        }
      ]
    },
    {
      "cell_type": "code",
      "metadata": {
        "id": "tEG4ITIroG98",
        "colab_type": "code",
        "colab": {}
      },
      "source": [
        "query = \"\"\"\n",
        "with td as(\n",
        "WITH AB AS\n",
        "(\n",
        "SELECT  CAST(tpep_pickup_datetime AS DATETIME) AS PICKUP,* FROM `nyc-taxi-265120.NYC.2018SecondHalf`\n",
        ")  \n",
        "SELECT  PICKUP,CAST(EXTRACT (YEAR from PICKUP) AS STRING) AS year,EXTRACT (DAYOFYEAR from PICKUP) AS daynumber,EXTRACT (HOUR from PICKUP) AS hour, cast(PULocationID as STRING) as LOCATION,COUNT(*) AS numtrips FROM AB group by PICKUP,year,daynumber,hour,LOCATION),points AS\n",
        "(SELECT *,ST_CENTROID(zone_geom) as p FROM `bigquery-public-data.new_york_taxi_trips.taxi_zone_geom`)\n",
        "SELECT \n",
        "cast(DATE(td.PICKUP) as STRING) AS A1,\n",
        "points.zone_id,\n",
        "CAST(TIME(DATETIME_TRUNC(td.PICKUP, HOUR)) as string) rounded_to_hour,\n",
        "SUM(td.numtrips) as label,\n",
        "FROM  td INNER JOIN points ON points.zone_id=td.LOCATION AND\n",
        "eXTRACT (YEAR from PICKUP) =2018 \n",
        "group by zone_id,A1,rounded_to_hour\n",
        "\"\"\"\n",
        "df1 = client.query(query).to_dataframe()"
      ],
      "execution_count": 0,
      "outputs": []
    },
    {
      "cell_type": "code",
      "metadata": {
        "id": "r-iVY1ALoKEL",
        "colab_type": "code",
        "colab": {}
      },
      "source": [
        "import pandas as pd\n",
        "df1[\"time\"]=pd.to_datetime(df1['A1'] + ' ' + df1['rounded_to_hour'])\n",
        "a=df1.pivot_table(\"label\", \"time\", \"zone_id\")\n",
        "b=df1.pivot_table(\"label\", \"time\", \"zone_id\").unstack().reset_index()\n",
        "b.rename( columns={0:'pickups'}, inplace=True )\n",
        "b1=b.fillna(0)"
      ],
      "execution_count": 0,
      "outputs": []
    },
    {
      "cell_type": "code",
      "metadata": {
        "id": "N7enJbtToinm",
        "colab_type": "code",
        "outputId": "fe3d3af1-efc9-41c5-e472-e44abd5dc8c3",
        "colab": {
          "base_uri": "https://localhost:8080/",
          "height": 87
        }
      },
      "source": [
        "from datalab.context import Context\n",
        "#Dont run this\n",
        "\n",
        "b1.to_gbq('hello.2018DataSecondhalf', \n",
        "                 Context.default().project_id,\n",
        "                 chunksize=500000, \n",
        "                 if_exists='append',\n",
        "                 verbose=False\n",
        "                 )"
      ],
      "execution_count": 0,
      "outputs": [
        {
          "output_type": "stream",
          "text": [
            "/usr/local/lib/python3.6/dist-packages/pandas_gbq/gbq.py:1127: FutureWarning: verbose is deprecated and will be removed in a future version. Set logging level in order to vary verbosity\n",
            "  stacklevel=1,\n",
            "3it [00:43, 11.34s/it]\n"
          ],
          "name": "stderr"
        }
      ]
    },
    {
      "cell_type": "markdown",
      "metadata": {
        "id": "292fyVpS5_dg",
        "colab_type": "text"
      },
      "source": [
        "<b><u> 2019 Data Wrangling</u></b>"
      ]
    },
    {
      "cell_type": "code",
      "metadata": {
        "id": "No3BwM0aoswS",
        "colab_type": "code",
        "colab": {}
      },
      "source": [
        "query = \"\"\"\n",
        "with td as(\n",
        "WITH AB AS\n",
        "(\n",
        "SELECT  CAST(tpep_pickup_datetime AS DATETIME) AS PICKUP,* FROM `nyc-taxi-265120.NYC.2019firsthalf`\n",
        ")  \n",
        "SELECT  PICKUP,CAST(EXTRACT (YEAR from PICKUP) AS STRING) AS year,EXTRACT (DAYOFYEAR from PICKUP) AS daynumber,EXTRACT (HOUR from PICKUP) AS hour, cast(PULocationID as STRING) as LOCATION,COUNT(*) AS numtrips FROM AB group by PICKUP,year,daynumber,hour,LOCATION),points AS\n",
        "(SELECT *,ST_CENTROID(zone_geom) as p FROM `bigquery-public-data.new_york_taxi_trips.taxi_zone_geom`)\n",
        "SELECT \n",
        "cast(DATE(td.PICKUP) as STRING) AS A1,\n",
        "points.zone_id,\n",
        "CAST(TIME(DATETIME_TRUNC(td.PICKUP, HOUR)) as string) rounded_to_hour,\n",
        "SUM(td.numtrips) as label,\n",
        "FROM  td INNER JOIN points ON points.zone_id=td.LOCATION AND\n",
        "eXTRACT (YEAR from PICKUP) =2019 \n",
        "group by zone_id,A1,rounded_to_hour\n",
        "\"\"\"\n",
        "df1 = client.query(query).to_dataframe()"
      ],
      "execution_count": 0,
      "outputs": []
    },
    {
      "cell_type": "code",
      "metadata": {
        "id": "w34FiKTMovfd",
        "colab_type": "code",
        "colab": {}
      },
      "source": [
        "import pandas as pd\n",
        "df1[\"time\"]=pd.to_datetime(df1['A1'] + ' ' + df1['rounded_to_hour'])\n",
        "a=df1.pivot_table(\"label\", \"time\", \"zone_id\")\n",
        "b=df1.pivot_table(\"label\", \"time\", \"zone_id\").unstack().reset_index()\n",
        "b.rename( columns={0:'pickups'}, inplace=True )\n",
        "b1=b.fillna(0)"
      ],
      "execution_count": 0,
      "outputs": []
    },
    {
      "cell_type": "code",
      "metadata": {
        "id": "mWABVhkvo-_N",
        "colab_type": "code",
        "outputId": "f1a14a34-dc5e-4076-b1be-0fd728abcde1",
        "colab": {
          "base_uri": "https://localhost:8080/",
          "height": 87
        }
      },
      "source": [
        "from datalab.context import Context\n",
        "#Dont run this\n",
        "\n",
        "b1.to_gbq('hello.2019DataFirsthalf', \n",
        "                 Context.default().project_id,\n",
        "                 chunksize=500000, \n",
        "                 if_exists='append',\n",
        "                 verbose=False\n",
        "                 )"
      ],
      "execution_count": 0,
      "outputs": [
        {
          "output_type": "stream",
          "text": [
            "/usr/local/lib/python3.6/dist-packages/pandas_gbq/gbq.py:1127: FutureWarning: verbose is deprecated and will be removed in a future version. Set logging level in order to vary verbosity\n",
            "  stacklevel=1,\n",
            "3it [00:28,  8.09s/it]\n"
          ],
          "name": "stderr"
        }
      ]
    },
    {
      "cell_type": "code",
      "metadata": {
        "id": "K3DVowv87HhV",
        "colab_type": "code",
        "colab": {}
      },
      "source": [
        "query = \"\"\"\n",
        "with td as(\n",
        "WITH AB AS\n",
        "(\n",
        "SELECT  CAST(tpep_pickup_datetime AS DATETIME) AS PICKUP,* FROM `nyc-taxi-265120.NYC.2019secondhalf`\n",
        ")  \n",
        "SELECT  PICKUP,CAST(EXTRACT (YEAR from PICKUP) AS STRING) AS year,EXTRACT (DAYOFYEAR from PICKUP) AS daynumber,EXTRACT (HOUR from PICKUP) AS hour, cast(PULocationID as STRING) as LOCATION,COUNT(*) AS numtrips FROM AB group by PICKUP,year,daynumber,hour,LOCATION),points AS\n",
        "(SELECT *,ST_CENTROID(zone_geom) as p FROM `bigquery-public-data.new_york_taxi_trips.taxi_zone_geom`)\n",
        "SELECT \n",
        "cast(DATE(td.PICKUP) as STRING) AS A1,\n",
        "points.zone_id,\n",
        "CAST(TIME(DATETIME_TRUNC(td.PICKUP, HOUR)) as string) rounded_to_hour,\n",
        "SUM(td.numtrips) as label,\n",
        "FROM  td INNER JOIN points ON points.zone_id=td.LOCATION AND\n",
        "eXTRACT (YEAR from PICKUP) =2019 \n",
        "group by zone_id,A1,rounded_to_hour\n",
        "\"\"\"\n",
        "df1 = client.query(query).to_dataframe()"
      ],
      "execution_count": 0,
      "outputs": []
    },
    {
      "cell_type": "code",
      "metadata": {
        "id": "GeD71r3Nm1Xx",
        "colab_type": "code",
        "outputId": "a4227e6d-8220-422b-9a95-bfb9ba861fd6",
        "colab": {
          "base_uri": "https://localhost:8080/",
          "height": 195
        }
      },
      "source": [
        "df1.head()"
      ],
      "execution_count": 0,
      "outputs": [
        {
          "output_type": "execute_result",
          "data": {
            "text/html": [
              "<div>\n",
              "<style scoped>\n",
              "    .dataframe tbody tr th:only-of-type {\n",
              "        vertical-align: middle;\n",
              "    }\n",
              "\n",
              "    .dataframe tbody tr th {\n",
              "        vertical-align: top;\n",
              "    }\n",
              "\n",
              "    .dataframe thead th {\n",
              "        text-align: right;\n",
              "    }\n",
              "</style>\n",
              "<table border=\"1\" class=\"dataframe\">\n",
              "  <thead>\n",
              "    <tr style=\"text-align: right;\">\n",
              "      <th></th>\n",
              "      <th>A1</th>\n",
              "      <th>zone_id</th>\n",
              "      <th>rounded_to_hour</th>\n",
              "      <th>label</th>\n",
              "    </tr>\n",
              "  </thead>\n",
              "  <tbody>\n",
              "    <tr>\n",
              "      <th>0</th>\n",
              "      <td>2019-07-16</td>\n",
              "      <td>233</td>\n",
              "      <td>00:00:00</td>\n",
              "      <td>34</td>\n",
              "    </tr>\n",
              "    <tr>\n",
              "      <th>1</th>\n",
              "      <td>2019-10-31</td>\n",
              "      <td>87</td>\n",
              "      <td>00:00:00</td>\n",
              "      <td>64</td>\n",
              "    </tr>\n",
              "    <tr>\n",
              "      <th>2</th>\n",
              "      <td>2019-07-16</td>\n",
              "      <td>141</td>\n",
              "      <td>00:00:00</td>\n",
              "      <td>48</td>\n",
              "    </tr>\n",
              "    <tr>\n",
              "      <th>3</th>\n",
              "      <td>2019-07-17</td>\n",
              "      <td>90</td>\n",
              "      <td>00:00:00</td>\n",
              "      <td>94</td>\n",
              "    </tr>\n",
              "    <tr>\n",
              "      <th>4</th>\n",
              "      <td>2019-07-17</td>\n",
              "      <td>232</td>\n",
              "      <td>00:00:00</td>\n",
              "      <td>14</td>\n",
              "    </tr>\n",
              "  </tbody>\n",
              "</table>\n",
              "</div>"
            ],
            "text/plain": [
              "           A1 zone_id rounded_to_hour  label\n",
              "0  2019-07-16     233        00:00:00     34\n",
              "1  2019-10-31      87        00:00:00     64\n",
              "2  2019-07-16     141        00:00:00     48\n",
              "3  2019-07-17      90        00:00:00     94\n",
              "4  2019-07-17     232        00:00:00     14"
            ]
          },
          "metadata": {
            "tags": []
          },
          "execution_count": 26
        }
      ]
    },
    {
      "cell_type": "code",
      "metadata": {
        "id": "PQVMS3MC7IOB",
        "colab_type": "code",
        "colab": {}
      },
      "source": [
        "import pandas as pd\n",
        "df1[\"time\"]=pd.to_datetime(df1['A1'] + ' ' + df1['rounded_to_hour'])\n",
        "a=df1.pivot_table(\"label\", \"time\", \"zone_id\")\n",
        "b=df1.pivot_table(\"label\", \"time\", \"zone_id\").unstack().reset_index()\n",
        "b.rename( columns={0:'pickups'}, inplace=True )\n",
        "b1=b.fillna(0)"
      ],
      "execution_count": 0,
      "outputs": []
    },
    {
      "cell_type": "code",
      "metadata": {
        "id": "p_PAruy_nz-p",
        "colab_type": "code",
        "outputId": "5a21b087-5fb1-4107-b255-a58bdeb6e434",
        "colab": {
          "base_uri": "https://localhost:8080/",
          "height": 87
        }
      },
      "source": [
        "from datalab.context import Context\n",
        "#Dont run this\n",
        "\n",
        "b1.to_gbq('hello.2019DataSecondhalf', \n",
        "                 Context.default().project_id,\n",
        "                 chunksize=500000, \n",
        "                 if_exists='append',\n",
        "                 verbose=False\n",
        "                 )"
      ],
      "execution_count": 0,
      "outputs": [
        {
          "output_type": "stream",
          "text": [
            "/usr/local/lib/python3.6/dist-packages/pandas_gbq/gbq.py:1127: FutureWarning: verbose is deprecated and will be removed in a future version. Set logging level in order to vary verbosity\n",
            "  stacklevel=1,\n",
            "3it [00:37, 10.32s/it]\n"
          ],
          "name": "stderr"
        }
      ]
    },
    {
      "cell_type": "code",
      "metadata": {
        "id": "ZerHedX97IuE",
        "colab_type": "code",
        "colab": {}
      },
      "source": [
        ""
      ],
      "execution_count": 0,
      "outputs": []
    },
    {
      "cell_type": "markdown",
      "metadata": {
        "id": "a3XRcixH7KAW",
        "colab_type": "text"
      },
      "source": [
        "<b> <u> Taxi Zone Data Visulizations </u></b>"
      ]
    },
    {
      "cell_type": "code",
      "metadata": {
        "id": "7VYvQ4Eb7Tum",
        "colab_type": "code",
        "colab": {}
      },
      "source": [
        "query = \"\"\"\n",
        "WITH ZONE AS (\n",
        "SELECT *,ST_CENTROID(zone_geom) as p FROM `bigquery-public-data.new_york_taxi_trips.taxi_zone_geom`\n",
        ")\n",
        "SELECT * ,ST_X(p) as longitude,\n",
        "  ST_Y(p) as latitude FROM ZONE\n",
        "\n",
        "\"\"\"\n",
        "df = client.query(query).to_dataframe()"
      ],
      "execution_count": 0,
      "outputs": []
    },
    {
      "cell_type": "code",
      "metadata": {
        "id": "74H3gLmJ7U85",
        "colab_type": "code",
        "colab": {}
      },
      "source": [
        "import dask.dataframe as dd\n",
        "import pandas as pd\n",
        "import matplotlib.pyplot as plt\n",
        "import numpy as np\n",
        "import folium\n",
        "from datetime import datetime\n",
        "import time\n",
        "import seaborn as sns\n",
        "import os\n",
        "import math\n",
        "import warnings"
      ],
      "execution_count": 0,
      "outputs": []
    },
    {
      "cell_type": "code",
      "metadata": {
        "id": "buqOZ1c47beu",
        "colab_type": "code",
        "outputId": "66d72192-e962-4f59-bd74-3f55bd220bb9",
        "colab": {
          "base_uri": "https://localhost:8080/",
          "height": 866
        }
      },
      "source": [
        "#detecting the pickups latitude and longitudes which are outside NYC.\n",
        "outside_NYC = df[(df.latitude != 0) | (df.longitude != 0) ]\n",
        "m = folium.Map(location = [40.5774, -73.7004], tiles = \"Stamen Toner\")\n",
        "outside_pickups = outside_NYC.head(25000)\n",
        "for i,j in outside_pickups.iterrows():\n",
        "    if j[\"latitude\"] != 0:\n",
        "        folium.Marker(location=[j[\"latitude\"], j[\"longitude\"]],popup=j[\"zone_name\"]).add_to(m)\n",
        "m"
      ],
      "execution_count": 0,
      "outputs": [
        {
          "output_type": "execute_result",
          "data": {
            "text/html": [
              "<div style=\"width:100%;\"><div style=\"position:relative;width:100%;height:0;padding-bottom:60%;\"><iframe src=\"data:text/html;charset=utf-8;base64,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\" style=\"position:absolute;width:100%;height:100%;left:0;top:0;border:none !important;\" allowfullscreen webkitallowfullscreen mozallowfullscreen></iframe></div></div>"
            ],
            "text/plain": [
              "<folium.folium.Map at 0x7fe78e39c208>"
            ]
          },
          "metadata": {
            "tags": []
          },
          "execution_count": 37
        }
      ]
    },
    {
      "cell_type": "code",
      "metadata": {
        "id": "i4GAZDtbuZZE",
        "colab_type": "code",
        "colab": {}
      },
      "source": [
        "import os\n",
        "os.environ[\"GOOGLE_APPLICATION_CREDENTIALS\"]=\"/content/drive/My Drive/Data Science/nyc-taxi-265120-baf9a3e4cf9b.json\"\n",
        "%reload_ext google.cloud.bigquery"
      ],
      "execution_count": 0,
      "outputs": []
    },
    {
      "cell_type": "code",
      "metadata": {
        "id": "EMpreS3nuks_",
        "colab_type": "code",
        "colab": {}
      },
      "source": [
        "project_id = 'nyc-taxi-265120' \n",
        "from google.cloud import bigquery\n",
        "client = bigquery.Client(project = project_id)"
      ],
      "execution_count": 0,
      "outputs": []
    },
    {
      "cell_type": "code",
      "metadata": {
        "id": "4sjIJ2HivU3-",
        "colab_type": "code",
        "colab": {}
      },
      "source": [
        "query = \"\"\"\n",
        "SELECT  * FROM `hello.2019DataFirsthalf`\n",
        "\"\"\"\n",
        "first_2019 = client.query(query).to_dataframe()"
      ],
      "execution_count": 0,
      "outputs": []
    },
    {
      "cell_type": "code",
      "metadata": {
        "id": "TJR7-g6Aupt9",
        "colab_type": "code",
        "colab": {}
      },
      "source": [
        "query = \"\"\"\n",
        "SELECT  * FROM `hello.2019DataSecondhalf`\n",
        "\"\"\"\n",
        "second_2019 = client.query(query).to_dataframe()"
      ],
      "execution_count": 0,
      "outputs": []
    },
    {
      "cell_type": "code",
      "metadata": {
        "id": "Io5xJkTzvlBV",
        "colab_type": "code",
        "colab": {}
      },
      "source": [
        "\n",
        "query = \"\"\"\n",
        "SELECT  * FROM `hello.2018DataSecondhalf`\n",
        "\"\"\"\n",
        "second_2018 = client.query(query).to_dataframe()"
      ],
      "execution_count": 0,
      "outputs": []
    },
    {
      "cell_type": "code",
      "metadata": {
        "id": "KhQP3D3GvlwU",
        "colab_type": "code",
        "colab": {}
      },
      "source": [
        "query = \"\"\"\n",
        "SELECT  * FROM `hello.2018DataFirsthalf`\n",
        "\"\"\"\n",
        "first_2018 = client.query(query).to_dataframe()"
      ],
      "execution_count": 0,
      "outputs": []
    },
    {
      "cell_type": "code",
      "metadata": {
        "id": "PUiX7H2uu9P1",
        "colab_type": "code",
        "colab": {}
      },
      "source": [
        "import pandas as pd\n",
        "concat=pd.concat([first_2018,second_2018,second_2019,first_2019],ignore_index=True)"
      ],
      "execution_count": 0,
      "outputs": []
    },
    {
      "cell_type": "code",
      "metadata": {
        "id": "PIPBEr6xR7KB",
        "colab_type": "code",
        "colab": {}
      },
      "source": [
        "!pip install datalab"
      ],
      "execution_count": 0,
      "outputs": []
    },
    {
      "cell_type": "code",
      "metadata": {
        "id": "f9e67FlXRXEy",
        "colab_type": "code",
        "outputId": "9d0be651-2b4a-41e4-98b2-855ed06d6a89",
        "colab": {
          "base_uri": "https://localhost:8080/",
          "height": 72
        }
      },
      "source": [
        "from datalab.context import Context\n",
        "#Dont run this\n",
        "\n",
        "concat.to_gbq('hello.CombinedData', \n",
        "                 Context.default().project_id,\n",
        "                 chunksize=500000, \n",
        "                 if_exists='append',\n",
        "                 verbose=False\n",
        "                 )"
      ],
      "execution_count": 0,
      "outputs": [
        {
          "output_type": "stream",
          "text": [
            "/usr/local/lib/python3.6/dist-packages/pandas_gbq/gbq.py:1127: FutureWarning: verbose is deprecated and will be removed in a future version. Set logging level in order to vary verbosity\n",
            "  stacklevel=1,\n",
            "10it [02:25, 14.71s/it]\n"
          ],
          "name": "stderr"
        }
      ]
    },
    {
      "cell_type": "markdown",
      "metadata": {
        "id": "QNSctB6nzQw2",
        "colab_type": "text"
      },
      "source": [
        "<p align=\"justify\"> <b>Finally Data is prepared in a format that can be modelled and explored easily. Also the outliers from Data has been removed. </b>\n",
        "</p>"
      ]
    }
  ]
}