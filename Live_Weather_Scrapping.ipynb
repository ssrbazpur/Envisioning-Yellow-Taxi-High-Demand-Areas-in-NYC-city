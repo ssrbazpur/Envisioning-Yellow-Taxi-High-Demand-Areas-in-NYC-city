{
  "nbformat": 4,
  "nbformat_minor": 0,
  "metadata": {
    "colab": {
      "name": "Weather Scrapping.ipynb",
      "provenance": [],
      "authorship_tag": "ABX9TyOcE3Y/Xc563b2bl4vwnoea",
      "include_colab_link": true
    },
    "kernelspec": {
      "name": "python3",
      "display_name": "Python 3"
    }
  },
  "cells": [
    {
      "cell_type": "markdown",
      "metadata": {
        "id": "view-in-github",
        "colab_type": "text"
      },
      "source": [
        "<a href=\"https://colab.research.google.com/github/ssrbazpur/Envisioning-Yellow-Taxi-High-Demand-Areas-in-NYC-city/blob/master/Live_Weather_Scrapping.ipynb\" target=\"_parent\"><img src=\"https://colab.research.google.com/assets/colab-badge.svg\" alt=\"Open In Colab\"/></a>"
      ]
    },
    {
      "cell_type": "code",
      "metadata": {
        "id": "XRhOWypB6rfL",
        "colab_type": "code",
        "colab": {}
      },
      "source": [
        "from bs4 import BeautifulSoup as bs\n",
        "import requests"
      ],
      "execution_count": 0,
      "outputs": []
    },
    {
      "cell_type": "markdown",
      "metadata": {
        "id": "LqNVFL-X6ukN",
        "colab_type": "text"
      },
      "source": [
        "cHANGE THIS CODE"
      ]
    },
    {
      "cell_type": "code",
      "metadata": {
        "id": "eQLYFFcB6tZV",
        "colab_type": "code",
        "colab": {}
      },
      "source": [
        "USER_AGENT = \"Mozilla/5.0 (X11; Linux x86_64) AppleWebKit/537.36 (KHTML, like Gecko) Chrome/44.0.2403.157 Safari/537.36\"\n",
        "# US english\n",
        "LANGUAGE = \"en-US,en;q=0.5\""
      ],
      "execution_count": 0,
      "outputs": []
    },
    {
      "cell_type": "code",
      "metadata": {
        "id": "-guXhNIf6ijK",
        "colab_type": "code",
        "colab": {}
      },
      "source": [
        "def get_weather_data(url):\n",
        "    session = requests.Session()\n",
        "    session.headers['User-Agent'] = USER_AGENT\n",
        "    session.headers['Accept-Language'] = LANGUAGE\n",
        "    session.headers['Content-Language'] = LANGUAGE\n",
        "    html = session.get(url)\n",
        "    # create a new soup\n",
        "    soup = bs(html.text, \"html.parser\")\n",
        "    # store all results on this dictionary\n",
        "    result = {}\n",
        "    # extract region\n",
        "    result['region'] = soup.find(\"div\", attrs={\"id\": \"wob_loc\"}).text\n",
        "    # extract temperature now\n",
        "    result['temp_now'] = soup.find(\"span\", attrs={\"id\": \"wob_tm\"}).text\n",
        "    # get the day and hour now\n",
        "    result['dayhour'] = soup.find(\"div\", attrs={\"id\": \"wob_dts\"}).text\n",
        "    \n",
        "    # get the actual weather\n",
        "    result['weather_now'] = soup.find(\"span\", attrs={\"id\": \"wob_dc\"}).text\n",
        "    # get the precipitation\n",
        "    result['precipitation'] = soup.find(\"span\", attrs={\"id\": \"wob_pp\"}).text\n",
        "    # get the % of humidity\n",
        "    result['humidity'] = soup.find(\"span\", attrs={\"id\": \"wob_hm\"}).text\n",
        "    # extract the wind\n",
        "    result['wind'] = soup.find(\"span\", attrs={\"id\": \"wob_ws\"}).text\n",
        "    # get next few days' weather\n",
        "    next_days = []\n",
        "    days = soup.find(\"div\", attrs={\"id\": \"wob_dp\"})\n",
        "    for day in days.findAll(\"div\", attrs={\"class\": \"wob_df\"}):\n",
        "        # extract the name of the day\n",
        "        day_name = day.find(\"div\", attrs={\"class\": \"vk_lgy\"}).attrs['aria-label']\n",
        "        # get weather status for that day\n",
        "        weather = day.find(\"img\").attrs[\"alt\"]\n",
        "        temp = day.findAll(\"span\", {\"class\": \"wob_t\"})\n",
        "        # maximum temparature in Celsius, use temp[1].text if you want fahrenheit\n",
        "        max_temp = temp[1].text\n",
        "        # minimum temparature in Celsius, use temp[3].text if you want fahrenheit\n",
        "        min_temp = temp[3].text\n",
        "        next_days.append({\"name\": day_name, \"weather\": weather, \"max_temp\": max_temp, \"min_temp\": min_temp})\n",
        "    # append to result\n",
        "    result['next_days'] = next_days\n",
        "    return result\n"
      ],
      "execution_count": 0,
      "outputs": []
    },
    {
      "cell_type": "code",
      "metadata": {
        "id": "K1e6JT8PGLEg",
        "colab_type": "code",
        "colab": {
          "base_uri": "https://localhost:8080/",
          "height": 229
        },
        "outputId": "f5c09159-444d-46ab-ab96-b171ffbd5724"
      },
      "source": [
        "#Storing to Google Cloud Platform\n",
        "project_id = 'nyc-taxi-265120' #@param{type:\"string\"}\n",
        "y2018_part1.to_gbq('NYC.2018firsthalf', \n",
        "                 Context.default().project_id,\n",
        "                 chunksize=500000, \n",
        "                 if_exists='append',\n",
        "                 verbose=False\n",
        "                 )"
      ],
      "execution_count": 8,
      "outputs": [
        {
          "output_type": "error",
          "ename": "NameError",
          "evalue": "ignored",
          "traceback": [
            "\u001b[0;31m---------------------------------------------------------------------------\u001b[0m",
            "\u001b[0;31mNameError\u001b[0m                                 Traceback (most recent call last)",
            "\u001b[0;32m<ipython-input-8-144e7feaeaf3>\u001b[0m in \u001b[0;36m<module>\u001b[0;34m()\u001b[0m\n\u001b[1;32m      1\u001b[0m \u001b[0mproject_id\u001b[0m \u001b[0;34m=\u001b[0m \u001b[0;34m'nyc-taxi-265120'\u001b[0m \u001b[0;31m#@param{type:\"string\"}\u001b[0m\u001b[0;34m\u001b[0m\u001b[0;34m\u001b[0m\u001b[0m\n\u001b[0;32m----> 2\u001b[0;31m y2018_part1.to_gbq('NYC.2018firsthalf', \n\u001b[0m\u001b[1;32m      3\u001b[0m                  \u001b[0mContext\u001b[0m\u001b[0;34m.\u001b[0m\u001b[0mdefault\u001b[0m\u001b[0;34m(\u001b[0m\u001b[0;34m)\u001b[0m\u001b[0;34m.\u001b[0m\u001b[0mproject_id\u001b[0m\u001b[0;34m,\u001b[0m\u001b[0;34m\u001b[0m\u001b[0;34m\u001b[0m\u001b[0m\n\u001b[1;32m      4\u001b[0m                  \u001b[0mchunksize\u001b[0m\u001b[0;34m=\u001b[0m\u001b[0;36m500000\u001b[0m\u001b[0;34m,\u001b[0m\u001b[0;34m\u001b[0m\u001b[0;34m\u001b[0m\u001b[0m\n\u001b[1;32m      5\u001b[0m                  \u001b[0mif_exists\u001b[0m\u001b[0;34m=\u001b[0m\u001b[0;34m'append'\u001b[0m\u001b[0;34m,\u001b[0m\u001b[0;34m\u001b[0m\u001b[0;34m\u001b[0m\u001b[0m\n",
            "\u001b[0;31mNameError\u001b[0m: name 'y2018_part1' is not defined"
          ]
        }
      ]
    },
    {
      "cell_type": "code",
      "metadata": {
        "id": "9RI1wBT56ogk",
        "colab_type": "code",
        "colab": {}
      },
      "source": [
        "region=\"New York\"\n",
        "URL=\"https://www.google.com/search?lr=lang_en&ie=UTF-8&q=weather\"\n",
        "URL += region\n",
        "# get data\n",
        "data = get_weather_data(URL)"
      ],
      "execution_count": 0,
      "outputs": []
    },
    {
      "cell_type": "markdown",
      "metadata": {
        "id": "e9Pi_RfxGkXy",
        "colab_type": "text"
      },
      "source": [
        "<p> Scrapped Data set in JSON format </p>"
      ]
    },
    {
      "cell_type": "code",
      "metadata": {
        "id": "VYwJi6uzGPaS",
        "colab_type": "code",
        "colab": {
          "base_uri": "https://localhost:8080/",
          "height": 571
        },
        "outputId": "752eaeea-86b4-42bd-d9a3-976d7e89e171"
      },
      "source": [
        "data"
      ],
      "execution_count": 13,
      "outputs": [
        {
          "output_type": "execute_result",
          "data": {
            "text/plain": [
              "{'dayhour': 'Thursday 5:00 AM',\n",
              " 'humidity': '74%',\n",
              " 'next_days': [{'max_temp': '13',\n",
              "   'min_temp': '4',\n",
              "   'name': 'Thursday',\n",
              "   'weather': 'Mostly sunny'},\n",
              "  {'max_temp': '18',\n",
              "   'min_temp': '7',\n",
              "   'name': 'Friday',\n",
              "   'weather': 'Scattered showers'},\n",
              "  {'max_temp': '11', 'min_temp': '8', 'name': 'Saturday', 'weather': 'Rain'},\n",
              "  {'max_temp': '15', 'min_temp': '9', 'name': 'Sunday', 'weather': 'Rain'},\n",
              "  {'max_temp': '16',\n",
              "   'min_temp': '6',\n",
              "   'name': 'Monday',\n",
              "   'weather': 'Partly cloudy'},\n",
              "  {'max_temp': '14',\n",
              "   'min_temp': '7',\n",
              "   'name': 'Tuesday',\n",
              "   'weather': 'Partly cloudy'},\n",
              "  {'max_temp': '11',\n",
              "   'min_temp': '7',\n",
              "   'name': 'Wednesday',\n",
              "   'weather': 'Showers'},\n",
              "  {'max_temp': '13',\n",
              "   'min_temp': '7',\n",
              "   'name': 'Thursday',\n",
              "   'weather': 'Showers'}],\n",
              " 'precipitation': '0%',\n",
              " 'region': 'New York, NY',\n",
              " 'temp_now': '39',\n",
              " 'weather_now': 'Clear',\n",
              " 'wind': '3 mph'}"
            ]
          },
          "metadata": {
            "tags": []
          },
          "execution_count": 13
        }
      ]
    },
    {
      "cell_type": "code",
      "metadata": {
        "id": "U_pObWgAGQgU",
        "colab_type": "code",
        "colab": {}
      },
      "source": [
        ""
      ],
      "execution_count": 0,
      "outputs": []
    }
  ]
}