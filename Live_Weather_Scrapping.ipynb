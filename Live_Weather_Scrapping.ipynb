{
  "nbformat": 4,
  "nbformat_minor": 0,
  "metadata": {
    "colab": {
      "name": "Weather Scrapping.ipynb",
      "provenance": [],
      "authorship_tag": "ABX9TyOhy4QzauruNt3I9tYdY4Ie",
      "include_colab_link": true
    },
    "kernelspec": {
      "name": "python3",
      "display_name": "Python 3"
    }
  },
  "cells": [
    {
      "cell_type": "markdown",
      "metadata": {
        "id": "view-in-github",
        "colab_type": "text"
      },
      "source": [
        "<a href=\"https://colab.research.google.com/github/ssrbazpur/Envisioning-Yellow-Taxi-High-Demand-Areas-in-NYC-city/blob/master/Live_Weather_Scrapping.ipynb\" target=\"_parent\"><img src=\"https://colab.research.google.com/assets/colab-badge.svg\" alt=\"Open In Colab\"/></a>"
      ]
    },
    {
      "cell_type": "code",
      "metadata": {
        "id": "XRhOWypB6rfL",
        "colab_type": "code",
        "colab": {}
      },
      "source": [
        "#_________BeautifulSoup___________\n",
        "\n",
        "from bs4 import BeautifulSoup as bs\n",
        "import requests"
      ],
      "execution_count": 0,
      "outputs": []
    },
    {
      "cell_type": "code",
      "metadata": {
        "id": "eQLYFFcB6tZV",
        "colab_type": "code",
        "colab": {}
      },
      "source": [
        "#_________Setting User Agent and Language______________\n",
        "agent = \"Mozilla/5.0 (X11; Linux x86_64) AppleWebKit/537.36 (KHTML, like Gecko) Chrome/44.0.2403.157 Safari/537.36\"\n",
        "lang = \"en-US,en;q=0.5\""
      ],
      "execution_count": 0,
      "outputs": []
    },
    {
      "cell_type": "code",
      "metadata": {
        "id": "-guXhNIf6ijK",
        "colab_type": "code",
        "colab": {}
      },
      "source": [
        "def weatherscrape(url):\n",
        "    ##_____Making a Session____________\n",
        "    session = requests.Session()\n",
        "    session.headers['User-Agent'] = agent\n",
        "    session.headers['Accept-Language'] = lang\n",
        "    session.headers['Content-Language'] = lang\n",
        "    ##______Get Session_________\n",
        "    html = session.get(url)\n",
        "    ans = {}\n",
        "    soup = bs(html.text, \"html.parser\")\n",
        "    #__Scrapping__\n",
        "    ans['dayhour'] = soup.find(\"div\", attrs={\"id\": \"wob_dts\"}).text\n",
        "    ans['region'] = soup.find(\"div\", attrs={\"id\": \"wob_loc\"}).text\n",
        "    ans['weather_now'] = soup.find(\"span\", attrs={\"id\": \"wob_dc\"}).text\n",
        "    ans['precipitation'] = soup.find(\"span\", attrs={\"id\": \"wob_pp\"}).text\n",
        "    ans['humidity'] = soup.find(\"span\", attrs={\"id\": \"wob_hm\"}).text\n",
        "    ans['temp_now'] = soup.find(\"span\", attrs={\"id\": \"wob_tm\"}).text\n",
        "    ans['wind'] = soup.find(\"span\", attrs={\"id\": \"wob_ws\"}).text\n",
        "    dayn = []\n",
        "    days = soup.find(\"div\", attrs={\"id\": \"wob_dp\"})\n",
        "    for day in days.findAll(\"div\", attrs={\"class\": \"wob_df\"}):\n",
        "        # extract the name of the day\n",
        "        day_name = day.find(\"div\", attrs={\"class\": \"vk_lgy\"}).attrs['aria-label']\n",
        "        # get weather status for that day\n",
        "        weather = day.find(\"img\").attrs[\"alt\"]\n",
        "        temp = day.findAll(\"span\", {\"class\": \"wob_t\"}) \n",
        "        max_temp = temp[1].text\n",
        "        min_temp = temp[3].text\n",
        "        dayn.append({\"name\": day_name, \"weather\": weather, \"max_temp\": max_temp, \"min_temp\": min_temp})\n",
        "    # append to ans\n",
        "    ans['dayn'] = dayn\n",
        "    return ans\n"
      ],
      "execution_count": 0,
      "outputs": []
    },
    {
      "cell_type": "code",
      "metadata": {
        "id": "9RI1wBT56ogk",
        "colab_type": "code",
        "colab": {}
      },
      "source": [
        "region=\"New York\"\n",
        "URL=\"https://www.google.com/search?lr=lang_en&ie=UTF-8&q=weather\"\n",
        "URL += region\n",
        "data = weatherscrape(URL)"
      ],
      "execution_count": 0,
      "outputs": []
    },
    {
      "cell_type": "markdown",
      "metadata": {
        "id": "e9Pi_RfxGkXy",
        "colab_type": "text"
      },
      "source": [
        "<p><b> Scrapped Data set in JSON format</b> </p>"
      ]
    },
    {
      "cell_type": "code",
      "metadata": {
        "id": "VYwJi6uzGPaS",
        "colab_type": "code",
        "outputId": "2781e1af-3e8f-45a1-9683-7621bc0bb6e4",
        "colab": {
          "base_uri": "https://localhost:8080/",
          "height": 571
        }
      },
      "source": [
        "data"
      ],
      "execution_count": 6,
      "outputs": [
        {
          "output_type": "execute_result",
          "data": {
            "text/plain": [
              "{'dayhour': 'Thursday 9:00 PM',\n",
              " 'dayn': [{'max_temp': '14',\n",
              "   'min_temp': '8',\n",
              "   'name': 'Thursday',\n",
              "   'weather': 'Scattered showers'},\n",
              "  {'max_temp': '18',\n",
              "   'min_temp': '7',\n",
              "   'name': 'Friday',\n",
              "   'weather': 'Partly cloudy'},\n",
              "  {'max_temp': '10', 'min_temp': '8', 'name': 'Saturday', 'weather': 'Rain'},\n",
              "  {'max_temp': '14', 'min_temp': '10', 'name': 'Sunday', 'weather': 'Showers'},\n",
              "  {'max_temp': '17',\n",
              "   'min_temp': '7',\n",
              "   'name': 'Monday',\n",
              "   'weather': 'Partly cloudy'},\n",
              "  {'max_temp': '12',\n",
              "   'min_temp': '6',\n",
              "   'name': 'Tuesday',\n",
              "   'weather': 'Partly cloudy'},\n",
              "  {'max_temp': '12',\n",
              "   'min_temp': '6',\n",
              "   'name': 'Wednesday',\n",
              "   'weather': 'Showers'},\n",
              "  {'max_temp': '14',\n",
              "   'min_temp': '6',\n",
              "   'name': 'Thursday',\n",
              "   'weather': 'Partly cloudy'}],\n",
              " 'humidity': '74%',\n",
              " 'precipitation': '15%',\n",
              " 'region': 'New York, NY',\n",
              " 'temp_now': '48',\n",
              " 'weather_now': 'Clear',\n",
              " 'wind': '3 mph'}"
            ]
          },
          "metadata": {
            "tags": []
          },
          "execution_count": 6
        }
      ]
    },
    {
      "cell_type": "code",
      "metadata": {
        "id": "U_pObWgAGQgU",
        "colab_type": "code",
        "colab": {}
      },
      "source": [
        ""
      ],
      "execution_count": 0,
      "outputs": []
    }
  ]
}